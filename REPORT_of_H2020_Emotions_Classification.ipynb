{
  "nbformat": 4,
  "nbformat_minor": 0,
  "metadata": {
    "colab": {
      "name": "REPORT of H2020_Emotions_Classification.ipynb",
      "provenance": [],
      "collapsed_sections": []
    },
    "kernelspec": {
      "name": "python3",
      "display_name": "Python 3"
    },
    "accelerator": "TPU"
  },
  "cells": [
    {
      "cell_type": "markdown",
      "metadata": {
        "id": "CjWvnaQUrZmD",
        "colab_type": "text"
      },
      "source": [
        "# Emotion classification from a multimodel Speech/Body-Joint-Movments dataset"
      ]
    },
    {
      "cell_type": "markdown",
      "metadata": {
        "id": "ldtHMhuLrewK",
        "colab_type": "text"
      },
      "source": [
        "***Data***\n",
        "\n",
        "We created an Audio/Body-Joint-Movement signals Dataset and labelled according to emotional status of the observation subjects. This data was fed into an experiment to demonstrate the process of the data-processing and machine learning models building. The dataset contains about 1300 files and eaxh file was rated emotional validity, intensity, and genuineness by the domain-experts.\n",
        "\n",
        "Each file was labelled by 14 digits which helps us identify and trace back the characteristics: modality (01 = body-movement, 02 = audio), emotion (01 = neutral, 02 = calm, 03 = happy, 04 = sad, 05 = angry, 06 = fearful, 07 = disgust, 08 = surprised), emotional intensity (01 = normal, 02 = strong), statement (01 = “Scenario-1”, 02 = “Scenarios-2”), repetition (01 = 1st repetition, 02 = 2nd repetition), data-collection-type (01=male, 02=female, 03=English-as 1st language, 04=other-language, 05=collecting mode).\n",
        "\n",
        "***Experimet***\n",
        "\n",
        "For this experiment, we have extracted 28 features from the audio from each file and 9 features from the body-joint-movement signals that I shall explain further down.  \n",
        "\n",
        "***Theory and Rationale***\n",
        "\n",
        "We will offer a multimodel approach: - Audio-Visual features analysis for mental status classification. Research and the panel of experts of our consortium accept and consider this approach. Multimodal observations combinations have complementary effects and from a data science viewpoint, this approach will increase machine learning model accuracy [A]. The challenge in multimodal feature learning is how and at what stage to fuse data from multiple modalities. This challenge is complicated by the high dimensionality of raw data, differing temporal resolutions, and differing temporal dynamics across modalities.Surveys on the general problem of sensor fusion [B] and speciﬁcally on fusion for affect recognition [C], [D] are available. Fusion can be achieved at early model stages close to the raw sensor data, or at a later stage by combining independent models. In early or feature-level fusion, features are extracted independently and then concatenated for further learning of a joint feature representation; this allows the model to capture correlations between the modalities. Late or decision-level fusion aggregates the results of independent recognition models. The literature generally reports that decision-level fusion works better for affect recognition given the datasets and models currently used [E]. While decision-level fusion typically only involves simple score weighing, feature-level fusion is a representation learning task that may beneﬁt from deep learning. \n",
        "\n",
        "In Audio-Visual observations combination there are two common approaches; in approach-1 reseachers took facial expressions while in approach-2 researchers took body-part-movement expressions with speech to study mental-status. In the feature-level fusion with neural networks approach, joint feature representations are learned without considering the temporal context for fusion. For both modalities, body-part-movement features are extracted using FER and SER methods that may involve both handcrafted and deep features (see Sections 3.1 and 3.2). A fully connected DNN, typically initialized via unsupervised pretraining, then learns a high-level joint feature representation of both modalities as an improvement over “shallow” feature fusion. Kim et al. [F] demonstrated how this can be achieved with DBNs. This approach is feasible especially in cases where the goal is to label each body-movement with one affective state. Alternatively, joint feature representations can be learned at the frame level, and then aggregated to the together. [G] used a DBN to fuse frame-level audio-visual features learned independently via CNNs; the learned features are average pooled for classiﬁcation at the body-movemet level and lead to an improvement over state-of-the-art methods. Feature-level fusion with RNNs (J2 in Fig. 6). Especially when predictions are required at the frame level for dimensional affective states, feature-level fusion could beneﬁt by taking into account the temporal context. Modeling via RNNs makes this possible, potentially improving model robustness and helping to deal with temporal lags between modalities [H]\n",
        "\n",
        "This preliminary experiment reported that dynamic feature fusion can lead to performance improvements compared to simpler fusion strategies. However, several other studies based on handcrafted features found that decision-level fusion on top of individual LSTM models leads to better performance.\n",
        "\n",
        "Learning from raw audio-visual data with two CNNs, Tzirakis et al. [I] used a two-layer LSTM network for feature fusion, which was found to outperform the state of the art.\n",
        "\n",
        "##### [A] ***Z. Zeng, M. Pantic, G. I. Roisman, and T. S. Huang, “A survey of affect recognition methods: Audio, visual, and spontaneous expressions,” IEEE Trans. Pattern Anal. Mach. Intell., vol. 31, no. 1, pp. 39–58, 2009.***\n",
        "##### [B] ***F.Lingenfelser,J.Wagner,andE.Andr´e,“Asystematicdiscussion of fusion techniques for multi-modal affect recognition tasks,” in Proc. Int. Conf. Multimodal Interact., 2011, pp. 19–26.***\n",
        "##### [C] ***S. K. D’Mello and J. Kory, “A review and meta-analysis of multimodal affect detection systems,” ACM Comput. Surveys, vol. 47, no. 3, p. 43, 2015.***\n",
        "##### [D} ***S. Poria, E. Cambria, R. Bajpai, and A. Hussain, “A review of affective computing: From unimodal analysis to multimodal fusion,” Inf. Fusion, vol. 37, pp. 98–125, 2017***\n",
        "##### [E] ***F.Ringeval,F.Eyben,E.Kroupi,A.Yuce,J.-P.Thiran,T.Ebrahimi, D. Lalanne, and B. Schuller, “Prediction of asynchronous dimensional emotion ratings from audio-visual and physiological data,” Pattern Recognit. Lett., vol. 66, pp. 22–30, 2015***\n",
        "##### [F] ***H. Ranganathan, S. Chakraborty, and S. Panchanathan, “Multimodal emotion recognition using deep learning architectures,” in Proc. Winter Conf. Appl. Comput. Vision, 2016, pp. 1–9***\n",
        "##### [G} ***S. Zhang, S. Zhang, T. Huang, W. Gao, and Q. Tian, “Learning affective features with a hybrid deep model for audio-visual emotion recognition,” IEEE Trans. Circuits Syst. Video Technol., 2017***\n",
        "##### [H] ***F. Lingenfelser, J. Wagner, J. Deng, R. Bruckner, B. Schuller, and E. Andre, “Asynchronous and event-based fusion systems for affect recognition on naturalistic data in comparison to conventional approaches,” IEEE Trans. Affect. Comput., 2016***\n",
        "##### [I} ***P. Tzirakis, G. Trigeorgis, M. A. Nicolaou, B. Schuller, and S. Zafeiriou, “End-to-end multimodal emotion recognition using deep neural networks,” IEEE J. Sel. Top. Signal Process., vol. 11, no. 8, pp. 1301–1309, 2017.***\n",
        "\n",
        "![alt text](https://drive.google.com/uc?id=1q0hGl0lcM5JuUskS1VaXvSAk3vOn4giV)\n",
        "\n",
        "\n",
        "\n"
      ]
    },
    {
      "cell_type": "markdown",
      "metadata": {
        "id": "JDNbxj45rkvB",
        "colab_type": "text"
      },
      "source": [
        "# Analysis\n",
        "\n",
        "We are using Colab, a Google Cloud environment for jupyter, so we need to import our files from Google Drive and then install LibROSA, a python package for music and audio analysis.\n",
        "\n",
        "After the import, we will plot the signal of the first file."
      ]
    },
    {
      "cell_type": "code",
      "metadata": {
        "id": "N-o2JI49WBAe",
        "colab_type": "code",
        "colab": {
          "base_uri": "https://localhost:8080/",
          "height": 122
        },
        "outputId": "b03278af-8d72-435e-bf24-dce838e6b61a"
      },
      "source": [
        "from google.colab import drive\n",
        "drive.mount('/content/drive')"
      ],
      "execution_count": null,
      "outputs": [
        {
          "output_type": "stream",
          "text": [
            "Go to this URL in a browser: https://accounts.google.com/o/oauth2/auth?client_id=947318989803-6bn6qk8qdgf4n4g3pfee6491hc0brc4i.apps.googleusercontent.com&redirect_uri=urn%3aietf%3awg%3aoauth%3a2.0%3aoob&response_type=code&scope=email%20https%3a%2f%2fwww.googleapis.com%2fauth%2fdocs.test%20https%3a%2f%2fwww.googleapis.com%2fauth%2fdrive%20https%3a%2f%2fwww.googleapis.com%2fauth%2fdrive.photos.readonly%20https%3a%2f%2fwww.googleapis.com%2fauth%2fpeopleapi.readonly\n",
            "\n",
            "Enter your authorization code:\n",
            "··········\n",
            "Mounted at /content/drive\n"
          ],
          "name": "stdout"
        }
      ]
    },
    {
      "cell_type": "code",
      "metadata": {
        "id": "EgFwaDhMbJVm",
        "colab_type": "code",
        "colab": {
          "base_uri": "https://localhost:8080/",
          "height": 221
        },
        "outputId": "ce77b29f-0f0c-447e-ce10-bbcce086c555"
      },
      "source": [
        "!pip install librosa"
      ],
      "execution_count": null,
      "outputs": [
        {
          "output_type": "stream",
          "text": [
            "Requirement already satisfied: librosa in /usr/local/lib/python3.6/dist-packages (0.6.3)\n",
            "Requirement already satisfied: scikit-learn!=0.19.0,>=0.14.0 in /usr/local/lib/python3.6/dist-packages (from librosa) (0.22.2.post1)\n",
            "Requirement already satisfied: resampy>=0.2.0 in /usr/local/lib/python3.6/dist-packages (from librosa) (0.2.2)\n",
            "Requirement already satisfied: audioread>=2.0.0 in /usr/local/lib/python3.6/dist-packages (from librosa) (2.1.8)\n",
            "Requirement already satisfied: decorator>=3.0.0 in /usr/local/lib/python3.6/dist-packages (from librosa) (4.4.2)\n",
            "Requirement already satisfied: scipy>=1.0.0 in /usr/local/lib/python3.6/dist-packages (from librosa) (1.4.1)\n",
            "Requirement already satisfied: joblib>=0.12 in /usr/local/lib/python3.6/dist-packages (from librosa) (0.14.1)\n",
            "Requirement already satisfied: six>=1.3 in /usr/local/lib/python3.6/dist-packages (from librosa) (1.12.0)\n",
            "Requirement already satisfied: numpy>=1.8.0 in /usr/local/lib/python3.6/dist-packages (from librosa) (1.18.2)\n",
            "Requirement already satisfied: numba>=0.38.0 in /usr/local/lib/python3.6/dist-packages (from librosa) (0.47.0)\n",
            "Requirement already satisfied: setuptools in /usr/local/lib/python3.6/dist-packages (from numba>=0.38.0->librosa) (46.0.0)\n",
            "Requirement already satisfied: llvmlite>=0.31.0dev0 in /usr/local/lib/python3.6/dist-packages (from numba>=0.38.0->librosa) (0.31.0)\n"
          ],
          "name": "stdout"
        }
      ]
    },
    {
      "cell_type": "code",
      "metadata": {
        "id": "tp6tLgwNMqXf",
        "colab_type": "code",
        "colab": {
          "base_uri": "https://localhost:8080/",
          "height": 34
        },
        "outputId": "181c2e8b-5f87-4c8a-90e5-243ece631810"
      },
      "source": [
        "%cd /content/drive/My Drive/Voice Analytics/Emotion-Classification-Ravdess-master"
      ],
      "execution_count": null,
      "outputs": [
        {
          "output_type": "stream",
          "text": [
            "/content/drive/My Drive/Voice Analytics/Emotion-Classification-Ravdess-master\n"
          ],
          "name": "stdout"
        }
      ]
    },
    {
      "cell_type": "code",
      "metadata": {
        "id": "rxI4xzngdS-e",
        "colab_type": "code",
        "colab": {}
      },
      "source": [
        "import librosa\n",
        "from librosa import display\n",
        "data, sampling_rate = librosa.load('01-01-01-01-01-01-01.wav')"
      ],
      "execution_count": null,
      "outputs": []
    },
    {
      "cell_type": "code",
      "metadata": {
        "id": "WgaSHtCIdtX2",
        "colab_type": "code",
        "colab": {
          "base_uri": "https://localhost:8080/",
          "height": 364
        },
        "outputId": "9f8245f8-a4fb-406a-dd59-ba7956acdafc"
      },
      "source": [
        "% pylab inline\n",
        "import os\n",
        "import pandas as pd\n",
        "import glob \n",
        "\n",
        "plt.figure(figsize=(12, 4))\n",
        "librosa.display.waveplot(data, sr=sampling_rate)"
      ],
      "execution_count": null,
      "outputs": [
        {
          "output_type": "stream",
          "text": [
            "Populating the interactive namespace from numpy and matplotlib\n"
          ],
          "name": "stdout"
        },
        {
          "output_type": "stream",
          "text": [
            "/usr/local/lib/python3.6/dist-packages/IPython/core/magics/pylab.py:161: UserWarning: pylab import has clobbered these variables: ['display']\n",
            "`%matplotlib` prevents importing * from pylab and numpy\n",
            "  \"\\n`%matplotlib` prevents importing * from pylab and numpy\"\n"
          ],
          "name": "stderr"
        },
        {
          "output_type": "execute_result",
          "data": {
            "text/plain": [
              "<matplotlib.collections.PolyCollection at 0x7f6bea2b1ac8>"
            ]
          },
          "metadata": {
            "tags": []
          },
          "execution_count": 5
        },
        {
          "output_type": "display_data",
          "data": {
            "image/png": "[encoded data removed]",
            "text/plain": [
              "<Figure size 864x288 with 1 Axes>"
            ]
          },
          "metadata": {
            "tags": []
          }
        }
      ]
    },
    {
      "cell_type": "code",
      "metadata": {
        "id": "bmiWmwaFyFL1",
        "colab_type": "code",
        "colab": {
          "base_uri": "https://localhost:8080/",
          "height": 296
        },
        "outputId": "81132f39-9a5c-4c29-e036-ccbd1876da3e"
      },
      "source": [
        "Xtra = librosa.stft(data)\n",
        "Xdb = librosa.amplitude_to_db(abs(Xtra))\n",
        "plt.figure(figsize=(12, 4))\n",
        "librosa.display.specshow(Xdb, sr=sampling_rate, x_axis='time', y_axis='log')"
      ],
      "execution_count": null,
      "outputs": [
        {
          "output_type": "execute_result",
          "data": {
            "text/plain": [
              "<matplotlib.axes._subplots.AxesSubplot at 0x7f6bea2b5668>"
            ]
          },
          "metadata": {
            "tags": []
          },
          "execution_count": 6
        },
        {
          "output_type": "display_data",
          "data": {
            "image/png": "[encoded data removed]",
            "text/plain": [
              "<Figure size 864x288 with 1 Axes>"
            ]
          },
          "metadata": {
            "tags": []
          }
        }
      ]
    },
    {
      "cell_type": "code",
      "metadata": {
        "id": "h7pw9TtD0oz1",
        "colab_type": "code",
        "colab": {
          "base_uri": "https://localhost:8080/",
          "height": 296
        },
        "outputId": "e931ae45-cd8d-499f-9f9f-efa7160aa815"
      },
      "source": [
        "import sklearn\n",
        "spectral_centroids = librosa.feature.spectral_centroid(data, sr=sampling_rate)[0]\n",
        "spectral_centroids.shape\n",
        "(775,)\n",
        "# Computing the time variable for visualization\n",
        "plt.figure(figsize=(12, 4))\n",
        "frames = range(len(spectral_centroids))\n",
        "t = librosa.frames_to_time(frames)\n",
        "# Normalising the spectral centroid for visualisation\n",
        "def normalize(x, axis=0):\n",
        "    return sklearn.preprocessing.minmax_scale(x, axis=axis)\n",
        "#Plotting the Spectral Centroid along the waveform\n",
        "librosa.display.waveplot(data, sr=sampling_rate, alpha=0.4)\n",
        "plt.plot(t, normalize(spectral_centroids), color='b')"
      ],
      "execution_count": null,
      "outputs": [
        {
          "output_type": "execute_result",
          "data": {
            "text/plain": [
              "[<matplotlib.lines.Line2D at 0x7f6be9dc2400>]"
            ]
          },
          "metadata": {
            "tags": []
          },
          "execution_count": 7
        },
        {
          "output_type": "display_data",
          "data": {
            "image/png": "[encoded data removed]",
            "text/plain": [
              "<Figure size 864x288 with 1 Axes>"
            ]
          },
          "metadata": {
            "tags": []
          }
        }
      ]
    },
    {
      "cell_type": "code",
      "metadata": {
        "id": "eO78isBk1UVs",
        "colab_type": "code",
        "colab": {
          "base_uri": "https://localhost:8080/",
          "height": 296
        },
        "outputId": "005a0390-662a-4a23-9d28-bc5b9981746d"
      },
      "source": [
        "spectral_rolloff = librosa.feature.spectral_rolloff(data+0.01, sr=sampling_rate)[0]\n",
        "plt.figure(figsize=(12, 4))\n",
        "librosa.display.waveplot(data, sr=sampling_rate, alpha=0.4)\n",
        "plt.plot(t, normalize(spectral_rolloff), color='r')"
      ],
      "execution_count": null,
      "outputs": [
        {
          "output_type": "execute_result",
          "data": {
            "text/plain": [
              "[<matplotlib.lines.Line2D at 0x7f6be852cf98>]"
            ]
          },
          "metadata": {
            "tags": []
          },
          "execution_count": 8
        },
        {
          "output_type": "display_data",
          "data": {
            "image/png": "[encoded data removed]",
            "text/plain": [
              "<Figure size 864x288 with 1 Axes>"
            ]
          },
          "metadata": {
            "tags": []
          }
        }
      ]
    },
    {
      "cell_type": "code",
      "metadata": {
        "id": "ms1tSrLh1qyF",
        "colab_type": "code",
        "colab": {
          "base_uri": "https://localhost:8080/",
          "height": 568
        },
        "outputId": "63f7ebda-9ace-4c0c-d69f-57c99347c292"
      },
      "source": [
        "spectral_bandwidth_2 = librosa.feature.spectral_bandwidth(data+0.01, sr=sampling_rate)[0]\n",
        "spectral_bandwidth_3 = librosa.feature.spectral_bandwidth(data+0.01, sr=sampling_rate, p=3)[0]\n",
        "spectral_bandwidth_4 = librosa.feature.spectral_bandwidth(data+0.01, sr=sampling_rate, p=4)[0]\n",
        "plt.figure(figsize=(15, 9))\n",
        "librosa.display.waveplot(data, sr=sampling_rate, alpha=0.4)\n",
        "plt.plot(t, normalize(spectral_bandwidth_2), color='r')\n",
        "plt.plot(t, normalize(spectral_bandwidth_3), color='g')\n",
        "plt.plot(t, normalize(spectral_bandwidth_4), color='y')\n",
        "plt.legend(('p = 2', 'p = 3', 'p = 4'))"
      ],
      "execution_count": null,
      "outputs": [
        {
          "output_type": "execute_result",
          "data": {
            "text/plain": [
              "<matplotlib.legend.Legend at 0x7f6be8453ef0>"
            ]
          },
          "metadata": {
            "tags": []
          },
          "execution_count": 9
        },
        {
          "output_type": "display_data",
          "data": {
            "image/png": "[encoded data removed]",
            "text/plain": [
              "<Figure size 1080x648 with 1 Axes>"
            ]
          },
          "metadata": {
            "tags": []
          }
        }
      ]
    },
    {
      "cell_type": "code",
      "metadata": {
        "id": "Uv6USeNC2L4J",
        "colab_type": "code",
        "colab": {
          "base_uri": "https://localhost:8080/",
          "height": 637
        },
        "outputId": "fa818acb-4442-4a26-8379-b6f0e484fef9"
      },
      "source": [
        "#Plot the signal:\n",
        "plt.figure(figsize=(14, 5))\n",
        "librosa.display.waveplot(data, sr=sampling_rate)\n",
        "# Zooming in\n",
        "n0 = 9000\n",
        "n1 = 9100\n",
        "plt.figure(figsize=(14, 5))\n",
        "plt.plot(data[n0:n1])\n",
        "plt.grid()"
      ],
      "execution_count": null,
      "outputs": [
        {
          "output_type": "display_data",
          "data": {
            "image/png": "[encoded data removed]",
            "text/plain": [
              "<Figure size 1008x360 with 1 Axes>"
            ]
          },
          "metadata": {
            "tags": []
          }
        },
        {
          "output_type": "display_data",
          "data": {
            "image/png": "[encoded data removed]",
            "text/plain": [
              "<Figure size 1008x360 with 1 Axes>"
            ]
          },
          "metadata": {
            "tags": []
          }
        }
      ]
    },
    {
      "cell_type": "code",
      "metadata": {
        "id": "S9FsZgkZ3BnX",
        "colab_type": "code",
        "colab": {
          "base_uri": "https://localhost:8080/",
          "height": 476
        },
        "outputId": "300b7055-0bb5-4c7d-809a-2d44aa035ed9"
      },
      "source": [
        "mfccs = librosa.feature.mfcc(data, sr=sampling_rate)\n",
        "print(mfccs.shape)\n",
        "(20, 97)\n",
        "#Displaying  the MFCCs:\n",
        "plt.figure(figsize=(15, 7))\n",
        "librosa.display.specshow(mfccs, sr=sampling_rate, x_axis='time')"
      ],
      "execution_count": null,
      "outputs": [
        {
          "output_type": "stream",
          "text": [
            "(20, 143)\n"
          ],
          "name": "stdout"
        },
        {
          "output_type": "execute_result",
          "data": {
            "text/plain": [
              "<matplotlib.axes._subplots.AxesSubplot at 0x7f6be8487780>"
            ]
          },
          "metadata": {
            "tags": []
          },
          "execution_count": 11
        },
        {
          "output_type": "display_data",
          "data": {
            "image/png": "[encoded data removed]",
            "text/plain": [
              "<Figure size 1080x504 with 1 Axes>"
            ]
          },
          "metadata": {
            "tags": []
          }
        }
      ]
    },
    {
      "cell_type": "code",
      "metadata": {
        "id": "0PHrZxjL3Vas",
        "colab_type": "code",
        "colab": {
          "base_uri": "https://localhost:8080/",
          "height": 351
        },
        "outputId": "a6d80796-5c6c-4558-cbcd-b5add68d97b6"
      },
      "source": [
        "chromagram = librosa.feature.chroma_stft(data, sr=sampling_rate, hop_length=3)\n",
        "plt.figure(figsize=(15, 5))\n",
        "librosa.display.specshow(chromagram, x_axis='time', y_axis='chroma', hop_length=3, cmap='coolwarm')"
      ],
      "execution_count": null,
      "outputs": [
        {
          "output_type": "execute_result",
          "data": {
            "text/plain": [
              "<matplotlib.axes._subplots.AxesSubplot at 0x7f6bea27ed30>"
            ]
          },
          "metadata": {
            "tags": []
          },
          "execution_count": 12
        },
        {
          "output_type": "display_data",
          "data": {
            "image/png": "[encoded data removed]",
            "text/plain": [
              "<Figure size 1080x360 with 1 Axes>"
            ]
          },
          "metadata": {
            "tags": []
          }
        }
      ]
    },
    {
      "cell_type": "markdown",
      "metadata": {
        "id": "vCtNuVWlr5jL",
        "colab_type": "text"
      },
      "source": [
        "# Load all files\n",
        "\n",
        "We will create our numpy array extracting Mel-frequency cepstral coefficients (MFCCs), while the classes to predict will be extracted from the name of the file (see the introductory section of this notebook to see the naming convention of the files of this dataset)."
      ]
    },
    {
      "cell_type": "code",
      "metadata": {
        "id": "AKvuF--gd6F-",
        "colab_type": "code",
        "colab": {
          "base_uri": "https://localhost:8080/",
          "height": 34
        },
        "outputId": "476b623f-cfef-46d8-a8a5-afa51d70bd05"
      },
      "source": [
        "import time\n",
        "\n",
        "path = '/content/drive/My Drive/Voice Analytics/Emotion-Classification-Ravdess-master/audio1/'\n",
        "lst = []\n",
        "\n",
        "start_time = time.time()\n",
        "\n",
        "for subdir, dirs, files in os.walk(path):\n",
        "  for file in files:\n",
        "      try:\n",
        "        #Load librosa array, obtain mfcss, store the file and the mcss information in a new array\n",
        "        X, sample_rate = librosa.load(os.path.join(subdir,file), res_type='kaiser_fast')\n",
        "        mfccs = np.mean(librosa.feature.mfcc(y=X, sr=sample_rate, n_mfcc=40).T,axis=0) \n",
        "        # The instruction below converts the labels (from 1 to 8) to a series from 0 to 7\n",
        "        # This is because our predictor needs to start from 0 otherwise it will try to predict also 0.\n",
        "        file = int(file[7:8]) - 1 \n",
        "        arr = mfccs, file\n",
        "        lst.append(arr)\n",
        "      # If the file is not valid, skip it\n",
        "      except ValueError:\n",
        "        continue\n",
        "\n",
        "print(\"--- Data loaded. Loading time: %s seconds ---\" % (time.time() - start_time))"
      ],
      "execution_count": null,
      "outputs": [
        {
          "output_type": "stream",
          "text": [
            "--- Data loaded. Loading time: 582.2452425956726 seconds ---\n"
          ],
          "name": "stdout"
        }
      ]
    },
    {
      "cell_type": "code",
      "metadata": {
        "id": "kLSggnF7kKY1",
        "colab_type": "code",
        "colab": {}
      },
      "source": [
        "# Creating X and y: zip makes a list of all the first elements, and a list of all the second elements.\n",
        "X, y = zip(*lst)"
      ],
      "execution_count": null,
      "outputs": []
    },
    {
      "cell_type": "code",
      "metadata": {
        "id": "VzvBRTJIlIE9",
        "colab_type": "code",
        "colab": {
          "base_uri": "https://localhost:8080/",
          "height": 34
        },
        "outputId": "5ceee86d-412f-4ad1-e8d0-1977fce40b99"
      },
      "source": [
        "import numpy as np\n",
        "X = np.asarray(X)\n",
        "y = np.asarray(y)\n",
        "\n",
        "\n",
        "X.shape, y.shape"
      ],
      "execution_count": null,
      "outputs": [
        {
          "output_type": "execute_result",
          "data": {
            "text/plain": [
              "((1440, 40), (1440,))"
            ]
          },
          "metadata": {
            "tags": []
          },
          "execution_count": 15
        }
      ]
    },
    {
      "cell_type": "code",
      "metadata": {
        "id": "xOutQiAlCjOY",
        "colab_type": "code",
        "colab": {}
      },
      "source": [
        "# Saving joblib files to not load them again with the loop above\n",
        "\n",
        "import joblib\n",
        "\n",
        "X_name = 'X.joblib'\n",
        "y_name = 'y.joblib'\n",
        "save_dir = '/content/drive/My Drive/Voice Analytics/Emotion-Classification-Ravdess-master'\n",
        "\n",
        "savedX = joblib.dump(X, os.path.join(save_dir, X_name))\n",
        "savedy = joblib.dump(y, os.path.join(save_dir, y_name))"
      ],
      "execution_count": null,
      "outputs": []
    },
    {
      "cell_type": "code",
      "metadata": {
        "id": "nIoFdycUXMxA",
        "colab_type": "code",
        "colab": {}
      },
      "source": [
        "# Loading saved models\n",
        "\n",
        "X = joblib.load('/content/drive/My Drive/Voice Analytics/Emotion-Classification-Ravdess-master/X.joblib')\n",
        "y = joblib.load('/content/drive/My Drive/Voice Analytics/Emotion-Classification-Ravdess-master/y.joblib')"
      ],
      "execution_count": null,
      "outputs": []
    },
    {
      "cell_type": "markdown",
      "metadata": {
        "id": "Agw-3KN1sDhh",
        "colab_type": "text"
      },
      "source": [
        "# Decision Tree Classifier\n",
        "\n",
        "To make a first attempt in accomplishing this classification task I chose a decision tree:"
      ]
    },
    {
      "cell_type": "code",
      "metadata": {
        "id": "Q-Xgb5NslTBO",
        "colab_type": "code",
        "colab": {}
      },
      "source": [
        "from sklearn.model_selection import train_test_split\n",
        "\n",
        "X_train, X_test, y_train, y_test = train_test_split(X, y, test_size=0.33, random_state=42)"
      ],
      "execution_count": null,
      "outputs": []
    },
    {
      "cell_type": "code",
      "metadata": {
        "id": "UshLOC1ClWL3",
        "colab_type": "code",
        "colab": {}
      },
      "source": [
        "from sklearn.tree import DecisionTreeClassifier"
      ],
      "execution_count": null,
      "outputs": []
    },
    {
      "cell_type": "code",
      "metadata": {
        "id": "_BnCR52nlXw0",
        "colab_type": "code",
        "colab": {}
      },
      "source": [
        "dtree = DecisionTreeClassifier()"
      ],
      "execution_count": null,
      "outputs": []
    },
    {
      "cell_type": "code",
      "metadata": {
        "id": "qWyTownblZM0",
        "colab_type": "code",
        "colab": {
          "base_uri": "https://localhost:8080/",
          "height": 119
        },
        "outputId": "03a0b2ee-344e-44fb-9206-0453673deb93"
      },
      "source": [
        "dtree.fit(X_train, y_train)"
      ],
      "execution_count": null,
      "outputs": [
        {
          "output_type": "execute_result",
          "data": {
            "text/plain": [
              "DecisionTreeClassifier(ccp_alpha=0.0, class_weight=None, criterion='gini',\n",
              "                       max_depth=None, max_features=None, max_leaf_nodes=None,\n",
              "                       min_impurity_decrease=0.0, min_impurity_split=None,\n",
              "                       min_samples_leaf=1, min_samples_split=2,\n",
              "                       min_weight_fraction_leaf=0.0, presort='deprecated',\n",
              "                       random_state=None, splitter='best')"
            ]
          },
          "metadata": {
            "tags": []
          },
          "execution_count": 21
        }
      ]
    },
    {
      "cell_type": "code",
      "metadata": {
        "id": "HEuw6TUQlr7C",
        "colab_type": "code",
        "colab": {}
      },
      "source": [
        "predictions = dtree.predict(X_test)"
      ],
      "execution_count": null,
      "outputs": []
    },
    {
      "cell_type": "markdown",
      "metadata": {
        "id": "_1v0i0V7sMw7",
        "colab_type": "text"
      },
      "source": [
        "Let's go with our classification report.\n",
        "\n",
        "Before we start, a quick reminder of the classes we are trying to predict:\n",
        "\n",
        "emotions = {\n",
        "    \"neutral\": \"0\",\n",
        "    \"calm\": \"1\",\n",
        "    \"happy\": \"2\",\n",
        "    \"sad\": \"3\",\n",
        "    \"angry\": \"4\", \n",
        "    \"fearful\": \"5\", \n",
        "    \"disgust\": \"6\", \n",
        "    \"surprised\": \"7\"\n",
        "}"
      ]
    },
    {
      "cell_type": "code",
      "metadata": {
        "id": "c4kNSYkAleIv",
        "colab_type": "code",
        "colab": {
          "base_uri": "https://localhost:8080/",
          "height": 272
        },
        "outputId": "ddc3b92f-47d2-4e2b-8330-dde2876434b8"
      },
      "source": [
        "from sklearn.metrics import classification_report,confusion_matrix\n",
        "print(classification_report(y_test,predictions))"
      ],
      "execution_count": null,
      "outputs": [
        {
          "output_type": "stream",
          "text": [
            "              precision    recall  f1-score   support\n",
            "\n",
            "           0       0.18      0.26      0.22        27\n",
            "           1       0.56      0.49      0.52        71\n",
            "           2       0.29      0.28      0.28        61\n",
            "           3       0.33      0.34      0.34        61\n",
            "           4       0.48      0.52      0.50        60\n",
            "           5       0.47      0.48      0.48        54\n",
            "           6       0.48      0.38      0.42        74\n",
            "           7       0.39      0.44      0.42        68\n",
            "\n",
            "    accuracy                           0.41       476\n",
            "   macro avg       0.40      0.40      0.40       476\n",
            "weighted avg       0.42      0.41      0.41       476\n",
            "\n"
          ],
          "name": "stdout"
        }
      ]
    },
    {
      "cell_type": "markdown",
      "metadata": {
        "id": "lCVgjLj-gwE2",
        "colab_type": "text"
      },
      "source": [
        "# Random Forest"
      ]
    },
    {
      "cell_type": "markdown",
      "metadata": {
        "id": "jfaTxzZ1w__y",
        "colab_type": "text"
      },
      "source": [
        "In this second approach, I switched to a random forest classifier and I made a gridsearch to make some hyperparameters tuning.\n",
        "\n",
        "The gridsearch is not shown in the code below otherwise the notebook will require too much time to run."
      ]
    },
    {
      "cell_type": "code",
      "metadata": {
        "id": "wcov_DCXgs7v",
        "colab_type": "code",
        "colab": {}
      },
      "source": [
        "from sklearn.ensemble import RandomForestClassifier"
      ],
      "execution_count": null,
      "outputs": []
    },
    {
      "cell_type": "code",
      "metadata": {
        "id": "3eo0ljqzg-KM",
        "colab_type": "code",
        "colab": {}
      },
      "source": [
        "rforest = RandomForestClassifier(criterion=\"gini\", max_depth=10, max_features=\"log2\", \n",
        "                                 max_leaf_nodes = 100, min_samples_leaf = 3, min_samples_split = 20, \n",
        "                                 n_estimators= 22000, random_state= 5)"
      ],
      "execution_count": null,
      "outputs": []
    },
    {
      "cell_type": "code",
      "metadata": {
        "id": "Tg45qSOfg-26",
        "colab_type": "code",
        "colab": {
          "base_uri": "https://localhost:8080/",
          "height": 153
        },
        "outputId": "fa20b736-42d0-416f-90eb-b67cf53c9e5e"
      },
      "source": [
        "rforest.fit(X_train, y_train)"
      ],
      "execution_count": null,
      "outputs": [
        {
          "output_type": "execute_result",
          "data": {
            "text/plain": [
              "RandomForestClassifier(bootstrap=True, ccp_alpha=0.0, class_weight=None,\n",
              "                       criterion='gini', max_depth=10, max_features='log2',\n",
              "                       max_leaf_nodes=100, max_samples=None,\n",
              "                       min_impurity_decrease=0.0, min_impurity_split=None,\n",
              "                       min_samples_leaf=3, min_samples_split=20,\n",
              "                       min_weight_fraction_leaf=0.0, n_estimators=22000,\n",
              "                       n_jobs=None, oob_score=False, random_state=5, verbose=0,\n",
              "                       warm_start=False)"
            ]
          },
          "metadata": {
            "tags": []
          },
          "execution_count": 26
        }
      ]
    },
    {
      "cell_type": "code",
      "metadata": {
        "id": "aM8KU3qxhGBM",
        "colab_type": "code",
        "colab": {}
      },
      "source": [
        "predictions = rforest.predict(X_test)"
      ],
      "execution_count": null,
      "outputs": []
    },
    {
      "cell_type": "code",
      "metadata": {
        "id": "296FW5sBdanI",
        "colab_type": "code",
        "colab": {
          "base_uri": "https://localhost:8080/",
          "height": 272
        },
        "outputId": "75b66e99-bece-4967-8aef-ea872c8a571c"
      },
      "source": [
        "print(classification_report(y_test,predictions))"
      ],
      "execution_count": null,
      "outputs": [
        {
          "output_type": "stream",
          "text": [
            "              precision    recall  f1-score   support\n",
            "\n",
            "           0       0.60      0.11      0.19        27\n",
            "           1       0.54      0.77      0.64        71\n",
            "           2       0.38      0.36      0.37        61\n",
            "           3       0.40      0.41      0.40        61\n",
            "           4       0.59      0.55      0.57        60\n",
            "           5       0.43      0.43      0.43        54\n",
            "           6       0.51      0.39      0.44        74\n",
            "           7       0.52      0.62      0.56        68\n",
            "\n",
            "    accuracy                           0.49       476\n",
            "   macro avg       0.49      0.46      0.45       476\n",
            "weighted avg       0.49      0.49      0.47       476\n",
            "\n"
          ],
          "name": "stdout"
        }
      ]
    },
    {
      "cell_type": "markdown",
      "metadata": {
        "colab_type": "text",
        "id": "hE-srZoj0ZTI"
      },
      "source": [
        "# K-Neighbors Classifier"
      ]
    },
    {
      "cell_type": "code",
      "metadata": {
        "id": "338VuxyW0iZG",
        "colab_type": "code",
        "colab": {}
      },
      "source": [
        "from sklearn.neighbors import KNeighborsClassifier"
      ],
      "execution_count": null,
      "outputs": []
    },
    {
      "cell_type": "code",
      "metadata": {
        "id": "hshm-IHb0uEl",
        "colab_type": "code",
        "colab": {}
      },
      "source": [
        "kneigh = KNeighborsClassifier(n_neighbors=2, weights='uniform', algorithm='auto', leaf_size=300, p=2, metric='minkowski', metric_params=None, n_jobs=None)"
      ],
      "execution_count": null,
      "outputs": []
    },
    {
      "cell_type": "code",
      "metadata": {
        "id": "9jrt3gsx2m-i",
        "colab_type": "code",
        "colab": {
          "base_uri": "https://localhost:8080/",
          "height": 68
        },
        "outputId": "c6fe1f4f-c746-43e7-a61e-79c6884e0bea"
      },
      "source": [
        "kneigh.fit(X_train, y_train)"
      ],
      "execution_count": null,
      "outputs": [
        {
          "output_type": "execute_result",
          "data": {
            "text/plain": [
              "KNeighborsClassifier(algorithm='auto', leaf_size=300, metric='minkowski',\n",
              "                     metric_params=None, n_jobs=None, n_neighbors=2, p=2,\n",
              "                     weights='uniform')"
            ]
          },
          "metadata": {
            "tags": []
          },
          "execution_count": 44
        }
      ]
    },
    {
      "cell_type": "code",
      "metadata": {
        "id": "t_q5arXC22zx",
        "colab_type": "code",
        "colab": {}
      },
      "source": [
        "predictions = kneigh.predict(X_test)"
      ],
      "execution_count": null,
      "outputs": []
    },
    {
      "cell_type": "code",
      "metadata": {
        "id": "cjbBXPde29bu",
        "colab_type": "code",
        "colab": {
          "base_uri": "https://localhost:8080/",
          "height": 272
        },
        "outputId": "0f20899e-21f4-493e-a132-3e0d3f924b53"
      },
      "source": [
        "print(classification_report(y_test,predictions))"
      ],
      "execution_count": null,
      "outputs": [
        {
          "output_type": "stream",
          "text": [
            "              precision    recall  f1-score   support\n",
            "\n",
            "           0       0.27      0.74      0.40        27\n",
            "           1       0.56      0.56      0.56        71\n",
            "           2       0.36      0.59      0.45        61\n",
            "           3       0.48      0.41      0.44        61\n",
            "           4       0.38      0.55      0.45        60\n",
            "           5       0.47      0.33      0.39        54\n",
            "           6       0.41      0.19      0.26        74\n",
            "           7       0.45      0.13      0.20        68\n",
            "\n",
            "    accuracy                           0.41       476\n",
            "   macro avg       0.42      0.44      0.39       476\n",
            "weighted avg       0.44      0.41      0.39       476\n",
            "\n"
          ],
          "name": "stdout"
        }
      ]
    },
    {
      "cell_type": "markdown",
      "metadata": {
        "id": "t9eqMHV3S8i6",
        "colab_type": "text"
      },
      "source": [
        "# Neural network"
      ]
    },
    {
      "cell_type": "markdown",
      "metadata": {
        "id": "G-QscoyMxQtn",
        "colab_type": "text"
      },
      "source": [
        "Let's build our neural network!\n",
        "\n",
        "To do so, we need to expand the dimensions of our array, adding a third one using the numpy \"expand_dims\" feature."
      ]
    },
    {
      "cell_type": "code",
      "metadata": {
        "id": "W4i187-Pe-w5",
        "colab_type": "code",
        "colab": {}
      },
      "source": [
        "x_traincnn = np.expand_dims(X_train, axis=2)\n",
        "x_testcnn = np.expand_dims(X_test, axis=2)"
      ],
      "execution_count": null,
      "outputs": []
    },
    {
      "cell_type": "code",
      "metadata": {
        "id": "vnvoCRX1gQCh",
        "colab_type": "code",
        "colab": {
          "base_uri": "https://localhost:8080/",
          "height": 34
        },
        "outputId": "6625b4bd-9760-4138-e312-924e98d7160e"
      },
      "source": [
        "x_traincnn.shape, x_testcnn.shape"
      ],
      "execution_count": null,
      "outputs": [
        {
          "output_type": "execute_result",
          "data": {
            "text/plain": [
              "((964, 40, 1), (476, 40, 1))"
            ]
          },
          "metadata": {
            "tags": []
          },
          "execution_count": 48
        }
      ]
    },
    {
      "cell_type": "code",
      "metadata": {
        "id": "9H8gNhudidkT",
        "colab_type": "code",
        "colab": {
          "base_uri": "https://localhost:8080/",
          "height": 102
        },
        "outputId": "7288c002-b82e-41c8-cc8d-6f36d5dfca5d"
      },
      "source": [
        "%tensorflow_version 2"
      ],
      "execution_count": null,
      "outputs": [
        {
          "output_type": "stream",
          "text": [
            "`%tensorflow_version` only switches the major version: 1.x or 2.x.\n",
            "You set: `2`. This will be interpreted as: `2.x`.\n",
            "\n",
            "\n",
            "TensorFlow is already loaded. Please restart the runtime to change versions.\n"
          ],
          "name": "stdout"
        }
      ]
    },
    {
      "cell_type": "code",
      "metadata": {
        "id": "kkCnpKWGpAma",
        "colab_type": "code",
        "colab": {}
      },
      "source": [
        "import os\n",
        "os.kill(os.getpid(), 9)"
      ],
      "execution_count": null,
      "outputs": []
    },
    {
      "cell_type": "code",
      "metadata": {
        "id": "HZOGIpuefCd3",
        "colab_type": "code",
        "colab": {
          "base_uri": "https://localhost:8080/",
          "height": 34
        },
        "outputId": "84a1f2d6-af35-4f94-d2fa-d6497ccf831d"
      },
      "source": [
        "import keras\n",
        "import numpy as np\n",
        "import matplotlib.pyplot as plt\n",
        "import tensorflow as tf\n",
        "from tensorflow.keras.preprocessing import sequence\n",
        "from tensorflow.keras.models import Sequential\n",
        "from tensorflow.keras.layers import Dense, Embedding\n",
        "from tensorflow.keras.utils import to_categorical\n",
        "from tensorflow.keras.layers import Input, Flatten, Dropout, Activation\n",
        "from tensorflow.keras.layers import Conv1D, MaxPooling1D\n",
        "from tensorflow.keras.models import Model\n",
        "from tensorflow.keras.callbacks import ModelCheckpoint\n",
        "\n",
        "model = Sequential()\n",
        "\n",
        "model.add(Conv1D(188, 5,padding='same',\n",
        "                 input_shape=(40,1)))\n",
        "model.add(Activation('relu'))\n",
        "model.add(Dropout(0.1))\n",
        "model.add(MaxPooling1D(pool_size=(8)))\n",
        "model.add(Conv1D(128, 5,padding='same',))\n",
        "model.add(Activation('relu'))\n",
        "model.add(Dropout(0.1))\n",
        "model.add(Flatten())\n",
        "model.add(Dense(8))\n",
        "model.add(Activation('softmax'))\n",
        "opt = keras.optimizers.rmsprop(lr=0.00005, rho=0.9, epsilon=None, decay=0.0)"
      ],
      "execution_count": null,
      "outputs": [
        {
          "output_type": "stream",
          "text": [
            "Using TensorFlow backend.\n"
          ],
          "name": "stderr"
        }
      ]
    },
    {
      "cell_type": "markdown",
      "metadata": {
        "id": "LphftMIZzUvz",
        "colab_type": "text"
      },
      "source": [
        "With *model.summary* we can see a recap of what we have build:"
      ]
    },
    {
      "cell_type": "code",
      "metadata": {
        "id": "pIWPB4Zgfic7",
        "colab_type": "code",
        "colab": {
          "base_uri": "https://localhost:8080/",
          "height": 493
        },
        "outputId": "17e759c8-2f7a-47b3-8ee8-030dc1ade6bb"
      },
      "source": [
        "model.summary()"
      ],
      "execution_count": null,
      "outputs": [
        {
          "output_type": "stream",
          "text": [
            "Model: \"sequential_6\"\n",
            "_________________________________________________________________\n",
            "Layer (type)                 Output Shape              Param #   \n",
            "=================================================================\n",
            "conv1d_12 (Conv1D)           (None, 40, 188)           1128      \n",
            "_________________________________________________________________\n",
            "activation_18 (Activation)   (None, 40, 188)           0         \n",
            "_________________________________________________________________\n",
            "dropout_12 (Dropout)         (None, 40, 188)           0         \n",
            "_________________________________________________________________\n",
            "max_pooling1d_6 (MaxPooling1 (None, 5, 188)            0         \n",
            "_________________________________________________________________\n",
            "conv1d_13 (Conv1D)           (None, 5, 128)            120448    \n",
            "_________________________________________________________________\n",
            "activation_19 (Activation)   (None, 5, 128)            0         \n",
            "_________________________________________________________________\n",
            "dropout_13 (Dropout)         (None, 5, 128)            0         \n",
            "_________________________________________________________________\n",
            "flatten_6 (Flatten)          (None, 640)               0         \n",
            "_________________________________________________________________\n",
            "dense_6 (Dense)              (None, 8)                 5128      \n",
            "_________________________________________________________________\n",
            "activation_20 (Activation)   (None, 8)                 0         \n",
            "=================================================================\n",
            "Total params: 126,704\n",
            "Trainable params: 126,704\n",
            "Non-trainable params: 0\n",
            "_________________________________________________________________\n"
          ],
          "name": "stdout"
        }
      ]
    },
    {
      "cell_type": "markdown",
      "metadata": {
        "id": "5qQSBeBhzcLu",
        "colab_type": "text"
      },
      "source": [
        "Now we can compile and fit our model:"
      ]
    },
    {
      "cell_type": "code",
      "metadata": {
        "id": "iNI1znbsfpTx",
        "colab_type": "code",
        "colab": {}
      },
      "source": [
        "model.compile(loss='sparse_categorical_crossentropy',\n",
        "              optimizer='RMSprop',\n",
        "              metrics=['accuracy'])"
      ],
      "execution_count": null,
      "outputs": []
    },
    {
      "cell_type": "code",
      "metadata": {
        "id": "ktdF-nJKfq6F",
        "colab_type": "code",
        "colab": {
          "base_uri": "https://localhost:8080/",
          "height": 1000
        },
        "outputId": "022db2fb-cc6a-4423-a0bc-f2534e83a8ed"
      },
      "source": [
        "cnnhistory=model.fit(x_traincnn, y_train, batch_size=16, epochs=1000, validation_data=(x_testcnn, y_test))"
      ],
      "execution_count": null,
      "outputs": [
        {
          "output_type": "stream",
          "text": [
            "Epoch 1/1000\n",
            "61/61 [==============================] - 1s 12ms/step - loss: 11.6421 - accuracy: 0.1442 - val_loss: 4.7291 - val_accuracy: 0.1555\n",
            "Epoch 2/1000\n",
            "61/61 [==============================] - 1s 9ms/step - loss: 2.8810 - accuracy: 0.1774 - val_loss: 2.2720 - val_accuracy: 0.1366\n",
            "Epoch 3/1000\n",
            "61/61 [==============================] - 1s 10ms/step - loss: 2.0551 - accuracy: 0.2085 - val_loss: 1.9472 - val_accuracy: 0.2143\n",
            "Epoch 4/1000\n",
            "61/61 [==============================] - 1s 9ms/step - loss: 2.0345 - accuracy: 0.2147 - val_loss: 2.4448 - val_accuracy: 0.1744\n",
            "Epoch 5/1000\n",
            "61/61 [==============================] - 1s 9ms/step - loss: 1.9796 - accuracy: 0.2521 - val_loss: 2.0593 - val_accuracy: 0.1870\n",
            "Epoch 6/1000\n",
            "61/61 [==============================] - 1s 9ms/step - loss: 1.8686 - accuracy: 0.2780 - val_loss: 2.1770 - val_accuracy: 0.2038\n",
            "Epoch 7/1000\n",
            "61/61 [==============================] - 1s 9ms/step - loss: 1.8576 - accuracy: 0.2998 - val_loss: 1.8074 - val_accuracy: 0.3172\n",
            "Epoch 8/1000\n",
            "61/61 [==============================] - 1s 9ms/step - loss: 1.8217 - accuracy: 0.2998 - val_loss: 1.7958 - val_accuracy: 0.3193\n",
            "Epoch 9/1000\n",
            "61/61 [==============================] - 1s 9ms/step - loss: 1.7655 - accuracy: 0.3247 - val_loss: 1.9259 - val_accuracy: 0.2962\n",
            "Epoch 10/1000\n",
            "61/61 [==============================] - 1s 9ms/step - loss: 1.7361 - accuracy: 0.3506 - val_loss: 1.7343 - val_accuracy: 0.3046\n",
            "Epoch 11/1000\n",
            "61/61 [==============================] - 1s 9ms/step - loss: 1.7300 - accuracy: 0.3413 - val_loss: 1.7442 - val_accuracy: 0.3403\n",
            "Epoch 12/1000\n",
            "61/61 [==============================] - 1s 9ms/step - loss: 1.6881 - accuracy: 0.3714 - val_loss: 1.7627 - val_accuracy: 0.3088\n",
            "Epoch 13/1000\n",
            "61/61 [==============================] - 1s 10ms/step - loss: 1.6882 - accuracy: 0.3672 - val_loss: 1.7153 - val_accuracy: 0.3697\n",
            "Epoch 14/1000\n",
            "61/61 [==============================] - 1s 12ms/step - loss: 1.6350 - accuracy: 0.3786 - val_loss: 2.3276 - val_accuracy: 0.2038\n",
            "Epoch 15/1000\n",
            "61/61 [==============================] - 1s 10ms/step - loss: 1.6685 - accuracy: 0.3890 - val_loss: 1.7778 - val_accuracy: 0.3046\n",
            "Epoch 16/1000\n",
            "61/61 [==============================] - 1s 9ms/step - loss: 1.6151 - accuracy: 0.3952 - val_loss: 1.7220 - val_accuracy: 0.3676\n",
            "Epoch 17/1000\n",
            "61/61 [==============================] - 1s 9ms/step - loss: 1.5822 - accuracy: 0.4201 - val_loss: 1.6921 - val_accuracy: 0.3697\n",
            "Epoch 18/1000\n",
            "61/61 [==============================] - 1s 10ms/step - loss: 1.5627 - accuracy: 0.4098 - val_loss: 1.7232 - val_accuracy: 0.3697\n",
            "Epoch 19/1000\n",
            "61/61 [==============================] - 1s 9ms/step - loss: 1.5611 - accuracy: 0.4180 - val_loss: 1.6935 - val_accuracy: 0.3592\n",
            "Epoch 20/1000\n",
            "61/61 [==============================] - 1s 10ms/step - loss: 1.5263 - accuracy: 0.4398 - val_loss: 1.7091 - val_accuracy: 0.3403\n",
            "Epoch 21/1000\n",
            "61/61 [==============================] - 1s 10ms/step - loss: 1.5163 - accuracy: 0.4429 - val_loss: 1.7099 - val_accuracy: 0.3697\n",
            "Epoch 22/1000\n",
            "61/61 [==============================] - 1s 10ms/step - loss: 1.4659 - accuracy: 0.4502 - val_loss: 1.7802 - val_accuracy: 0.3761\n",
            "Epoch 23/1000\n",
            "61/61 [==============================] - 1s 9ms/step - loss: 1.4682 - accuracy: 0.4720 - val_loss: 1.8301 - val_accuracy: 0.3340\n",
            "Epoch 24/1000\n",
            "61/61 [==============================] - 1s 10ms/step - loss: 1.4847 - accuracy: 0.4533 - val_loss: 1.6508 - val_accuracy: 0.3866\n",
            "Epoch 25/1000\n",
            "61/61 [==============================] - 1s 9ms/step - loss: 1.4151 - accuracy: 0.4886 - val_loss: 1.8123 - val_accuracy: 0.3803\n",
            "Epoch 26/1000\n",
            "61/61 [==============================] - 1s 9ms/step - loss: 1.3733 - accuracy: 0.4803 - val_loss: 1.6830 - val_accuracy: 0.3445\n",
            "Epoch 27/1000\n",
            "61/61 [==============================] - 1s 9ms/step - loss: 1.3731 - accuracy: 0.4865 - val_loss: 1.6260 - val_accuracy: 0.4097\n",
            "Epoch 28/1000\n",
            "61/61 [==============================] - 1s 9ms/step - loss: 1.4020 - accuracy: 0.4917 - val_loss: 1.6503 - val_accuracy: 0.3950\n",
            "Epoch 29/1000\n",
            "61/61 [==============================] - 1s 10ms/step - loss: 1.3686 - accuracy: 0.5166 - val_loss: 1.8252 - val_accuracy: 0.3508\n",
            "Epoch 30/1000\n",
            "61/61 [==============================] - 1s 9ms/step - loss: 1.3693 - accuracy: 0.4990 - val_loss: 1.7265 - val_accuracy: 0.3782\n",
            "Epoch 31/1000\n",
            "61/61 [==============================] - 1s 9ms/step - loss: 1.3333 - accuracy: 0.5270 - val_loss: 1.8237 - val_accuracy: 0.3592\n",
            "Epoch 32/1000\n",
            "61/61 [==============================] - 1s 9ms/step - loss: 1.3076 - accuracy: 0.5135 - val_loss: 1.7257 - val_accuracy: 0.3971\n",
            "Epoch 33/1000\n",
            "61/61 [==============================] - 1s 9ms/step - loss: 1.2584 - accuracy: 0.5446 - val_loss: 1.7439 - val_accuracy: 0.3634\n",
            "Epoch 34/1000\n",
            "61/61 [==============================] - 1s 9ms/step - loss: 1.2837 - accuracy: 0.5270 - val_loss: 1.9436 - val_accuracy: 0.3634\n",
            "Epoch 35/1000\n",
            "61/61 [==============================] - 1s 9ms/step - loss: 1.2532 - accuracy: 0.5539 - val_loss: 1.5900 - val_accuracy: 0.4307\n",
            "Epoch 36/1000\n",
            "61/61 [==============================] - 1s 9ms/step - loss: 1.2127 - accuracy: 0.5508 - val_loss: 1.8361 - val_accuracy: 0.3782\n",
            "Epoch 37/1000\n",
            "61/61 [==============================] - 1s 9ms/step - loss: 1.2568 - accuracy: 0.5425 - val_loss: 1.6642 - val_accuracy: 0.3992\n",
            "Epoch 38/1000\n",
            "61/61 [==============================] - 1s 9ms/step - loss: 1.2016 - accuracy: 0.5560 - val_loss: 1.7563 - val_accuracy: 0.3824\n",
            "Epoch 39/1000\n",
            "61/61 [==============================] - 1s 9ms/step - loss: 1.1909 - accuracy: 0.5788 - val_loss: 1.6348 - val_accuracy: 0.4433\n",
            "Epoch 40/1000\n",
            "61/61 [==============================] - 1s 9ms/step - loss: 1.1614 - accuracy: 0.5830 - val_loss: 1.8314 - val_accuracy: 0.4202\n",
            "Epoch 41/1000\n",
            "61/61 [==============================] - 1s 9ms/step - loss: 1.1628 - accuracy: 0.5820 - val_loss: 1.6466 - val_accuracy: 0.4139\n",
            "Epoch 42/1000\n",
            "61/61 [==============================] - 1s 9ms/step - loss: 1.1435 - accuracy: 0.5985 - val_loss: 1.6520 - val_accuracy: 0.4391\n",
            "Epoch 43/1000\n",
            "61/61 [==============================] - 1s 9ms/step - loss: 1.1326 - accuracy: 0.5913 - val_loss: 1.6549 - val_accuracy: 0.4391\n",
            "Epoch 44/1000\n",
            "61/61 [==============================] - 1s 10ms/step - loss: 1.1532 - accuracy: 0.5944 - val_loss: 1.6562 - val_accuracy: 0.4412\n",
            "Epoch 45/1000\n",
            "61/61 [==============================] - 1s 9ms/step - loss: 1.1162 - accuracy: 0.5985 - val_loss: 1.6835 - val_accuracy: 0.4013\n",
            "Epoch 46/1000\n",
            "61/61 [==============================] - 1s 9ms/step - loss: 1.0913 - accuracy: 0.6162 - val_loss: 1.5765 - val_accuracy: 0.4433\n",
            "Epoch 47/1000\n",
            "61/61 [==============================] - 1s 9ms/step - loss: 1.1131 - accuracy: 0.5892 - val_loss: 1.5166 - val_accuracy: 0.4349\n",
            "Epoch 48/1000\n",
            "61/61 [==============================] - 1s 9ms/step - loss: 1.1060 - accuracy: 0.5913 - val_loss: 1.7934 - val_accuracy: 0.4307\n",
            "Epoch 49/1000\n",
            "61/61 [==============================] - 1s 9ms/step - loss: 1.0780 - accuracy: 0.6141 - val_loss: 1.9049 - val_accuracy: 0.3887\n",
            "Epoch 50/1000\n",
            "61/61 [==============================] - 1s 9ms/step - loss: 1.0724 - accuracy: 0.6162 - val_loss: 1.7781 - val_accuracy: 0.4307\n",
            "Epoch 51/1000\n",
            "61/61 [==============================] - 1s 9ms/step - loss: 1.0524 - accuracy: 0.6120 - val_loss: 1.9007 - val_accuracy: 0.3466\n",
            "Epoch 52/1000\n",
            "61/61 [==============================] - 1s 9ms/step - loss: 1.0411 - accuracy: 0.6224 - val_loss: 1.6512 - val_accuracy: 0.4349\n",
            "Epoch 53/1000\n",
            "61/61 [==============================] - 1s 9ms/step - loss: 1.0298 - accuracy: 0.6245 - val_loss: 1.5655 - val_accuracy: 0.4601\n",
            "Epoch 54/1000\n",
            "61/61 [==============================] - 1s 9ms/step - loss: 1.0307 - accuracy: 0.6255 - val_loss: 1.7841 - val_accuracy: 0.4286\n",
            "Epoch 55/1000\n",
            "61/61 [==============================] - 1s 9ms/step - loss: 1.0553 - accuracy: 0.6172 - val_loss: 1.7287 - val_accuracy: 0.4055\n",
            "Epoch 56/1000\n",
            "61/61 [==============================] - 1s 9ms/step - loss: 1.0306 - accuracy: 0.6338 - val_loss: 1.7217 - val_accuracy: 0.4454\n",
            "Epoch 57/1000\n",
            "61/61 [==============================] - 1s 9ms/step - loss: 0.9731 - accuracy: 0.6473 - val_loss: 1.9369 - val_accuracy: 0.4013\n",
            "Epoch 58/1000\n",
            "61/61 [==============================] - 1s 9ms/step - loss: 0.9825 - accuracy: 0.6535 - val_loss: 1.7261 - val_accuracy: 0.4265\n",
            "Epoch 59/1000\n",
            "61/61 [==============================] - 1s 9ms/step - loss: 0.9300 - accuracy: 0.6494 - val_loss: 1.5814 - val_accuracy: 0.4622\n",
            "Epoch 60/1000\n",
            "61/61 [==============================] - 1s 9ms/step - loss: 1.0001 - accuracy: 0.6245 - val_loss: 1.6170 - val_accuracy: 0.4685\n",
            "Epoch 61/1000\n",
            "61/61 [==============================] - 1s 9ms/step - loss: 0.8946 - accuracy: 0.6836 - val_loss: 1.8153 - val_accuracy: 0.4454\n",
            "Epoch 62/1000\n",
            "61/61 [==============================] - 1s 9ms/step - loss: 0.9484 - accuracy: 0.6608 - val_loss: 1.6761 - val_accuracy: 0.4181\n",
            "Epoch 63/1000\n",
            "61/61 [==============================] - 1s 9ms/step - loss: 0.9199 - accuracy: 0.6598 - val_loss: 1.5366 - val_accuracy: 0.4496\n",
            "Epoch 64/1000\n",
            "61/61 [==============================] - 1s 9ms/step - loss: 0.9149 - accuracy: 0.6712 - val_loss: 1.6881 - val_accuracy: 0.4496\n",
            "Epoch 65/1000\n",
            "61/61 [==============================] - 1s 9ms/step - loss: 0.8642 - accuracy: 0.6784 - val_loss: 1.8799 - val_accuracy: 0.4118\n",
            "Epoch 66/1000\n",
            "61/61 [==============================] - 1s 9ms/step - loss: 0.8893 - accuracy: 0.6950 - val_loss: 1.7910 - val_accuracy: 0.4412\n",
            "Epoch 67/1000\n",
            "61/61 [==============================] - 1s 9ms/step - loss: 0.9071 - accuracy: 0.6618 - val_loss: 1.6240 - val_accuracy: 0.4559\n",
            "Epoch 68/1000\n",
            "61/61 [==============================] - 1s 9ms/step - loss: 0.9028 - accuracy: 0.6763 - val_loss: 1.7192 - val_accuracy: 0.4748\n",
            "Epoch 69/1000\n",
            "61/61 [==============================] - 1s 9ms/step - loss: 0.8796 - accuracy: 0.6940 - val_loss: 1.6192 - val_accuracy: 0.4622\n",
            "Epoch 70/1000\n",
            "61/61 [==============================] - 1s 9ms/step - loss: 0.8834 - accuracy: 0.6919 - val_loss: 1.7559 - val_accuracy: 0.4580\n",
            "Epoch 71/1000\n",
            "61/61 [==============================] - 1s 9ms/step - loss: 0.8435 - accuracy: 0.6981 - val_loss: 2.2290 - val_accuracy: 0.4118\n",
            "Epoch 72/1000\n",
            "61/61 [==============================] - 1s 9ms/step - loss: 0.8670 - accuracy: 0.6815 - val_loss: 1.7352 - val_accuracy: 0.4328\n",
            "Epoch 73/1000\n",
            "61/61 [==============================] - 1s 9ms/step - loss: 0.8422 - accuracy: 0.6919 - val_loss: 1.8451 - val_accuracy: 0.4454\n",
            "Epoch 74/1000\n",
            "61/61 [==============================] - 1s 9ms/step - loss: 0.8446 - accuracy: 0.6940 - val_loss: 1.6794 - val_accuracy: 0.4622\n",
            "Epoch 75/1000\n",
            "61/61 [==============================] - 1s 9ms/step - loss: 0.8621 - accuracy: 0.7002 - val_loss: 1.9096 - val_accuracy: 0.4139\n",
            "Epoch 76/1000\n",
            "61/61 [==============================] - 1s 9ms/step - loss: 0.8258 - accuracy: 0.7054 - val_loss: 1.7912 - val_accuracy: 0.4517\n",
            "Epoch 77/1000\n",
            "61/61 [==============================] - 1s 9ms/step - loss: 0.8440 - accuracy: 0.7064 - val_loss: 1.7714 - val_accuracy: 0.4769\n",
            "Epoch 78/1000\n",
            "61/61 [==============================] - 1s 9ms/step - loss: 0.8260 - accuracy: 0.6961 - val_loss: 2.0585 - val_accuracy: 0.4076\n",
            "Epoch 79/1000\n",
            "61/61 [==============================] - 1s 9ms/step - loss: 0.8346 - accuracy: 0.6898 - val_loss: 1.7006 - val_accuracy: 0.4832\n",
            "Epoch 80/1000\n",
            "61/61 [==============================] - 1s 9ms/step - loss: 0.7925 - accuracy: 0.7023 - val_loss: 2.0493 - val_accuracy: 0.4202\n",
            "Epoch 81/1000\n",
            "61/61 [==============================] - 1s 9ms/step - loss: 0.8183 - accuracy: 0.7002 - val_loss: 1.7206 - val_accuracy: 0.4622\n",
            "Epoch 82/1000\n",
            "61/61 [==============================] - 1s 9ms/step - loss: 0.7735 - accuracy: 0.7137 - val_loss: 1.7269 - val_accuracy: 0.4685\n",
            "Epoch 83/1000\n",
            "61/61 [==============================] - 1s 9ms/step - loss: 0.7566 - accuracy: 0.7210 - val_loss: 1.8257 - val_accuracy: 0.4664\n",
            "Epoch 84/1000\n",
            "61/61 [==============================] - 1s 9ms/step - loss: 0.7984 - accuracy: 0.7251 - val_loss: 2.3356 - val_accuracy: 0.4055\n",
            "Epoch 85/1000\n",
            "61/61 [==============================] - 1s 9ms/step - loss: 0.7817 - accuracy: 0.7147 - val_loss: 2.0483 - val_accuracy: 0.3992\n",
            "Epoch 86/1000\n",
            "61/61 [==============================] - 1s 9ms/step - loss: 0.7583 - accuracy: 0.7210 - val_loss: 1.8988 - val_accuracy: 0.4706\n",
            "Epoch 87/1000\n",
            "61/61 [==============================] - 1s 9ms/step - loss: 0.7511 - accuracy: 0.7220 - val_loss: 1.8595 - val_accuracy: 0.4916\n",
            "Epoch 88/1000\n",
            "61/61 [==============================] - 1s 10ms/step - loss: 0.7302 - accuracy: 0.7303 - val_loss: 1.8613 - val_accuracy: 0.5021\n",
            "Epoch 89/1000\n",
            "61/61 [==============================] - 1s 10ms/step - loss: 0.7254 - accuracy: 0.7293 - val_loss: 1.8609 - val_accuracy: 0.4895\n",
            "Epoch 90/1000\n",
            "61/61 [==============================] - 1s 9ms/step - loss: 0.7793 - accuracy: 0.7158 - val_loss: 1.6896 - val_accuracy: 0.4727\n",
            "Epoch 91/1000\n",
            "61/61 [==============================] - 1s 10ms/step - loss: 0.7154 - accuracy: 0.7261 - val_loss: 1.8803 - val_accuracy: 0.4769\n",
            "Epoch 92/1000\n",
            "61/61 [==============================] - 1s 10ms/step - loss: 0.7442 - accuracy: 0.7272 - val_loss: 1.7087 - val_accuracy: 0.4958\n",
            "Epoch 93/1000\n",
            "61/61 [==============================] - 1s 10ms/step - loss: 0.7054 - accuracy: 0.7510 - val_loss: 2.3823 - val_accuracy: 0.4244\n",
            "Epoch 94/1000\n",
            "61/61 [==============================] - 1s 9ms/step - loss: 0.7492 - accuracy: 0.7251 - val_loss: 1.8528 - val_accuracy: 0.4769\n",
            "Epoch 95/1000\n",
            "61/61 [==============================] - 1s 9ms/step - loss: 0.6939 - accuracy: 0.7396 - val_loss: 2.1694 - val_accuracy: 0.4664\n",
            "Epoch 96/1000\n",
            "61/61 [==============================] - 1s 9ms/step - loss: 0.7305 - accuracy: 0.7168 - val_loss: 1.8233 - val_accuracy: 0.4769\n",
            "Epoch 97/1000\n",
            "61/61 [==============================] - 1s 9ms/step - loss: 0.7310 - accuracy: 0.7376 - val_loss: 1.8367 - val_accuracy: 0.4706\n",
            "Epoch 98/1000\n",
            "61/61 [==============================] - 1s 9ms/step - loss: 0.6806 - accuracy: 0.7521 - val_loss: 1.9541 - val_accuracy: 0.4475\n",
            "Epoch 99/1000\n",
            "61/61 [==============================] - 1s 9ms/step - loss: 0.7916 - accuracy: 0.7251 - val_loss: 2.0078 - val_accuracy: 0.4601\n",
            "Epoch 100/1000\n",
            "61/61 [==============================] - 1s 9ms/step - loss: 0.6792 - accuracy: 0.7448 - val_loss: 2.2975 - val_accuracy: 0.4496\n",
            "Epoch 101/1000\n",
            "61/61 [==============================] - 1s 9ms/step - loss: 0.6865 - accuracy: 0.7427 - val_loss: 2.4866 - val_accuracy: 0.4013\n",
            "Epoch 102/1000\n",
            "61/61 [==============================] - 1s 9ms/step - loss: 0.6895 - accuracy: 0.7666 - val_loss: 1.9402 - val_accuracy: 0.4706\n",
            "Epoch 103/1000\n",
            "61/61 [==============================] - 1s 9ms/step - loss: 0.6935 - accuracy: 0.7479 - val_loss: 2.1764 - val_accuracy: 0.4769\n",
            "Epoch 104/1000\n",
            "61/61 [==============================] - 1s 9ms/step - loss: 0.6476 - accuracy: 0.7749 - val_loss: 2.3741 - val_accuracy: 0.4454\n",
            "Epoch 105/1000\n",
            "61/61 [==============================] - 1s 9ms/step - loss: 0.7089 - accuracy: 0.7531 - val_loss: 1.8099 - val_accuracy: 0.4811\n",
            "Epoch 106/1000\n",
            "61/61 [==============================] - 1s 9ms/step - loss: 0.6652 - accuracy: 0.7624 - val_loss: 1.8962 - val_accuracy: 0.4748\n",
            "Epoch 107/1000\n",
            "61/61 [==============================] - 1s 9ms/step - loss: 0.6949 - accuracy: 0.7510 - val_loss: 2.4445 - val_accuracy: 0.4370\n",
            "Epoch 108/1000\n",
            "61/61 [==============================] - 1s 9ms/step - loss: 0.6854 - accuracy: 0.7614 - val_loss: 2.1601 - val_accuracy: 0.4538\n",
            "Epoch 109/1000\n",
            "61/61 [==============================] - 1s 9ms/step - loss: 0.6271 - accuracy: 0.7510 - val_loss: 1.8299 - val_accuracy: 0.4832\n",
            "Epoch 110/1000\n",
            "61/61 [==============================] - 1s 9ms/step - loss: 0.6811 - accuracy: 0.7656 - val_loss: 1.9033 - val_accuracy: 0.4874\n",
            "Epoch 111/1000\n",
            "61/61 [==============================] - 1s 10ms/step - loss: 0.6896 - accuracy: 0.7666 - val_loss: 2.0918 - val_accuracy: 0.4601\n",
            "Epoch 112/1000\n",
            "61/61 [==============================] - 1s 9ms/step - loss: 0.6216 - accuracy: 0.7635 - val_loss: 1.9558 - val_accuracy: 0.4916\n",
            "Epoch 113/1000\n",
            "61/61 [==============================] - 1s 9ms/step - loss: 0.6353 - accuracy: 0.7614 - val_loss: 2.3321 - val_accuracy: 0.4769\n",
            "Epoch 114/1000\n",
            "61/61 [==============================] - 1s 9ms/step - loss: 0.6652 - accuracy: 0.7697 - val_loss: 2.0967 - val_accuracy: 0.4874\n",
            "Epoch 115/1000\n",
            "61/61 [==============================] - 1s 9ms/step - loss: 0.5912 - accuracy: 0.7936 - val_loss: 2.3351 - val_accuracy: 0.4664\n",
            "Epoch 116/1000\n",
            "61/61 [==============================] - 1s 9ms/step - loss: 0.5958 - accuracy: 0.7801 - val_loss: 2.0212 - val_accuracy: 0.4937\n",
            "Epoch 117/1000\n",
            "61/61 [==============================] - 1s 9ms/step - loss: 0.6276 - accuracy: 0.7832 - val_loss: 2.3276 - val_accuracy: 0.4475\n",
            "Epoch 118/1000\n",
            "61/61 [==============================] - 1s 9ms/step - loss: 0.6204 - accuracy: 0.7718 - val_loss: 1.9251 - val_accuracy: 0.4958\n",
            "Epoch 119/1000\n",
            "61/61 [==============================] - 1s 9ms/step - loss: 0.5949 - accuracy: 0.7801 - val_loss: 2.0796 - val_accuracy: 0.4958\n",
            "Epoch 120/1000\n",
            "61/61 [==============================] - 1s 9ms/step - loss: 0.5929 - accuracy: 0.7863 - val_loss: 2.4729 - val_accuracy: 0.4643\n",
            "Epoch 121/1000\n",
            "61/61 [==============================] - 1s 9ms/step - loss: 0.6332 - accuracy: 0.7739 - val_loss: 1.9946 - val_accuracy: 0.4895\n",
            "Epoch 122/1000\n",
            "61/61 [==============================] - 1s 9ms/step - loss: 0.5713 - accuracy: 0.7956 - val_loss: 2.1019 - val_accuracy: 0.4685\n",
            "Epoch 123/1000\n",
            "61/61 [==============================] - 1s 9ms/step - loss: 0.6445 - accuracy: 0.7645 - val_loss: 2.0175 - val_accuracy: 0.4874\n",
            "Epoch 124/1000\n",
            "61/61 [==============================] - 1s 9ms/step - loss: 0.6441 - accuracy: 0.7790 - val_loss: 2.7488 - val_accuracy: 0.4034\n",
            "Epoch 125/1000\n",
            "61/61 [==============================] - 1s 9ms/step - loss: 0.5992 - accuracy: 0.7946 - val_loss: 2.2317 - val_accuracy: 0.4832\n",
            "Epoch 126/1000\n",
            "61/61 [==============================] - 1s 10ms/step - loss: 0.5621 - accuracy: 0.8102 - val_loss: 2.2495 - val_accuracy: 0.5021\n",
            "Epoch 127/1000\n",
            "61/61 [==============================] - 1s 9ms/step - loss: 0.6423 - accuracy: 0.7728 - val_loss: 2.4270 - val_accuracy: 0.4811\n",
            "Epoch 128/1000\n",
            "61/61 [==============================] - 1s 9ms/step - loss: 0.5805 - accuracy: 0.7956 - val_loss: 2.5175 - val_accuracy: 0.4853\n",
            "Epoch 129/1000\n",
            "61/61 [==============================] - 1s 10ms/step - loss: 0.6031 - accuracy: 0.7946 - val_loss: 2.0625 - val_accuracy: 0.4832\n",
            "Epoch 130/1000\n",
            "61/61 [==============================] - 1s 10ms/step - loss: 0.5387 - accuracy: 0.8050 - val_loss: 2.0789 - val_accuracy: 0.4664\n",
            "Epoch 131/1000\n",
            "61/61 [==============================] - 1s 10ms/step - loss: 0.5565 - accuracy: 0.7905 - val_loss: 2.1168 - val_accuracy: 0.5042\n",
            "Epoch 132/1000\n",
            "61/61 [==============================] - 1s 9ms/step - loss: 0.5695 - accuracy: 0.8019 - val_loss: 2.3381 - val_accuracy: 0.4685\n",
            "Epoch 133/1000\n",
            "61/61 [==============================] - 1s 9ms/step - loss: 0.6130 - accuracy: 0.7946 - val_loss: 2.7368 - val_accuracy: 0.4349\n",
            "Epoch 134/1000\n",
            "61/61 [==============================] - 1s 9ms/step - loss: 0.6112 - accuracy: 0.7977 - val_loss: 1.9862 - val_accuracy: 0.4748\n",
            "Epoch 135/1000\n",
            "61/61 [==============================] - 1s 10ms/step - loss: 0.6160 - accuracy: 0.7998 - val_loss: 2.7023 - val_accuracy: 0.4370\n",
            "Epoch 136/1000\n",
            "61/61 [==============================] - 1s 10ms/step - loss: 0.5894 - accuracy: 0.7884 - val_loss: 2.2741 - val_accuracy: 0.5210\n",
            "Epoch 137/1000\n",
            "61/61 [==============================] - 1s 9ms/step - loss: 0.6178 - accuracy: 0.7749 - val_loss: 2.2382 - val_accuracy: 0.5126\n",
            "Epoch 138/1000\n",
            "61/61 [==============================] - 1s 10ms/step - loss: 0.5918 - accuracy: 0.8008 - val_loss: 2.1910 - val_accuracy: 0.4811\n",
            "Epoch 139/1000\n",
            "61/61 [==============================] - 1s 9ms/step - loss: 0.5748 - accuracy: 0.7977 - val_loss: 2.6165 - val_accuracy: 0.4517\n",
            "Epoch 140/1000\n",
            "61/61 [==============================] - 1s 10ms/step - loss: 0.5619 - accuracy: 0.8154 - val_loss: 2.1474 - val_accuracy: 0.4790\n",
            "Epoch 141/1000\n",
            "61/61 [==============================] - 1s 10ms/step - loss: 0.5795 - accuracy: 0.7905 - val_loss: 2.4574 - val_accuracy: 0.3866\n",
            "Epoch 142/1000\n",
            "61/61 [==============================] - 1s 9ms/step - loss: 0.5965 - accuracy: 0.7998 - val_loss: 2.2276 - val_accuracy: 0.4832\n",
            "Epoch 143/1000\n",
            "61/61 [==============================] - 1s 10ms/step - loss: 0.5704 - accuracy: 0.7770 - val_loss: 2.3416 - val_accuracy: 0.4853\n",
            "Epoch 144/1000\n",
            "61/61 [==============================] - 1s 9ms/step - loss: 0.5884 - accuracy: 0.8008 - val_loss: 2.6677 - val_accuracy: 0.4202\n",
            "Epoch 145/1000\n",
            "61/61 [==============================] - 1s 10ms/step - loss: 0.5168 - accuracy: 0.8122 - val_loss: 2.3572 - val_accuracy: 0.5063\n",
            "Epoch 146/1000\n",
            "61/61 [==============================] - 1s 10ms/step - loss: 0.5350 - accuracy: 0.8154 - val_loss: 2.6226 - val_accuracy: 0.5084\n",
            "Epoch 147/1000\n",
            "61/61 [==============================] - 1s 9ms/step - loss: 0.5713 - accuracy: 0.8050 - val_loss: 2.1898 - val_accuracy: 0.5021\n",
            "Epoch 148/1000\n",
            "61/61 [==============================] - 1s 9ms/step - loss: 0.5781 - accuracy: 0.8081 - val_loss: 2.9127 - val_accuracy: 0.4496\n",
            "Epoch 149/1000\n",
            "61/61 [==============================] - 1s 10ms/step - loss: 0.5460 - accuracy: 0.8216 - val_loss: 2.5407 - val_accuracy: 0.4769\n",
            "Epoch 150/1000\n",
            "61/61 [==============================] - 1s 10ms/step - loss: 0.6355 - accuracy: 0.7925 - val_loss: 2.2435 - val_accuracy: 0.4727\n",
            "Epoch 151/1000\n",
            "61/61 [==============================] - 1s 10ms/step - loss: 0.5993 - accuracy: 0.8019 - val_loss: 2.5924 - val_accuracy: 0.4013\n",
            "Epoch 152/1000\n",
            "61/61 [==============================] - 1s 10ms/step - loss: 0.5003 - accuracy: 0.8143 - val_loss: 2.3188 - val_accuracy: 0.4685\n",
            "Epoch 153/1000\n",
            "61/61 [==============================] - 1s 10ms/step - loss: 0.5710 - accuracy: 0.7998 - val_loss: 2.4978 - val_accuracy: 0.4916\n",
            "Epoch 154/1000\n",
            "61/61 [==============================] - 1s 10ms/step - loss: 0.5855 - accuracy: 0.8019 - val_loss: 2.1977 - val_accuracy: 0.4706\n",
            "Epoch 155/1000\n",
            "61/61 [==============================] - 1s 10ms/step - loss: 0.5124 - accuracy: 0.8205 - val_loss: 2.4109 - val_accuracy: 0.4979\n",
            "Epoch 156/1000\n",
            "61/61 [==============================] - 1s 10ms/step - loss: 0.5331 - accuracy: 0.8205 - val_loss: 3.3722 - val_accuracy: 0.4286\n",
            "Epoch 157/1000\n",
            "61/61 [==============================] - 1s 10ms/step - loss: 0.6024 - accuracy: 0.7905 - val_loss: 2.2622 - val_accuracy: 0.5273\n",
            "Epoch 158/1000\n",
            "61/61 [==============================] - 1s 10ms/step - loss: 0.5182 - accuracy: 0.8205 - val_loss: 2.4542 - val_accuracy: 0.4937\n",
            "Epoch 159/1000\n",
            "61/61 [==============================] - 1s 10ms/step - loss: 0.5676 - accuracy: 0.8112 - val_loss: 2.5192 - val_accuracy: 0.4811\n",
            "Epoch 160/1000\n",
            "61/61 [==============================] - 1s 9ms/step - loss: 0.4773 - accuracy: 0.8185 - val_loss: 2.5797 - val_accuracy: 0.5021\n",
            "Epoch 161/1000\n",
            "61/61 [==============================] - 1s 10ms/step - loss: 0.5343 - accuracy: 0.8154 - val_loss: 2.1970 - val_accuracy: 0.5000\n",
            "Epoch 162/1000\n",
            "61/61 [==============================] - 1s 9ms/step - loss: 0.5120 - accuracy: 0.8268 - val_loss: 2.4374 - val_accuracy: 0.4622\n",
            "Epoch 163/1000\n",
            "61/61 [==============================] - 1s 10ms/step - loss: 0.4973 - accuracy: 0.8268 - val_loss: 2.3304 - val_accuracy: 0.4916\n",
            "Epoch 164/1000\n",
            "61/61 [==============================] - 1s 9ms/step - loss: 0.5145 - accuracy: 0.8154 - val_loss: 2.5040 - val_accuracy: 0.4643\n",
            "Epoch 165/1000\n",
            "61/61 [==============================] - 1s 10ms/step - loss: 0.5008 - accuracy: 0.8257 - val_loss: 2.3743 - val_accuracy: 0.4832\n",
            "Epoch 166/1000\n",
            "61/61 [==============================] - 1s 9ms/step - loss: 0.5316 - accuracy: 0.8122 - val_loss: 2.2472 - val_accuracy: 0.5210\n",
            "Epoch 167/1000\n",
            "61/61 [==============================] - 1s 10ms/step - loss: 0.5203 - accuracy: 0.8288 - val_loss: 2.7098 - val_accuracy: 0.4769\n",
            "Epoch 168/1000\n",
            "61/61 [==============================] - 1s 10ms/step - loss: 0.5456 - accuracy: 0.8071 - val_loss: 2.9390 - val_accuracy: 0.4643\n",
            "Epoch 169/1000\n",
            "61/61 [==============================] - 1s 10ms/step - loss: 0.5622 - accuracy: 0.8112 - val_loss: 2.4396 - val_accuracy: 0.4958\n",
            "Epoch 170/1000\n",
            "61/61 [==============================] - 1s 10ms/step - loss: 0.5129 - accuracy: 0.8320 - val_loss: 2.4642 - val_accuracy: 0.4622\n",
            "Epoch 171/1000\n",
            "61/61 [==============================] - 1s 10ms/step - loss: 0.5370 - accuracy: 0.8174 - val_loss: 2.7482 - val_accuracy: 0.4622\n",
            "Epoch 172/1000\n",
            "61/61 [==============================] - 1s 9ms/step - loss: 0.4931 - accuracy: 0.8278 - val_loss: 2.1945 - val_accuracy: 0.5189\n",
            "Epoch 173/1000\n",
            "61/61 [==============================] - 1s 9ms/step - loss: 0.4625 - accuracy: 0.8496 - val_loss: 3.5721 - val_accuracy: 0.4013\n",
            "Epoch 174/1000\n",
            "61/61 [==============================] - 1s 10ms/step - loss: 0.5117 - accuracy: 0.8278 - val_loss: 2.6390 - val_accuracy: 0.4979\n",
            "Epoch 175/1000\n",
            "61/61 [==============================] - 1s 10ms/step - loss: 0.5119 - accuracy: 0.8185 - val_loss: 2.4571 - val_accuracy: 0.4643\n",
            "Epoch 176/1000\n",
            "61/61 [==============================] - 1s 10ms/step - loss: 0.5319 - accuracy: 0.8154 - val_loss: 2.2605 - val_accuracy: 0.4874\n",
            "Epoch 177/1000\n",
            "61/61 [==============================] - 1s 9ms/step - loss: 0.5477 - accuracy: 0.8174 - val_loss: 2.2997 - val_accuracy: 0.4874\n",
            "Epoch 178/1000\n",
            "61/61 [==============================] - 1s 9ms/step - loss: 0.5493 - accuracy: 0.8247 - val_loss: 2.7255 - val_accuracy: 0.4412\n",
            "Epoch 179/1000\n",
            "61/61 [==============================] - 1s 10ms/step - loss: 0.5064 - accuracy: 0.8309 - val_loss: 2.2365 - val_accuracy: 0.4979\n",
            "Epoch 180/1000\n",
            "61/61 [==============================] - 1s 10ms/step - loss: 0.4645 - accuracy: 0.8382 - val_loss: 2.6759 - val_accuracy: 0.4622\n",
            "Epoch 181/1000\n",
            "61/61 [==============================] - 1s 9ms/step - loss: 0.5299 - accuracy: 0.8112 - val_loss: 2.2699 - val_accuracy: 0.4874\n",
            "Epoch 182/1000\n",
            "61/61 [==============================] - 1s 9ms/step - loss: 0.5033 - accuracy: 0.8351 - val_loss: 2.6409 - val_accuracy: 0.4811\n",
            "Epoch 183/1000\n",
            "61/61 [==============================] - 1s 9ms/step - loss: 0.5191 - accuracy: 0.8257 - val_loss: 2.4550 - val_accuracy: 0.4811\n",
            "Epoch 184/1000\n",
            "61/61 [==============================] - 1s 9ms/step - loss: 0.4904 - accuracy: 0.8247 - val_loss: 2.3787 - val_accuracy: 0.4727\n",
            "Epoch 185/1000\n",
            "61/61 [==============================] - 1s 9ms/step - loss: 0.4594 - accuracy: 0.8444 - val_loss: 2.8403 - val_accuracy: 0.4349\n",
            "Epoch 186/1000\n",
            "61/61 [==============================] - 1s 9ms/step - loss: 0.5167 - accuracy: 0.8195 - val_loss: 2.3815 - val_accuracy: 0.4622\n",
            "Epoch 187/1000\n",
            "61/61 [==============================] - 1s 9ms/step - loss: 0.4667 - accuracy: 0.8454 - val_loss: 2.6278 - val_accuracy: 0.4979\n",
            "Epoch 188/1000\n",
            "61/61 [==============================] - 1s 9ms/step - loss: 0.4970 - accuracy: 0.8361 - val_loss: 2.8190 - val_accuracy: 0.4706\n",
            "Epoch 189/1000\n",
            "61/61 [==============================] - 1s 9ms/step - loss: 0.4862 - accuracy: 0.8434 - val_loss: 2.4802 - val_accuracy: 0.4937\n",
            "Epoch 190/1000\n",
            "61/61 [==============================] - 1s 9ms/step - loss: 0.4829 - accuracy: 0.8496 - val_loss: 2.5443 - val_accuracy: 0.4853\n",
            "Epoch 191/1000\n",
            "61/61 [==============================] - 1s 9ms/step - loss: 0.5060 - accuracy: 0.8320 - val_loss: 2.4079 - val_accuracy: 0.4622\n",
            "Epoch 192/1000\n",
            "61/61 [==============================] - 1s 9ms/step - loss: 0.5017 - accuracy: 0.8320 - val_loss: 2.7600 - val_accuracy: 0.4685\n",
            "Epoch 193/1000\n",
            "61/61 [==============================] - 1s 9ms/step - loss: 0.4886 - accuracy: 0.8423 - val_loss: 2.9333 - val_accuracy: 0.5126\n",
            "Epoch 194/1000\n",
            "61/61 [==============================] - 1s 9ms/step - loss: 0.4236 - accuracy: 0.8558 - val_loss: 2.4769 - val_accuracy: 0.4895\n",
            "Epoch 195/1000\n",
            "61/61 [==============================] - 1s 9ms/step - loss: 0.4977 - accuracy: 0.8247 - val_loss: 2.6079 - val_accuracy: 0.5000\n",
            "Epoch 196/1000\n",
            "61/61 [==============================] - 1s 9ms/step - loss: 0.5347 - accuracy: 0.8288 - val_loss: 2.3716 - val_accuracy: 0.5042\n",
            "Epoch 197/1000\n",
            "61/61 [==============================] - 1s 9ms/step - loss: 0.4146 - accuracy: 0.8714 - val_loss: 2.3389 - val_accuracy: 0.5105\n",
            "Epoch 198/1000\n",
            "61/61 [==============================] - 1s 10ms/step - loss: 0.4672 - accuracy: 0.8454 - val_loss: 2.7153 - val_accuracy: 0.4538\n",
            "Epoch 199/1000\n",
            "61/61 [==============================] - 1s 9ms/step - loss: 0.4638 - accuracy: 0.8454 - val_loss: 2.4407 - val_accuracy: 0.4979\n",
            "Epoch 200/1000\n",
            "61/61 [==============================] - 1s 9ms/step - loss: 0.4494 - accuracy: 0.8568 - val_loss: 2.5732 - val_accuracy: 0.4832\n",
            "Epoch 201/1000\n",
            "61/61 [==============================] - 1s 9ms/step - loss: 0.5051 - accuracy: 0.8382 - val_loss: 2.4889 - val_accuracy: 0.5189\n",
            "Epoch 202/1000\n",
            "61/61 [==============================] - 1s 9ms/step - loss: 0.4138 - accuracy: 0.8672 - val_loss: 2.4011 - val_accuracy: 0.5126\n",
            "Epoch 203/1000\n",
            "61/61 [==============================] - 1s 10ms/step - loss: 0.4598 - accuracy: 0.8631 - val_loss: 2.8498 - val_accuracy: 0.4748\n",
            "Epoch 204/1000\n",
            "61/61 [==============================] - 1s 9ms/step - loss: 0.4716 - accuracy: 0.8434 - val_loss: 2.7326 - val_accuracy: 0.4685\n",
            "Epoch 205/1000\n",
            "61/61 [==============================] - 1s 9ms/step - loss: 0.5095 - accuracy: 0.8257 - val_loss: 2.6653 - val_accuracy: 0.4958\n",
            "Epoch 206/1000\n",
            "61/61 [==============================] - 1s 9ms/step - loss: 0.4987 - accuracy: 0.8506 - val_loss: 2.6539 - val_accuracy: 0.4937\n",
            "Epoch 207/1000\n",
            "61/61 [==============================] - 1s 9ms/step - loss: 0.4781 - accuracy: 0.8361 - val_loss: 2.8367 - val_accuracy: 0.4769\n",
            "Epoch 208/1000\n",
            "61/61 [==============================] - 1s 9ms/step - loss: 0.4574 - accuracy: 0.8558 - val_loss: 3.0649 - val_accuracy: 0.4559\n",
            "Epoch 209/1000\n",
            "61/61 [==============================] - 1s 9ms/step - loss: 0.4471 - accuracy: 0.8568 - val_loss: 2.6398 - val_accuracy: 0.5063\n",
            "Epoch 210/1000\n",
            "61/61 [==============================] - 1s 9ms/step - loss: 0.4478 - accuracy: 0.8434 - val_loss: 2.5267 - val_accuracy: 0.4853\n",
            "Epoch 211/1000\n",
            "61/61 [==============================] - 1s 9ms/step - loss: 0.5666 - accuracy: 0.8340 - val_loss: 2.7566 - val_accuracy: 0.4748\n",
            "Epoch 212/1000\n",
            "61/61 [==============================] - 1s 10ms/step - loss: 0.4872 - accuracy: 0.8371 - val_loss: 3.2969 - val_accuracy: 0.4790\n",
            "Epoch 213/1000\n",
            "61/61 [==============================] - 1s 9ms/step - loss: 0.4835 - accuracy: 0.8568 - val_loss: 2.7238 - val_accuracy: 0.5252\n",
            "Epoch 214/1000\n",
            "61/61 [==============================] - 1s 10ms/step - loss: 0.4505 - accuracy: 0.8434 - val_loss: 2.6505 - val_accuracy: 0.4979\n",
            "Epoch 215/1000\n",
            "61/61 [==============================] - 1s 10ms/step - loss: 0.4919 - accuracy: 0.8309 - val_loss: 2.7909 - val_accuracy: 0.4895\n",
            "Epoch 216/1000\n",
            "61/61 [==============================] - 1s 10ms/step - loss: 0.5000 - accuracy: 0.8309 - val_loss: 2.7915 - val_accuracy: 0.4664\n",
            "Epoch 217/1000\n",
            "61/61 [==============================] - 1s 10ms/step - loss: 0.4855 - accuracy: 0.8278 - val_loss: 2.6196 - val_accuracy: 0.4643\n",
            "Epoch 218/1000\n",
            "61/61 [==============================] - 1s 10ms/step - loss: 0.4663 - accuracy: 0.8579 - val_loss: 2.9753 - val_accuracy: 0.4769\n",
            "Epoch 219/1000\n",
            "61/61 [==============================] - 1s 9ms/step - loss: 0.4666 - accuracy: 0.8371 - val_loss: 2.7459 - val_accuracy: 0.5063\n",
            "Epoch 220/1000\n",
            "61/61 [==============================] - 1s 10ms/step - loss: 0.5067 - accuracy: 0.8382 - val_loss: 2.8193 - val_accuracy: 0.4979\n",
            "Epoch 221/1000\n",
            "61/61 [==============================] - 1s 9ms/step - loss: 0.4710 - accuracy: 0.8392 - val_loss: 2.7715 - val_accuracy: 0.4916\n",
            "Epoch 222/1000\n",
            "61/61 [==============================] - 1s 10ms/step - loss: 0.4202 - accuracy: 0.8600 - val_loss: 2.7856 - val_accuracy: 0.4937\n",
            "Epoch 223/1000\n",
            "61/61 [==============================] - 1s 9ms/step - loss: 0.4974 - accuracy: 0.8299 - val_loss: 2.6970 - val_accuracy: 0.4811\n",
            "Epoch 224/1000\n",
            "61/61 [==============================] - 1s 9ms/step - loss: 0.4691 - accuracy: 0.8527 - val_loss: 2.6127 - val_accuracy: 0.5042\n",
            "Epoch 225/1000\n",
            "61/61 [==============================] - 1s 10ms/step - loss: 0.3974 - accuracy: 0.8755 - val_loss: 2.8849 - val_accuracy: 0.4769\n",
            "Epoch 226/1000\n",
            "61/61 [==============================] - 1s 9ms/step - loss: 0.4231 - accuracy: 0.8485 - val_loss: 2.7752 - val_accuracy: 0.5105\n",
            "Epoch 227/1000\n",
            "61/61 [==============================] - 1s 9ms/step - loss: 0.4562 - accuracy: 0.8392 - val_loss: 2.4351 - val_accuracy: 0.5189\n",
            "Epoch 228/1000\n",
            "61/61 [==============================] - 1s 9ms/step - loss: 0.4574 - accuracy: 0.8475 - val_loss: 2.9860 - val_accuracy: 0.4937\n",
            "Epoch 229/1000\n",
            "61/61 [==============================] - 1s 9ms/step - loss: 0.4668 - accuracy: 0.8589 - val_loss: 3.3369 - val_accuracy: 0.4769\n",
            "Epoch 230/1000\n",
            "61/61 [==============================] - 1s 9ms/step - loss: 0.4924 - accuracy: 0.8340 - val_loss: 2.9504 - val_accuracy: 0.4559\n",
            "Epoch 231/1000\n",
            "61/61 [==============================] - 1s 10ms/step - loss: 0.4320 - accuracy: 0.8589 - val_loss: 3.3451 - val_accuracy: 0.4727\n",
            "Epoch 232/1000\n",
            "61/61 [==============================] - 1s 9ms/step - loss: 0.5089 - accuracy: 0.8361 - val_loss: 2.6902 - val_accuracy: 0.5168\n",
            "Epoch 233/1000\n",
            "61/61 [==============================] - 1s 10ms/step - loss: 0.4839 - accuracy: 0.8434 - val_loss: 3.4219 - val_accuracy: 0.4790\n",
            "Epoch 234/1000\n",
            "61/61 [==============================] - 1s 10ms/step - loss: 0.4277 - accuracy: 0.8683 - val_loss: 2.9605 - val_accuracy: 0.4958\n",
            "Epoch 235/1000\n",
            "61/61 [==============================] - 1s 10ms/step - loss: 0.4697 - accuracy: 0.8631 - val_loss: 3.2861 - val_accuracy: 0.4790\n",
            "Epoch 236/1000\n",
            "61/61 [==============================] - 1s 10ms/step - loss: 0.4795 - accuracy: 0.8413 - val_loss: 2.8632 - val_accuracy: 0.4727\n",
            "Epoch 237/1000\n",
            "61/61 [==============================] - 1s 10ms/step - loss: 0.4571 - accuracy: 0.8444 - val_loss: 3.4184 - val_accuracy: 0.4643\n",
            "Epoch 238/1000\n",
            "61/61 [==============================] - 1s 9ms/step - loss: 0.4550 - accuracy: 0.8548 - val_loss: 2.7674 - val_accuracy: 0.5084\n",
            "Epoch 239/1000\n",
            "61/61 [==============================] - 1s 9ms/step - loss: 0.4274 - accuracy: 0.8610 - val_loss: 2.7418 - val_accuracy: 0.4916\n",
            "Epoch 240/1000\n",
            "61/61 [==============================] - 1s 9ms/step - loss: 0.4126 - accuracy: 0.8537 - val_loss: 2.8056 - val_accuracy: 0.5168\n",
            "Epoch 241/1000\n",
            "61/61 [==============================] - 1s 9ms/step - loss: 0.4392 - accuracy: 0.8548 - val_loss: 2.7005 - val_accuracy: 0.5105\n",
            "Epoch 242/1000\n",
            "61/61 [==============================] - 1s 9ms/step - loss: 0.5203 - accuracy: 0.8496 - val_loss: 3.4793 - val_accuracy: 0.4832\n",
            "Epoch 243/1000\n",
            "61/61 [==============================] - 1s 9ms/step - loss: 0.4684 - accuracy: 0.8496 - val_loss: 3.3763 - val_accuracy: 0.4181\n",
            "Epoch 244/1000\n",
            "61/61 [==============================] - 1s 10ms/step - loss: 0.4452 - accuracy: 0.8579 - val_loss: 3.3207 - val_accuracy: 0.4727\n",
            "Epoch 245/1000\n",
            "61/61 [==============================] - 1s 9ms/step - loss: 0.4364 - accuracy: 0.8537 - val_loss: 2.9751 - val_accuracy: 0.4832\n",
            "Epoch 246/1000\n",
            "61/61 [==============================] - 1s 9ms/step - loss: 0.3650 - accuracy: 0.8817 - val_loss: 2.9252 - val_accuracy: 0.5000\n",
            "Epoch 247/1000\n",
            "61/61 [==============================] - 1s 9ms/step - loss: 0.4255 - accuracy: 0.8589 - val_loss: 3.0862 - val_accuracy: 0.5021\n",
            "Epoch 248/1000\n",
            "61/61 [==============================] - 1s 10ms/step - loss: 0.4502 - accuracy: 0.8641 - val_loss: 2.7363 - val_accuracy: 0.4874\n",
            "Epoch 249/1000\n",
            "61/61 [==============================] - 1s 9ms/step - loss: 0.4664 - accuracy: 0.8506 - val_loss: 3.1445 - val_accuracy: 0.4790\n",
            "Epoch 250/1000\n",
            "61/61 [==============================] - 1s 9ms/step - loss: 0.4460 - accuracy: 0.8579 - val_loss: 3.2261 - val_accuracy: 0.4748\n",
            "Epoch 251/1000\n",
            "61/61 [==============================] - 1s 9ms/step - loss: 0.4178 - accuracy: 0.8631 - val_loss: 3.4820 - val_accuracy: 0.4496\n",
            "Epoch 252/1000\n",
            "61/61 [==============================] - 1s 9ms/step - loss: 0.4171 - accuracy: 0.8600 - val_loss: 2.9387 - val_accuracy: 0.5210\n",
            "Epoch 253/1000\n",
            "61/61 [==============================] - 1s 10ms/step - loss: 0.4437 - accuracy: 0.8517 - val_loss: 3.1764 - val_accuracy: 0.5168\n",
            "Epoch 254/1000\n",
            "61/61 [==============================] - 1s 9ms/step - loss: 0.5199 - accuracy: 0.8496 - val_loss: 3.1486 - val_accuracy: 0.4601\n",
            "Epoch 255/1000\n",
            "61/61 [==============================] - 1s 9ms/step - loss: 0.3809 - accuracy: 0.8797 - val_loss: 2.9544 - val_accuracy: 0.4601\n",
            "Epoch 256/1000\n",
            "61/61 [==============================] - 1s 10ms/step - loss: 0.4405 - accuracy: 0.8558 - val_loss: 3.1636 - val_accuracy: 0.4937\n",
            "Epoch 257/1000\n",
            "61/61 [==============================] - 1s 9ms/step - loss: 0.4854 - accuracy: 0.8434 - val_loss: 3.1299 - val_accuracy: 0.4685\n",
            "Epoch 258/1000\n",
            "61/61 [==============================] - 1s 10ms/step - loss: 0.4485 - accuracy: 0.8517 - val_loss: 3.0263 - val_accuracy: 0.5105\n",
            "Epoch 259/1000\n",
            "61/61 [==============================] - 1s 9ms/step - loss: 0.4627 - accuracy: 0.8641 - val_loss: 3.4488 - val_accuracy: 0.4517\n",
            "Epoch 260/1000\n",
            "61/61 [==============================] - 1s 9ms/step - loss: 0.4630 - accuracy: 0.8434 - val_loss: 2.9509 - val_accuracy: 0.4958\n",
            "Epoch 261/1000\n",
            "61/61 [==============================] - 1s 9ms/step - loss: 0.4439 - accuracy: 0.8485 - val_loss: 2.9731 - val_accuracy: 0.4853\n",
            "Epoch 262/1000\n",
            "61/61 [==============================] - 1s 9ms/step - loss: 0.4429 - accuracy: 0.8600 - val_loss: 2.9113 - val_accuracy: 0.4958\n",
            "Epoch 263/1000\n",
            "61/61 [==============================] - 1s 10ms/step - loss: 0.4194 - accuracy: 0.8506 - val_loss: 2.7515 - val_accuracy: 0.5105\n",
            "Epoch 264/1000\n",
            "61/61 [==============================] - 1s 9ms/step - loss: 0.4377 - accuracy: 0.8776 - val_loss: 3.2635 - val_accuracy: 0.4790\n",
            "Epoch 265/1000\n",
            "61/61 [==============================] - 1s 9ms/step - loss: 0.4436 - accuracy: 0.8589 - val_loss: 2.8894 - val_accuracy: 0.4937\n",
            "Epoch 266/1000\n",
            "61/61 [==============================] - 1s 10ms/step - loss: 0.5222 - accuracy: 0.8465 - val_loss: 3.0981 - val_accuracy: 0.4790\n",
            "Epoch 267/1000\n",
            "61/61 [==============================] - 1s 9ms/step - loss: 0.4471 - accuracy: 0.8683 - val_loss: 3.2826 - val_accuracy: 0.4958\n",
            "Epoch 268/1000\n",
            "61/61 [==============================] - 1s 10ms/step - loss: 0.5068 - accuracy: 0.8465 - val_loss: 3.3022 - val_accuracy: 0.5168\n",
            "Epoch 269/1000\n",
            "61/61 [==============================] - 1s 9ms/step - loss: 0.4535 - accuracy: 0.8579 - val_loss: 3.1176 - val_accuracy: 0.4874\n",
            "Epoch 270/1000\n",
            "61/61 [==============================] - 1s 9ms/step - loss: 0.3683 - accuracy: 0.8890 - val_loss: 3.9586 - val_accuracy: 0.4622\n",
            "Epoch 271/1000\n",
            "61/61 [==============================] - 1s 9ms/step - loss: 0.5099 - accuracy: 0.8475 - val_loss: 3.0950 - val_accuracy: 0.4979\n",
            "Epoch 272/1000\n",
            "61/61 [==============================] - 1s 9ms/step - loss: 0.4136 - accuracy: 0.8558 - val_loss: 2.9957 - val_accuracy: 0.4664\n",
            "Epoch 273/1000\n",
            "61/61 [==============================] - 1s 9ms/step - loss: 0.4563 - accuracy: 0.8496 - val_loss: 2.9714 - val_accuracy: 0.5042\n",
            "Epoch 274/1000\n",
            "61/61 [==============================] - 1s 9ms/step - loss: 0.4520 - accuracy: 0.8454 - val_loss: 2.9284 - val_accuracy: 0.5000\n",
            "Epoch 275/1000\n",
            "61/61 [==============================] - 1s 9ms/step - loss: 0.4176 - accuracy: 0.8631 - val_loss: 3.0010 - val_accuracy: 0.4811\n",
            "Epoch 276/1000\n",
            "61/61 [==============================] - 1s 9ms/step - loss: 0.3916 - accuracy: 0.8693 - val_loss: 3.4448 - val_accuracy: 0.4286\n",
            "Epoch 277/1000\n",
            "61/61 [==============================] - 1s 9ms/step - loss: 0.4521 - accuracy: 0.8568 - val_loss: 3.4211 - val_accuracy: 0.5021\n",
            "Epoch 278/1000\n",
            "61/61 [==============================] - 1s 10ms/step - loss: 0.4427 - accuracy: 0.8537 - val_loss: 3.3867 - val_accuracy: 0.5189\n",
            "Epoch 279/1000\n",
            "61/61 [==============================] - 1s 10ms/step - loss: 0.4109 - accuracy: 0.8662 - val_loss: 3.1023 - val_accuracy: 0.4832\n",
            "Epoch 280/1000\n",
            "61/61 [==============================] - 1s 9ms/step - loss: 0.4521 - accuracy: 0.8651 - val_loss: 3.0909 - val_accuracy: 0.4853\n",
            "Epoch 281/1000\n",
            "61/61 [==============================] - 1s 10ms/step - loss: 0.3689 - accuracy: 0.8734 - val_loss: 3.1271 - val_accuracy: 0.4580\n",
            "Epoch 282/1000\n",
            "61/61 [==============================] - 1s 9ms/step - loss: 0.3867 - accuracy: 0.8859 - val_loss: 3.0108 - val_accuracy: 0.5147\n",
            "Epoch 283/1000\n",
            "61/61 [==============================] - 1s 9ms/step - loss: 0.3991 - accuracy: 0.8849 - val_loss: 2.9777 - val_accuracy: 0.5252\n",
            "Epoch 284/1000\n",
            "61/61 [==============================] - 1s 10ms/step - loss: 0.4505 - accuracy: 0.8641 - val_loss: 3.4123 - val_accuracy: 0.4559\n",
            "Epoch 285/1000\n",
            "61/61 [==============================] - 1s 9ms/step - loss: 0.4449 - accuracy: 0.8589 - val_loss: 3.4040 - val_accuracy: 0.4643\n",
            "Epoch 286/1000\n",
            "61/61 [==============================] - 1s 10ms/step - loss: 0.4690 - accuracy: 0.8517 - val_loss: 3.0738 - val_accuracy: 0.4895\n",
            "Epoch 287/1000\n",
            "61/61 [==============================] - 1s 10ms/step - loss: 0.3999 - accuracy: 0.8755 - val_loss: 3.1701 - val_accuracy: 0.5147\n",
            "Epoch 288/1000\n",
            "61/61 [==============================] - 1s 10ms/step - loss: 0.4750 - accuracy: 0.8496 - val_loss: 3.3347 - val_accuracy: 0.5021\n",
            "Epoch 289/1000\n",
            "61/61 [==============================] - 1s 10ms/step - loss: 0.4394 - accuracy: 0.8537 - val_loss: 3.3486 - val_accuracy: 0.5189\n",
            "Epoch 290/1000\n",
            "61/61 [==============================] - 1s 10ms/step - loss: 0.4097 - accuracy: 0.8807 - val_loss: 4.1089 - val_accuracy: 0.5021\n",
            "Epoch 291/1000\n",
            "61/61 [==============================] - 1s 10ms/step - loss: 0.4522 - accuracy: 0.8589 - val_loss: 3.2283 - val_accuracy: 0.5336\n",
            "Epoch 292/1000\n",
            "61/61 [==============================] - 1s 9ms/step - loss: 0.4017 - accuracy: 0.8589 - val_loss: 3.4144 - val_accuracy: 0.4832\n",
            "Epoch 293/1000\n",
            "61/61 [==============================] - 1s 9ms/step - loss: 0.4390 - accuracy: 0.8745 - val_loss: 2.9474 - val_accuracy: 0.4832\n",
            "Epoch 294/1000\n",
            "61/61 [==============================] - 1s 9ms/step - loss: 0.4215 - accuracy: 0.8641 - val_loss: 3.2345 - val_accuracy: 0.5294\n",
            "Epoch 295/1000\n",
            "61/61 [==============================] - 1s 9ms/step - loss: 0.4539 - accuracy: 0.8631 - val_loss: 3.4210 - val_accuracy: 0.4937\n",
            "Epoch 296/1000\n",
            "61/61 [==============================] - 1s 9ms/step - loss: 0.4800 - accuracy: 0.8672 - val_loss: 3.9232 - val_accuracy: 0.4874\n",
            "Epoch 297/1000\n",
            "61/61 [==============================] - 1s 9ms/step - loss: 0.4225 - accuracy: 0.8838 - val_loss: 3.4250 - val_accuracy: 0.4559\n",
            "Epoch 298/1000\n",
            "61/61 [==============================] - 1s 10ms/step - loss: 0.5067 - accuracy: 0.8631 - val_loss: 3.6096 - val_accuracy: 0.4727\n",
            "Epoch 299/1000\n",
            "61/61 [==============================] - 1s 9ms/step - loss: 0.4377 - accuracy: 0.8600 - val_loss: 3.3188 - val_accuracy: 0.5084\n",
            "Epoch 300/1000\n",
            "61/61 [==============================] - 1s 9ms/step - loss: 0.3909 - accuracy: 0.8734 - val_loss: 3.2546 - val_accuracy: 0.5336\n",
            "Epoch 301/1000\n",
            "61/61 [==============================] - 1s 9ms/step - loss: 0.4479 - accuracy: 0.8651 - val_loss: 3.2734 - val_accuracy: 0.4853\n",
            "Epoch 302/1000\n",
            "61/61 [==============================] - 1s 9ms/step - loss: 0.4503 - accuracy: 0.8496 - val_loss: 3.4048 - val_accuracy: 0.4769\n",
            "Epoch 303/1000\n",
            "61/61 [==============================] - 1s 10ms/step - loss: 0.4281 - accuracy: 0.8838 - val_loss: 3.2847 - val_accuracy: 0.4769\n",
            "Epoch 304/1000\n",
            "61/61 [==============================] - 1s 9ms/step - loss: 0.4321 - accuracy: 0.8651 - val_loss: 3.1382 - val_accuracy: 0.5042\n",
            "Epoch 305/1000\n",
            "61/61 [==============================] - 1s 9ms/step - loss: 0.4224 - accuracy: 0.8703 - val_loss: 3.2137 - val_accuracy: 0.5021\n",
            "Epoch 306/1000\n",
            "61/61 [==============================] - 1s 10ms/step - loss: 0.5050 - accuracy: 0.8423 - val_loss: 3.3883 - val_accuracy: 0.5021\n",
            "Epoch 307/1000\n",
            "61/61 [==============================] - 1s 10ms/step - loss: 0.4727 - accuracy: 0.8568 - val_loss: 3.1988 - val_accuracy: 0.4958\n",
            "Epoch 308/1000\n",
            "61/61 [==============================] - 1s 10ms/step - loss: 0.4968 - accuracy: 0.8454 - val_loss: 3.1049 - val_accuracy: 0.4664\n",
            "Epoch 309/1000\n",
            "61/61 [==============================] - 1s 10ms/step - loss: 0.3487 - accuracy: 0.8786 - val_loss: 3.6560 - val_accuracy: 0.4601\n",
            "Epoch 310/1000\n",
            "61/61 [==============================] - 1s 10ms/step - loss: 0.4062 - accuracy: 0.8755 - val_loss: 3.2311 - val_accuracy: 0.4895\n",
            "Epoch 311/1000\n",
            "61/61 [==============================] - 1s 10ms/step - loss: 0.4719 - accuracy: 0.8631 - val_loss: 3.3768 - val_accuracy: 0.4790\n",
            "Epoch 312/1000\n",
            "61/61 [==============================] - 1s 10ms/step - loss: 0.4172 - accuracy: 0.8776 - val_loss: 4.0654 - val_accuracy: 0.4916\n",
            "Epoch 313/1000\n",
            "61/61 [==============================] - 1s 10ms/step - loss: 0.4493 - accuracy: 0.8703 - val_loss: 3.4236 - val_accuracy: 0.5042\n",
            "Epoch 314/1000\n",
            "61/61 [==============================] - 1s 10ms/step - loss: 0.4941 - accuracy: 0.8589 - val_loss: 3.7109 - val_accuracy: 0.4706\n",
            "Epoch 315/1000\n",
            "61/61 [==============================] - 1s 10ms/step - loss: 0.4706 - accuracy: 0.8807 - val_loss: 3.6250 - val_accuracy: 0.4664\n",
            "Epoch 316/1000\n",
            "61/61 [==============================] - 1s 10ms/step - loss: 0.4323 - accuracy: 0.8631 - val_loss: 3.1498 - val_accuracy: 0.5042\n",
            "Epoch 317/1000\n",
            "61/61 [==============================] - 1s 10ms/step - loss: 0.4418 - accuracy: 0.8672 - val_loss: 3.7856 - val_accuracy: 0.4580\n",
            "Epoch 318/1000\n",
            "61/61 [==============================] - 1s 10ms/step - loss: 0.4411 - accuracy: 0.8600 - val_loss: 3.2961 - val_accuracy: 0.4853\n",
            "Epoch 319/1000\n",
            "61/61 [==============================] - 1s 10ms/step - loss: 0.4504 - accuracy: 0.8610 - val_loss: 3.2820 - val_accuracy: 0.5000\n",
            "Epoch 320/1000\n",
            "61/61 [==============================] - 1s 10ms/step - loss: 0.4528 - accuracy: 0.8641 - val_loss: 3.2779 - val_accuracy: 0.5084\n",
            "Epoch 321/1000\n",
            "61/61 [==============================] - 1s 10ms/step - loss: 0.4026 - accuracy: 0.8786 - val_loss: 3.1595 - val_accuracy: 0.5168\n",
            "Epoch 322/1000\n",
            "61/61 [==============================] - 1s 10ms/step - loss: 0.3750 - accuracy: 0.8828 - val_loss: 3.3717 - val_accuracy: 0.4601\n",
            "Epoch 323/1000\n",
            "61/61 [==============================] - 1s 10ms/step - loss: 0.4769 - accuracy: 0.8703 - val_loss: 3.4752 - val_accuracy: 0.5000\n",
            "Epoch 324/1000\n",
            "61/61 [==============================] - 1s 10ms/step - loss: 0.3975 - accuracy: 0.8766 - val_loss: 3.4209 - val_accuracy: 0.5126\n",
            "Epoch 325/1000\n",
            "61/61 [==============================] - 1s 9ms/step - loss: 0.4300 - accuracy: 0.8703 - val_loss: 3.2707 - val_accuracy: 0.4874\n",
            "Epoch 326/1000\n",
            "61/61 [==============================] - 1s 9ms/step - loss: 0.4454 - accuracy: 0.8641 - val_loss: 4.0971 - val_accuracy: 0.4916\n",
            "Epoch 327/1000\n",
            "61/61 [==============================] - 1s 9ms/step - loss: 0.4996 - accuracy: 0.8755 - val_loss: 3.7824 - val_accuracy: 0.4559\n",
            "Epoch 328/1000\n",
            "61/61 [==============================] - 1s 10ms/step - loss: 0.3709 - accuracy: 0.8662 - val_loss: 3.8525 - val_accuracy: 0.4727\n",
            "Epoch 329/1000\n",
            "61/61 [==============================] - 1s 9ms/step - loss: 0.3894 - accuracy: 0.8734 - val_loss: 3.8943 - val_accuracy: 0.4853\n",
            "Epoch 330/1000\n",
            "61/61 [==============================] - 1s 10ms/step - loss: 0.4337 - accuracy: 0.8817 - val_loss: 3.2111 - val_accuracy: 0.5063\n",
            "Epoch 331/1000\n",
            "61/61 [==============================] - 1s 9ms/step - loss: 0.4752 - accuracy: 0.8724 - val_loss: 3.8422 - val_accuracy: 0.5000\n",
            "Epoch 332/1000\n",
            "61/61 [==============================] - 1s 9ms/step - loss: 0.4168 - accuracy: 0.8776 - val_loss: 4.9450 - val_accuracy: 0.4874\n",
            "Epoch 333/1000\n",
            "61/61 [==============================] - 1s 10ms/step - loss: 0.4835 - accuracy: 0.8631 - val_loss: 3.5251 - val_accuracy: 0.4895\n",
            "Epoch 334/1000\n",
            "61/61 [==============================] - 1s 9ms/step - loss: 0.4822 - accuracy: 0.8755 - val_loss: 3.4051 - val_accuracy: 0.5105\n",
            "Epoch 335/1000\n",
            "61/61 [==============================] - 1s 9ms/step - loss: 0.4113 - accuracy: 0.8703 - val_loss: 3.3319 - val_accuracy: 0.4790\n",
            "Epoch 336/1000\n",
            "61/61 [==============================] - 1s 9ms/step - loss: 0.3837 - accuracy: 0.8714 - val_loss: 3.5273 - val_accuracy: 0.4748\n",
            "Epoch 337/1000\n",
            "61/61 [==============================] - 1s 10ms/step - loss: 0.3861 - accuracy: 0.8817 - val_loss: 3.5822 - val_accuracy: 0.5063\n",
            "Epoch 338/1000\n",
            "61/61 [==============================] - 1s 10ms/step - loss: 0.3804 - accuracy: 0.8797 - val_loss: 3.4719 - val_accuracy: 0.5231\n",
            "Epoch 339/1000\n",
            "61/61 [==============================] - 1s 9ms/step - loss: 0.3933 - accuracy: 0.8776 - val_loss: 3.9757 - val_accuracy: 0.4958\n",
            "Epoch 340/1000\n",
            "61/61 [==============================] - 1s 9ms/step - loss: 0.4436 - accuracy: 0.8776 - val_loss: 3.0999 - val_accuracy: 0.4895\n",
            "Epoch 341/1000\n",
            "61/61 [==============================] - 1s 9ms/step - loss: 0.4811 - accuracy: 0.8589 - val_loss: 3.5368 - val_accuracy: 0.4643\n",
            "Epoch 342/1000\n",
            "61/61 [==============================] - 1s 9ms/step - loss: 0.5117 - accuracy: 0.8579 - val_loss: 4.6641 - val_accuracy: 0.4454\n",
            "Epoch 343/1000\n",
            "61/61 [==============================] - 1s 10ms/step - loss: 0.4766 - accuracy: 0.8672 - val_loss: 4.0134 - val_accuracy: 0.4601\n",
            "Epoch 344/1000\n",
            "61/61 [==============================] - 1s 9ms/step - loss: 0.4021 - accuracy: 0.8641 - val_loss: 3.7588 - val_accuracy: 0.4790\n",
            "Epoch 345/1000\n",
            "61/61 [==============================] - 1s 9ms/step - loss: 0.4936 - accuracy: 0.8672 - val_loss: 3.5813 - val_accuracy: 0.4853\n",
            "Epoch 346/1000\n",
            "61/61 [==============================] - 1s 9ms/step - loss: 0.4488 - accuracy: 0.8734 - val_loss: 3.5434 - val_accuracy: 0.5168\n",
            "Epoch 347/1000\n",
            "61/61 [==============================] - 1s 10ms/step - loss: 0.4290 - accuracy: 0.8662 - val_loss: 3.5350 - val_accuracy: 0.5105\n",
            "Epoch 348/1000\n",
            "61/61 [==============================] - 1s 9ms/step - loss: 0.3604 - accuracy: 0.8900 - val_loss: 3.6115 - val_accuracy: 0.4706\n",
            "Epoch 349/1000\n",
            "61/61 [==============================] - 1s 9ms/step - loss: 0.3967 - accuracy: 0.8693 - val_loss: 3.6232 - val_accuracy: 0.5084\n",
            "Epoch 350/1000\n",
            "61/61 [==============================] - 1s 10ms/step - loss: 0.4759 - accuracy: 0.8766 - val_loss: 3.5271 - val_accuracy: 0.5063\n",
            "Epoch 351/1000\n",
            "61/61 [==============================] - 1s 9ms/step - loss: 0.4192 - accuracy: 0.8745 - val_loss: 5.2999 - val_accuracy: 0.4769\n",
            "Epoch 352/1000\n",
            "61/61 [==============================] - 1s 10ms/step - loss: 0.4826 - accuracy: 0.8724 - val_loss: 3.5930 - val_accuracy: 0.4937\n",
            "Epoch 353/1000\n",
            "61/61 [==============================] - 1s 9ms/step - loss: 0.4978 - accuracy: 0.8724 - val_loss: 3.9292 - val_accuracy: 0.4769\n",
            "Epoch 354/1000\n",
            "61/61 [==============================] - 1s 9ms/step - loss: 0.4795 - accuracy: 0.8558 - val_loss: 3.9980 - val_accuracy: 0.4853\n",
            "Epoch 355/1000\n",
            "61/61 [==============================] - 1s 10ms/step - loss: 0.3962 - accuracy: 0.8911 - val_loss: 3.8190 - val_accuracy: 0.4979\n",
            "Epoch 356/1000\n",
            "61/61 [==============================] - 1s 10ms/step - loss: 0.4114 - accuracy: 0.8786 - val_loss: 4.0774 - val_accuracy: 0.5105\n",
            "Epoch 357/1000\n",
            "61/61 [==============================] - 1s 9ms/step - loss: 0.4919 - accuracy: 0.8620 - val_loss: 3.5360 - val_accuracy: 0.4790\n",
            "Epoch 358/1000\n",
            "61/61 [==============================] - 1s 9ms/step - loss: 0.3971 - accuracy: 0.8880 - val_loss: 3.6355 - val_accuracy: 0.5042\n",
            "Epoch 359/1000\n",
            "61/61 [==============================] - 1s 10ms/step - loss: 0.3865 - accuracy: 0.8734 - val_loss: 3.3683 - val_accuracy: 0.5084\n",
            "Epoch 360/1000\n",
            "61/61 [==============================] - 1s 9ms/step - loss: 0.4103 - accuracy: 0.8838 - val_loss: 3.2847 - val_accuracy: 0.5168\n",
            "Epoch 361/1000\n",
            "61/61 [==============================] - 1s 9ms/step - loss: 0.3720 - accuracy: 0.8724 - val_loss: 3.6714 - val_accuracy: 0.5042\n",
            "Epoch 362/1000\n",
            "61/61 [==============================] - 1s 9ms/step - loss: 0.4173 - accuracy: 0.8641 - val_loss: 3.4229 - val_accuracy: 0.5357\n",
            "Epoch 363/1000\n",
            "61/61 [==============================] - 1s 9ms/step - loss: 0.4534 - accuracy: 0.8724 - val_loss: 3.3398 - val_accuracy: 0.5315\n",
            "Epoch 364/1000\n",
            "61/61 [==============================] - 1s 9ms/step - loss: 0.4461 - accuracy: 0.8672 - val_loss: 3.3501 - val_accuracy: 0.5168\n",
            "Epoch 365/1000\n",
            "61/61 [==============================] - 1s 9ms/step - loss: 0.4299 - accuracy: 0.8693 - val_loss: 3.4713 - val_accuracy: 0.5168\n",
            "Epoch 366/1000\n",
            "61/61 [==============================] - 1s 9ms/step - loss: 0.3841 - accuracy: 0.8880 - val_loss: 3.7997 - val_accuracy: 0.4664\n",
            "Epoch 367/1000\n",
            "61/61 [==============================] - 1s 9ms/step - loss: 0.4213 - accuracy: 0.8745 - val_loss: 3.2191 - val_accuracy: 0.4979\n",
            "Epoch 368/1000\n",
            "61/61 [==============================] - 1s 9ms/step - loss: 0.4650 - accuracy: 0.8662 - val_loss: 3.3911 - val_accuracy: 0.4874\n",
            "Epoch 369/1000\n",
            "61/61 [==============================] - 1s 10ms/step - loss: 0.3825 - accuracy: 0.8900 - val_loss: 3.6592 - val_accuracy: 0.5273\n",
            "Epoch 370/1000\n",
            "61/61 [==============================] - 1s 10ms/step - loss: 0.4224 - accuracy: 0.8797 - val_loss: 3.4822 - val_accuracy: 0.4832\n",
            "Epoch 371/1000\n",
            "61/61 [==============================] - 1s 10ms/step - loss: 0.4182 - accuracy: 0.8921 - val_loss: 3.9708 - val_accuracy: 0.5147\n",
            "Epoch 372/1000\n",
            "61/61 [==============================] - 1s 9ms/step - loss: 0.4835 - accuracy: 0.8600 - val_loss: 3.1517 - val_accuracy: 0.5000\n",
            "Epoch 373/1000\n",
            "61/61 [==============================] - 1s 10ms/step - loss: 0.3449 - accuracy: 0.8859 - val_loss: 3.7778 - val_accuracy: 0.5084\n",
            "Epoch 374/1000\n",
            "61/61 [==============================] - 1s 9ms/step - loss: 0.3235 - accuracy: 0.9025 - val_loss: 3.5588 - val_accuracy: 0.5294\n",
            "Epoch 375/1000\n",
            "61/61 [==============================] - 1s 10ms/step - loss: 0.4049 - accuracy: 0.8859 - val_loss: 3.4091 - val_accuracy: 0.4979\n",
            "Epoch 376/1000\n",
            "61/61 [==============================] - 1s 10ms/step - loss: 0.4172 - accuracy: 0.8807 - val_loss: 3.6496 - val_accuracy: 0.4958\n",
            "Epoch 377/1000\n",
            "61/61 [==============================] - 1s 9ms/step - loss: 0.4204 - accuracy: 0.8817 - val_loss: 3.7713 - val_accuracy: 0.5189\n",
            "Epoch 378/1000\n",
            "61/61 [==============================] - 1s 10ms/step - loss: 0.3854 - accuracy: 0.8755 - val_loss: 3.1776 - val_accuracy: 0.5021\n",
            "Epoch 379/1000\n",
            "61/61 [==============================] - 1s 10ms/step - loss: 0.4020 - accuracy: 0.8734 - val_loss: 4.2757 - val_accuracy: 0.4412\n",
            "Epoch 380/1000\n",
            "61/61 [==============================] - 1s 10ms/step - loss: 0.3791 - accuracy: 0.8932 - val_loss: 3.4698 - val_accuracy: 0.5000\n",
            "Epoch 381/1000\n",
            "61/61 [==============================] - 1s 10ms/step - loss: 0.3805 - accuracy: 0.8869 - val_loss: 3.6894 - val_accuracy: 0.5546\n",
            "Epoch 382/1000\n",
            "61/61 [==============================] - 1s 9ms/step - loss: 0.4078 - accuracy: 0.8849 - val_loss: 3.4960 - val_accuracy: 0.5336\n",
            "Epoch 383/1000\n",
            "61/61 [==============================] - 1s 9ms/step - loss: 0.3786 - accuracy: 0.8849 - val_loss: 4.1921 - val_accuracy: 0.4937\n",
            "Epoch 384/1000\n",
            "61/61 [==============================] - 1s 10ms/step - loss: 0.3826 - accuracy: 0.9015 - val_loss: 3.7136 - val_accuracy: 0.4937\n",
            "Epoch 385/1000\n",
            "61/61 [==============================] - 1s 9ms/step - loss: 0.4455 - accuracy: 0.8703 - val_loss: 4.4135 - val_accuracy: 0.5000\n",
            "Epoch 386/1000\n",
            "61/61 [==============================] - 1s 10ms/step - loss: 0.4090 - accuracy: 0.8952 - val_loss: 3.5120 - val_accuracy: 0.4685\n",
            "Epoch 387/1000\n",
            "61/61 [==============================] - 1s 9ms/step - loss: 0.4595 - accuracy: 0.8714 - val_loss: 3.7110 - val_accuracy: 0.5021\n",
            "Epoch 388/1000\n",
            "61/61 [==============================] - 1s 10ms/step - loss: 0.4027 - accuracy: 0.8807 - val_loss: 3.9040 - val_accuracy: 0.5210\n",
            "Epoch 389/1000\n",
            "61/61 [==============================] - 1s 9ms/step - loss: 0.3526 - accuracy: 0.8994 - val_loss: 3.8570 - val_accuracy: 0.4832\n",
            "Epoch 390/1000\n",
            "61/61 [==============================] - 1s 10ms/step - loss: 0.4847 - accuracy: 0.8610 - val_loss: 3.8748 - val_accuracy: 0.5210\n",
            "Epoch 391/1000\n",
            "61/61 [==============================] - 1s 9ms/step - loss: 0.4297 - accuracy: 0.8766 - val_loss: 4.3799 - val_accuracy: 0.4832\n",
            "Epoch 392/1000\n",
            "61/61 [==============================] - 1s 9ms/step - loss: 0.4190 - accuracy: 0.8734 - val_loss: 3.3520 - val_accuracy: 0.4937\n",
            "Epoch 393/1000\n",
            "61/61 [==============================] - 1s 9ms/step - loss: 0.3604 - accuracy: 0.9004 - val_loss: 4.2427 - val_accuracy: 0.5000\n",
            "Epoch 394/1000\n",
            "61/61 [==============================] - 1s 9ms/step - loss: 0.4079 - accuracy: 0.8838 - val_loss: 3.5742 - val_accuracy: 0.4895\n",
            "Epoch 395/1000\n",
            "61/61 [==============================] - 1s 9ms/step - loss: 0.4368 - accuracy: 0.8807 - val_loss: 3.7979 - val_accuracy: 0.4727\n",
            "Epoch 396/1000\n",
            "61/61 [==============================] - 1s 9ms/step - loss: 0.3918 - accuracy: 0.8703 - val_loss: 4.1257 - val_accuracy: 0.4664\n",
            "Epoch 397/1000\n",
            "61/61 [==============================] - 1s 9ms/step - loss: 0.4338 - accuracy: 0.8776 - val_loss: 3.5116 - val_accuracy: 0.5105\n",
            "Epoch 398/1000\n",
            "61/61 [==============================] - 1s 9ms/step - loss: 0.4928 - accuracy: 0.8537 - val_loss: 3.5350 - val_accuracy: 0.4853\n",
            "Epoch 399/1000\n",
            "61/61 [==============================] - 1s 9ms/step - loss: 0.4790 - accuracy: 0.8786 - val_loss: 3.9252 - val_accuracy: 0.5063\n",
            "Epoch 400/1000\n",
            "61/61 [==============================] - 1s 9ms/step - loss: 0.4564 - accuracy: 0.8755 - val_loss: 3.5505 - val_accuracy: 0.4727\n",
            "Epoch 401/1000\n",
            "61/61 [==============================] - 1s 9ms/step - loss: 0.3353 - accuracy: 0.8807 - val_loss: 3.8862 - val_accuracy: 0.5042\n",
            "Epoch 402/1000\n",
            "61/61 [==============================] - 1s 9ms/step - loss: 0.4545 - accuracy: 0.8776 - val_loss: 3.9720 - val_accuracy: 0.5000\n",
            "Epoch 403/1000\n",
            "61/61 [==============================] - 1s 9ms/step - loss: 0.4148 - accuracy: 0.8786 - val_loss: 3.6115 - val_accuracy: 0.5105\n",
            "Epoch 404/1000\n",
            "61/61 [==============================] - 1s 9ms/step - loss: 0.4753 - accuracy: 0.8766 - val_loss: 3.5541 - val_accuracy: 0.5147\n",
            "Epoch 405/1000\n",
            "61/61 [==============================] - 1s 9ms/step - loss: 0.4016 - accuracy: 0.8849 - val_loss: 3.8235 - val_accuracy: 0.5063\n",
            "Epoch 406/1000\n",
            "61/61 [==============================] - 1s 9ms/step - loss: 0.3743 - accuracy: 0.9004 - val_loss: 3.5404 - val_accuracy: 0.4790\n",
            "Epoch 407/1000\n",
            "61/61 [==============================] - 1s 9ms/step - loss: 0.4152 - accuracy: 0.8766 - val_loss: 3.6295 - val_accuracy: 0.4979\n",
            "Epoch 408/1000\n",
            "61/61 [==============================] - 1s 10ms/step - loss: 0.3620 - accuracy: 0.8942 - val_loss: 4.2036 - val_accuracy: 0.4643\n",
            "Epoch 409/1000\n",
            "61/61 [==============================] - 1s 9ms/step - loss: 0.4357 - accuracy: 0.8890 - val_loss: 3.3231 - val_accuracy: 0.5210\n",
            "Epoch 410/1000\n",
            "61/61 [==============================] - 1s 9ms/step - loss: 0.4252 - accuracy: 0.8807 - val_loss: 3.9769 - val_accuracy: 0.5000\n",
            "Epoch 411/1000\n",
            "61/61 [==============================] - 1s 9ms/step - loss: 0.4684 - accuracy: 0.8651 - val_loss: 3.7294 - val_accuracy: 0.5294\n",
            "Epoch 412/1000\n",
            "61/61 [==============================] - 1s 9ms/step - loss: 0.4265 - accuracy: 0.8828 - val_loss: 4.1003 - val_accuracy: 0.5063\n",
            "Epoch 413/1000\n",
            "61/61 [==============================] - 1s 9ms/step - loss: 0.3383 - accuracy: 0.8952 - val_loss: 4.5274 - val_accuracy: 0.4958\n",
            "Epoch 414/1000\n",
            "61/61 [==============================] - 1s 9ms/step - loss: 0.4299 - accuracy: 0.8900 - val_loss: 3.5114 - val_accuracy: 0.4853\n",
            "Epoch 415/1000\n",
            "61/61 [==============================] - 1s 9ms/step - loss: 0.3427 - accuracy: 0.8973 - val_loss: 4.7444 - val_accuracy: 0.4748\n",
            "Epoch 416/1000\n",
            "61/61 [==============================] - 1s 9ms/step - loss: 0.3833 - accuracy: 0.8963 - val_loss: 3.6164 - val_accuracy: 0.4916\n",
            "Epoch 417/1000\n",
            "61/61 [==============================] - 1s 9ms/step - loss: 0.4411 - accuracy: 0.8693 - val_loss: 4.0042 - val_accuracy: 0.5147\n",
            "Epoch 418/1000\n",
            "61/61 [==============================] - 1s 10ms/step - loss: 0.4032 - accuracy: 0.8786 - val_loss: 5.0816 - val_accuracy: 0.4391\n",
            "Epoch 419/1000\n",
            "61/61 [==============================] - 1s 9ms/step - loss: 0.3784 - accuracy: 0.8963 - val_loss: 3.7008 - val_accuracy: 0.4895\n",
            "Epoch 420/1000\n",
            "61/61 [==============================] - 1s 9ms/step - loss: 0.4839 - accuracy: 0.8662 - val_loss: 3.9301 - val_accuracy: 0.4832\n",
            "Epoch 421/1000\n",
            "61/61 [==============================] - 1s 10ms/step - loss: 0.3953 - accuracy: 0.8776 - val_loss: 3.8340 - val_accuracy: 0.5315\n",
            "Epoch 422/1000\n",
            "61/61 [==============================] - 1s 9ms/step - loss: 0.5124 - accuracy: 0.8786 - val_loss: 3.6201 - val_accuracy: 0.5273\n",
            "Epoch 423/1000\n",
            "61/61 [==============================] - 1s 9ms/step - loss: 0.3389 - accuracy: 0.9004 - val_loss: 4.1763 - val_accuracy: 0.4748\n",
            "Epoch 424/1000\n",
            "61/61 [==============================] - 1s 9ms/step - loss: 0.3904 - accuracy: 0.8973 - val_loss: 4.5302 - val_accuracy: 0.4874\n",
            "Epoch 425/1000\n",
            "61/61 [==============================] - 1s 9ms/step - loss: 0.4578 - accuracy: 0.8817 - val_loss: 3.5754 - val_accuracy: 0.5084\n",
            "Epoch 426/1000\n",
            "61/61 [==============================] - 1s 10ms/step - loss: 0.3253 - accuracy: 0.9087 - val_loss: 4.2492 - val_accuracy: 0.4979\n",
            "Epoch 427/1000\n",
            "61/61 [==============================] - 1s 9ms/step - loss: 0.4032 - accuracy: 0.8734 - val_loss: 3.8178 - val_accuracy: 0.4853\n",
            "Epoch 428/1000\n",
            "61/61 [==============================] - 1s 9ms/step - loss: 0.4608 - accuracy: 0.8693 - val_loss: 3.9095 - val_accuracy: 0.4790\n",
            "Epoch 429/1000\n",
            "61/61 [==============================] - 1s 9ms/step - loss: 0.5318 - accuracy: 0.8620 - val_loss: 4.0303 - val_accuracy: 0.5000\n",
            "Epoch 430/1000\n",
            "61/61 [==============================] - 1s 9ms/step - loss: 0.4047 - accuracy: 0.8807 - val_loss: 3.7726 - val_accuracy: 0.4370\n",
            "Epoch 431/1000\n",
            "61/61 [==============================] - 1s 10ms/step - loss: 0.4266 - accuracy: 0.8797 - val_loss: 3.6163 - val_accuracy: 0.5021\n",
            "Epoch 432/1000\n",
            "61/61 [==============================] - 1s 9ms/step - loss: 0.3953 - accuracy: 0.8828 - val_loss: 3.8569 - val_accuracy: 0.4874\n",
            "Epoch 433/1000\n",
            "61/61 [==============================] - 1s 9ms/step - loss: 0.5828 - accuracy: 0.8610 - val_loss: 4.0874 - val_accuracy: 0.5021\n",
            "Epoch 434/1000\n",
            "61/61 [==============================] - 1s 9ms/step - loss: 0.3491 - accuracy: 0.8994 - val_loss: 4.0362 - val_accuracy: 0.4832\n",
            "Epoch 435/1000\n",
            "61/61 [==============================] - 1s 9ms/step - loss: 0.4030 - accuracy: 0.8952 - val_loss: 4.0114 - val_accuracy: 0.5126\n",
            "Epoch 436/1000\n",
            "61/61 [==============================] - 1s 9ms/step - loss: 0.3876 - accuracy: 0.8849 - val_loss: 4.3851 - val_accuracy: 0.5252\n",
            "Epoch 437/1000\n",
            "61/61 [==============================] - 1s 9ms/step - loss: 0.4271 - accuracy: 0.8900 - val_loss: 4.7235 - val_accuracy: 0.4496\n",
            "Epoch 438/1000\n",
            "61/61 [==============================] - 1s 10ms/step - loss: 0.3960 - accuracy: 0.8849 - val_loss: 4.7174 - val_accuracy: 0.5147\n",
            "Epoch 439/1000\n",
            "61/61 [==============================] - 1s 9ms/step - loss: 0.5080 - accuracy: 0.8734 - val_loss: 3.8041 - val_accuracy: 0.4979\n",
            "Epoch 440/1000\n",
            "61/61 [==============================] - 1s 9ms/step - loss: 0.4516 - accuracy: 0.8828 - val_loss: 4.3138 - val_accuracy: 0.4979\n",
            "Epoch 441/1000\n",
            "61/61 [==============================] - 1s 10ms/step - loss: 0.4787 - accuracy: 0.8766 - val_loss: 4.1069 - val_accuracy: 0.4958\n",
            "Epoch 442/1000\n",
            "61/61 [==============================] - 1s 9ms/step - loss: 0.3731 - accuracy: 0.8963 - val_loss: 4.0515 - val_accuracy: 0.5420\n",
            "Epoch 443/1000\n",
            "61/61 [==============================] - 1s 10ms/step - loss: 0.5562 - accuracy: 0.8734 - val_loss: 3.9586 - val_accuracy: 0.4937\n",
            "Epoch 444/1000\n",
            "61/61 [==============================] - 1s 9ms/step - loss: 0.4218 - accuracy: 0.8714 - val_loss: 3.7633 - val_accuracy: 0.4727\n",
            "Epoch 445/1000\n",
            "61/61 [==============================] - 1s 9ms/step - loss: 0.3475 - accuracy: 0.9056 - val_loss: 3.7174 - val_accuracy: 0.5021\n",
            "Epoch 446/1000\n",
            "61/61 [==============================] - 1s 9ms/step - loss: 0.3980 - accuracy: 0.8828 - val_loss: 4.2597 - val_accuracy: 0.4790\n",
            "Epoch 447/1000\n",
            "61/61 [==============================] - 1s 9ms/step - loss: 0.4524 - accuracy: 0.8724 - val_loss: 4.4948 - val_accuracy: 0.4958\n",
            "Epoch 448/1000\n",
            "61/61 [==============================] - 1s 9ms/step - loss: 0.4014 - accuracy: 0.8849 - val_loss: 4.1521 - val_accuracy: 0.4895\n",
            "Epoch 449/1000\n",
            "61/61 [==============================] - 1s 10ms/step - loss: 0.3795 - accuracy: 0.9015 - val_loss: 4.1917 - val_accuracy: 0.5063\n",
            "Epoch 450/1000\n",
            "61/61 [==============================] - 1s 9ms/step - loss: 0.4747 - accuracy: 0.8807 - val_loss: 4.0384 - val_accuracy: 0.5252\n",
            "Epoch 451/1000\n",
            "61/61 [==============================] - 1s 9ms/step - loss: 0.4324 - accuracy: 0.8817 - val_loss: 3.7232 - val_accuracy: 0.5189\n",
            "Epoch 452/1000\n",
            "61/61 [==============================] - 1s 10ms/step - loss: 0.4084 - accuracy: 0.8869 - val_loss: 4.1327 - val_accuracy: 0.4874\n",
            "Epoch 453/1000\n",
            "61/61 [==============================] - 1s 9ms/step - loss: 0.4078 - accuracy: 0.8900 - val_loss: 3.8308 - val_accuracy: 0.5252\n",
            "Epoch 454/1000\n",
            "61/61 [==============================] - 1s 10ms/step - loss: 0.4193 - accuracy: 0.8963 - val_loss: 3.8214 - val_accuracy: 0.5021\n",
            "Epoch 455/1000\n",
            "61/61 [==============================] - 1s 10ms/step - loss: 0.3616 - accuracy: 0.8911 - val_loss: 5.3114 - val_accuracy: 0.4937\n",
            "Epoch 456/1000\n",
            "61/61 [==============================] - 1s 9ms/step - loss: 0.4694 - accuracy: 0.8880 - val_loss: 4.0941 - val_accuracy: 0.5105\n",
            "Epoch 457/1000\n",
            "61/61 [==============================] - 1s 9ms/step - loss: 0.4852 - accuracy: 0.8651 - val_loss: 3.6494 - val_accuracy: 0.5063\n",
            "Epoch 458/1000\n",
            "61/61 [==============================] - 1s 9ms/step - loss: 0.4518 - accuracy: 0.8755 - val_loss: 3.9116 - val_accuracy: 0.5084\n",
            "Epoch 459/1000\n",
            "61/61 [==============================] - 1s 9ms/step - loss: 0.4364 - accuracy: 0.8776 - val_loss: 4.2082 - val_accuracy: 0.5084\n",
            "Epoch 460/1000\n",
            "61/61 [==============================] - 1s 10ms/step - loss: 0.3696 - accuracy: 0.8952 - val_loss: 4.0921 - val_accuracy: 0.5315\n",
            "Epoch 461/1000\n",
            "61/61 [==============================] - 1s 10ms/step - loss: 0.5130 - accuracy: 0.8600 - val_loss: 4.0293 - val_accuracy: 0.5168\n",
            "Epoch 462/1000\n",
            "61/61 [==============================] - 1s 9ms/step - loss: 0.4726 - accuracy: 0.8766 - val_loss: 4.0811 - val_accuracy: 0.5000\n",
            "Epoch 463/1000\n",
            "61/61 [==============================] - 1s 9ms/step - loss: 0.3357 - accuracy: 0.8942 - val_loss: 3.9671 - val_accuracy: 0.5147\n",
            "Epoch 464/1000\n",
            "61/61 [==============================] - 1s 9ms/step - loss: 0.3859 - accuracy: 0.8932 - val_loss: 4.5652 - val_accuracy: 0.5105\n",
            "Epoch 465/1000\n",
            "61/61 [==============================] - 1s 9ms/step - loss: 0.4357 - accuracy: 0.8849 - val_loss: 5.1498 - val_accuracy: 0.4832\n",
            "Epoch 466/1000\n",
            "61/61 [==============================] - 1s 9ms/step - loss: 0.3707 - accuracy: 0.9004 - val_loss: 4.5572 - val_accuracy: 0.5147\n",
            "Epoch 467/1000\n",
            "61/61 [==============================] - 1s 9ms/step - loss: 0.4337 - accuracy: 0.8817 - val_loss: 4.0764 - val_accuracy: 0.4958\n",
            "Epoch 468/1000\n",
            "61/61 [==============================] - 1s 9ms/step - loss: 0.4370 - accuracy: 0.8890 - val_loss: 4.0354 - val_accuracy: 0.4895\n",
            "Epoch 469/1000\n",
            "61/61 [==============================] - 1s 9ms/step - loss: 0.4053 - accuracy: 0.8973 - val_loss: 4.1520 - val_accuracy: 0.4916\n",
            "Epoch 470/1000\n",
            "61/61 [==============================] - 1s 9ms/step - loss: 0.4623 - accuracy: 0.8724 - val_loss: 3.8771 - val_accuracy: 0.4958\n",
            "Epoch 471/1000\n",
            "61/61 [==============================] - 1s 9ms/step - loss: 0.4963 - accuracy: 0.8600 - val_loss: 3.6698 - val_accuracy: 0.5021\n",
            "Epoch 472/1000\n",
            "61/61 [==============================] - 1s 9ms/step - loss: 0.4517 - accuracy: 0.8817 - val_loss: 4.6960 - val_accuracy: 0.5126\n",
            "Epoch 473/1000\n",
            "61/61 [==============================] - 1s 9ms/step - loss: 0.3872 - accuracy: 0.8973 - val_loss: 4.0226 - val_accuracy: 0.5168\n",
            "Epoch 474/1000\n",
            "61/61 [==============================] - 1s 9ms/step - loss: 0.4771 - accuracy: 0.8724 - val_loss: 5.0764 - val_accuracy: 0.5021\n",
            "Epoch 475/1000\n",
            "61/61 [==============================] - 1s 9ms/step - loss: 0.3481 - accuracy: 0.9077 - val_loss: 4.6869 - val_accuracy: 0.5105\n",
            "Epoch 476/1000\n",
            "61/61 [==============================] - 1s 10ms/step - loss: 0.4317 - accuracy: 0.8900 - val_loss: 4.3795 - val_accuracy: 0.5210\n",
            "Epoch 477/1000\n",
            "61/61 [==============================] - 1s 10ms/step - loss: 0.3044 - accuracy: 0.9087 - val_loss: 4.3684 - val_accuracy: 0.4874\n",
            "Epoch 478/1000\n",
            "61/61 [==============================] - 1s 10ms/step - loss: 0.4691 - accuracy: 0.8859 - val_loss: 4.7797 - val_accuracy: 0.4664\n",
            "Epoch 479/1000\n",
            "61/61 [==============================] - 1s 10ms/step - loss: 0.4612 - accuracy: 0.8693 - val_loss: 3.9174 - val_accuracy: 0.4916\n",
            "Epoch 480/1000\n",
            "61/61 [==============================] - 1s 9ms/step - loss: 0.4312 - accuracy: 0.8859 - val_loss: 4.1293 - val_accuracy: 0.4769\n",
            "Epoch 481/1000\n",
            "61/61 [==============================] - 1s 9ms/step - loss: 0.4323 - accuracy: 0.8828 - val_loss: 4.1263 - val_accuracy: 0.5063\n",
            "Epoch 482/1000\n",
            "61/61 [==============================] - 1s 9ms/step - loss: 0.3788 - accuracy: 0.8880 - val_loss: 4.0270 - val_accuracy: 0.4832\n",
            "Epoch 483/1000\n",
            "61/61 [==============================] - 1s 9ms/step - loss: 0.3387 - accuracy: 0.8983 - val_loss: 4.7735 - val_accuracy: 0.4937\n",
            "Epoch 484/1000\n",
            "61/61 [==============================] - 1s 9ms/step - loss: 0.4740 - accuracy: 0.8786 - val_loss: 4.1919 - val_accuracy: 0.4748\n",
            "Epoch 485/1000\n",
            "61/61 [==============================] - 1s 9ms/step - loss: 0.3983 - accuracy: 0.8890 - val_loss: 4.1573 - val_accuracy: 0.5168\n",
            "Epoch 486/1000\n",
            "61/61 [==============================] - 1s 9ms/step - loss: 0.4272 - accuracy: 0.9004 - val_loss: 4.2742 - val_accuracy: 0.5105\n",
            "Epoch 487/1000\n",
            "61/61 [==============================] - 1s 9ms/step - loss: 0.4136 - accuracy: 0.8786 - val_loss: 4.3456 - val_accuracy: 0.4958\n",
            "Epoch 488/1000\n",
            "61/61 [==============================] - 1s 9ms/step - loss: 0.5026 - accuracy: 0.8714 - val_loss: 3.9129 - val_accuracy: 0.4937\n",
            "Epoch 489/1000\n",
            "61/61 [==============================] - 1s 9ms/step - loss: 0.3906 - accuracy: 0.8890 - val_loss: 4.0227 - val_accuracy: 0.4895\n",
            "Epoch 490/1000\n",
            "61/61 [==============================] - 1s 9ms/step - loss: 0.3777 - accuracy: 0.8963 - val_loss: 4.9769 - val_accuracy: 0.5042\n",
            "Epoch 491/1000\n",
            "61/61 [==============================] - 1s 9ms/step - loss: 0.4233 - accuracy: 0.8807 - val_loss: 4.6615 - val_accuracy: 0.5168\n",
            "Epoch 492/1000\n",
            "61/61 [==============================] - 1s 9ms/step - loss: 0.3731 - accuracy: 0.9015 - val_loss: 5.0871 - val_accuracy: 0.4790\n",
            "Epoch 493/1000\n",
            "61/61 [==============================] - 1s 9ms/step - loss: 0.4343 - accuracy: 0.8942 - val_loss: 3.7761 - val_accuracy: 0.4979\n",
            "Epoch 494/1000\n",
            "61/61 [==============================] - 1s 9ms/step - loss: 0.3582 - accuracy: 0.9046 - val_loss: 4.3291 - val_accuracy: 0.4916\n",
            "Epoch 495/1000\n",
            "61/61 [==============================] - 1s 10ms/step - loss: 0.5115 - accuracy: 0.8734 - val_loss: 3.8604 - val_accuracy: 0.5000\n",
            "Epoch 496/1000\n",
            "61/61 [==============================] - 1s 10ms/step - loss: 0.4403 - accuracy: 0.8911 - val_loss: 4.4033 - val_accuracy: 0.5147\n",
            "Epoch 497/1000\n",
            "61/61 [==============================] - 1s 9ms/step - loss: 0.5286 - accuracy: 0.8786 - val_loss: 3.9150 - val_accuracy: 0.5000\n",
            "Epoch 498/1000\n",
            "61/61 [==============================] - 1s 9ms/step - loss: 0.3863 - accuracy: 0.9015 - val_loss: 4.5517 - val_accuracy: 0.4727\n",
            "Epoch 499/1000\n",
            "61/61 [==============================] - 1s 10ms/step - loss: 0.4783 - accuracy: 0.8880 - val_loss: 4.1050 - val_accuracy: 0.4937\n",
            "Epoch 500/1000\n",
            "61/61 [==============================] - 1s 10ms/step - loss: 0.3286 - accuracy: 0.9025 - val_loss: 4.0139 - val_accuracy: 0.5084\n",
            "Epoch 501/1000\n",
            "61/61 [==============================] - 1s 10ms/step - loss: 0.4056 - accuracy: 0.8942 - val_loss: 4.7390 - val_accuracy: 0.4811\n",
            "Epoch 502/1000\n",
            "61/61 [==============================] - 1s 10ms/step - loss: 0.3606 - accuracy: 0.9046 - val_loss: 4.8633 - val_accuracy: 0.5063\n",
            "Epoch 503/1000\n",
            "61/61 [==============================] - 1s 10ms/step - loss: 0.4513 - accuracy: 0.8724 - val_loss: 3.9660 - val_accuracy: 0.5105\n",
            "Epoch 504/1000\n",
            "61/61 [==============================] - 1s 10ms/step - loss: 0.3622 - accuracy: 0.9015 - val_loss: 4.5898 - val_accuracy: 0.4895\n",
            "Epoch 505/1000\n",
            "61/61 [==============================] - 1s 10ms/step - loss: 0.4166 - accuracy: 0.8942 - val_loss: 4.0480 - val_accuracy: 0.5147\n",
            "Epoch 506/1000\n",
            "61/61 [==============================] - 1s 10ms/step - loss: 0.4654 - accuracy: 0.8869 - val_loss: 4.4018 - val_accuracy: 0.4832\n",
            "Epoch 507/1000\n",
            "61/61 [==============================] - 1s 10ms/step - loss: 0.4922 - accuracy: 0.8859 - val_loss: 4.2497 - val_accuracy: 0.5000\n",
            "Epoch 508/1000\n",
            "61/61 [==============================] - 1s 9ms/step - loss: 0.3908 - accuracy: 0.8869 - val_loss: 4.4971 - val_accuracy: 0.4979\n",
            "Epoch 509/1000\n",
            "61/61 [==============================] - 1s 9ms/step - loss: 0.4253 - accuracy: 0.8724 - val_loss: 5.2864 - val_accuracy: 0.4685\n",
            "Epoch 510/1000\n",
            "61/61 [==============================] - 1s 9ms/step - loss: 0.4561 - accuracy: 0.8942 - val_loss: 3.8994 - val_accuracy: 0.5084\n",
            "Epoch 511/1000\n",
            "61/61 [==============================] - 1s 9ms/step - loss: 0.3344 - accuracy: 0.9139 - val_loss: 5.0236 - val_accuracy: 0.5000\n",
            "Epoch 512/1000\n",
            "61/61 [==============================] - 1s 10ms/step - loss: 0.3894 - accuracy: 0.8890 - val_loss: 3.9455 - val_accuracy: 0.5168\n",
            "Epoch 513/1000\n",
            "61/61 [==============================] - 1s 9ms/step - loss: 0.3810 - accuracy: 0.8921 - val_loss: 4.7102 - val_accuracy: 0.4874\n",
            "Epoch 514/1000\n",
            "61/61 [==============================] - 1s 9ms/step - loss: 0.4263 - accuracy: 0.8900 - val_loss: 4.6369 - val_accuracy: 0.5168\n",
            "Epoch 515/1000\n",
            "61/61 [==============================] - 1s 9ms/step - loss: 0.3563 - accuracy: 0.9087 - val_loss: 4.8130 - val_accuracy: 0.5231\n",
            "Epoch 516/1000\n",
            "61/61 [==============================] - 1s 9ms/step - loss: 0.4680 - accuracy: 0.8797 - val_loss: 3.9184 - val_accuracy: 0.4958\n",
            "Epoch 517/1000\n",
            "61/61 [==============================] - 1s 9ms/step - loss: 0.4154 - accuracy: 0.8797 - val_loss: 4.5235 - val_accuracy: 0.5105\n",
            "Epoch 518/1000\n",
            "61/61 [==============================] - 1s 9ms/step - loss: 0.4147 - accuracy: 0.8911 - val_loss: 4.5117 - val_accuracy: 0.5168\n",
            "Epoch 519/1000\n",
            "61/61 [==============================] - 1s 9ms/step - loss: 0.4615 - accuracy: 0.8932 - val_loss: 4.4093 - val_accuracy: 0.4874\n",
            "Epoch 520/1000\n",
            "61/61 [==============================] - 1s 9ms/step - loss: 0.4839 - accuracy: 0.8745 - val_loss: 4.3394 - val_accuracy: 0.4601\n",
            "Epoch 521/1000\n",
            "61/61 [==============================] - 1s 10ms/step - loss: 0.4056 - accuracy: 0.8921 - val_loss: 4.1811 - val_accuracy: 0.4874\n",
            "Epoch 522/1000\n",
            "61/61 [==============================] - 1s 9ms/step - loss: 0.4458 - accuracy: 0.8963 - val_loss: 4.0276 - val_accuracy: 0.5126\n",
            "Epoch 523/1000\n",
            "61/61 [==============================] - 1s 10ms/step - loss: 0.3828 - accuracy: 0.8942 - val_loss: 4.8795 - val_accuracy: 0.5021\n",
            "Epoch 524/1000\n",
            "61/61 [==============================] - 1s 9ms/step - loss: 0.4978 - accuracy: 0.8869 - val_loss: 4.2102 - val_accuracy: 0.4769\n",
            "Epoch 525/1000\n",
            "61/61 [==============================] - 1s 9ms/step - loss: 0.4601 - accuracy: 0.8797 - val_loss: 4.4934 - val_accuracy: 0.4937\n",
            "Epoch 526/1000\n",
            "61/61 [==============================] - 1s 10ms/step - loss: 0.4676 - accuracy: 0.8776 - val_loss: 4.5803 - val_accuracy: 0.5105\n",
            "Epoch 527/1000\n",
            "61/61 [==============================] - 1s 9ms/step - loss: 0.4131 - accuracy: 0.8900 - val_loss: 4.6023 - val_accuracy: 0.5021\n",
            "Epoch 528/1000\n",
            "61/61 [==============================] - 1s 9ms/step - loss: 0.4785 - accuracy: 0.8900 - val_loss: 4.0341 - val_accuracy: 0.5000\n",
            "Epoch 529/1000\n",
            "61/61 [==============================] - 1s 10ms/step - loss: 0.4016 - accuracy: 0.8921 - val_loss: 4.2763 - val_accuracy: 0.5105\n",
            "Epoch 530/1000\n",
            "61/61 [==============================] - 1s 9ms/step - loss: 0.4755 - accuracy: 0.8724 - val_loss: 4.2906 - val_accuracy: 0.5042\n",
            "Epoch 531/1000\n",
            "61/61 [==============================] - 1s 10ms/step - loss: 0.4608 - accuracy: 0.8817 - val_loss: 4.4784 - val_accuracy: 0.4727\n",
            "Epoch 532/1000\n",
            "61/61 [==============================] - 1s 10ms/step - loss: 0.3531 - accuracy: 0.9015 - val_loss: 4.2287 - val_accuracy: 0.5042\n",
            "Epoch 533/1000\n",
            "61/61 [==============================] - 1s 10ms/step - loss: 0.4612 - accuracy: 0.8932 - val_loss: 4.2638 - val_accuracy: 0.5210\n",
            "Epoch 534/1000\n",
            "61/61 [==============================] - 1s 9ms/step - loss: 0.3391 - accuracy: 0.9087 - val_loss: 4.2023 - val_accuracy: 0.5420\n",
            "Epoch 535/1000\n",
            "61/61 [==============================] - 1s 9ms/step - loss: 0.3609 - accuracy: 0.8952 - val_loss: 4.1030 - val_accuracy: 0.5252\n",
            "Epoch 536/1000\n",
            "61/61 [==============================] - 1s 9ms/step - loss: 0.4482 - accuracy: 0.8942 - val_loss: 4.8761 - val_accuracy: 0.4748\n",
            "Epoch 537/1000\n",
            "61/61 [==============================] - 1s 9ms/step - loss: 0.4206 - accuracy: 0.8963 - val_loss: 4.3226 - val_accuracy: 0.4895\n",
            "Epoch 538/1000\n",
            "61/61 [==============================] - 1s 9ms/step - loss: 0.4223 - accuracy: 0.8900 - val_loss: 4.3600 - val_accuracy: 0.4664\n",
            "Epoch 539/1000\n",
            "61/61 [==============================] - 1s 9ms/step - loss: 0.3929 - accuracy: 0.8983 - val_loss: 4.3132 - val_accuracy: 0.5021\n",
            "Epoch 540/1000\n",
            "61/61 [==============================] - 1s 10ms/step - loss: 0.3898 - accuracy: 0.9087 - val_loss: 4.3698 - val_accuracy: 0.5021\n",
            "Epoch 541/1000\n",
            "61/61 [==============================] - 1s 9ms/step - loss: 0.3226 - accuracy: 0.9191 - val_loss: 4.8169 - val_accuracy: 0.4937\n",
            "Epoch 542/1000\n",
            "61/61 [==============================] - 1s 9ms/step - loss: 0.5446 - accuracy: 0.8880 - val_loss: 5.4313 - val_accuracy: 0.4874\n",
            "Epoch 543/1000\n",
            "61/61 [==============================] - 1s 10ms/step - loss: 0.3607 - accuracy: 0.8952 - val_loss: 4.7963 - val_accuracy: 0.5210\n",
            "Epoch 544/1000\n",
            "61/61 [==============================] - 1s 10ms/step - loss: 0.4404 - accuracy: 0.8849 - val_loss: 4.1044 - val_accuracy: 0.5189\n",
            "Epoch 545/1000\n",
            "61/61 [==============================] - 1s 9ms/step - loss: 0.3631 - accuracy: 0.8900 - val_loss: 4.5163 - val_accuracy: 0.4916\n",
            "Epoch 546/1000\n",
            "61/61 [==============================] - 1s 9ms/step - loss: 0.3653 - accuracy: 0.8973 - val_loss: 4.7291 - val_accuracy: 0.5189\n",
            "Epoch 547/1000\n",
            "61/61 [==============================] - 1s 9ms/step - loss: 0.4488 - accuracy: 0.8994 - val_loss: 4.3541 - val_accuracy: 0.5084\n",
            "Epoch 548/1000\n",
            "61/61 [==============================] - 1s 9ms/step - loss: 0.3707 - accuracy: 0.9149 - val_loss: 4.6403 - val_accuracy: 0.5126\n",
            "Epoch 549/1000\n",
            "61/61 [==============================] - 1s 9ms/step - loss: 0.4577 - accuracy: 0.9098 - val_loss: 4.6878 - val_accuracy: 0.5294\n",
            "Epoch 550/1000\n",
            "61/61 [==============================] - 1s 9ms/step - loss: 0.3681 - accuracy: 0.9004 - val_loss: 4.7246 - val_accuracy: 0.4832\n",
            "Epoch 551/1000\n",
            "61/61 [==============================] - 1s 9ms/step - loss: 0.3969 - accuracy: 0.9035 - val_loss: 4.5507 - val_accuracy: 0.5399\n",
            "Epoch 552/1000\n",
            "61/61 [==============================] - 1s 9ms/step - loss: 0.4384 - accuracy: 0.8952 - val_loss: 4.3018 - val_accuracy: 0.5000\n",
            "Epoch 553/1000\n",
            "61/61 [==============================] - 1s 9ms/step - loss: 0.4753 - accuracy: 0.8849 - val_loss: 4.7505 - val_accuracy: 0.5357\n",
            "Epoch 554/1000\n",
            "61/61 [==============================] - 1s 9ms/step - loss: 0.3940 - accuracy: 0.8849 - val_loss: 4.1942 - val_accuracy: 0.5147\n",
            "Epoch 555/1000\n",
            "61/61 [==============================] - 1s 9ms/step - loss: 0.3797 - accuracy: 0.9046 - val_loss: 4.4384 - val_accuracy: 0.5168\n",
            "Epoch 556/1000\n",
            "61/61 [==============================] - 1s 9ms/step - loss: 0.3708 - accuracy: 0.9025 - val_loss: 4.6051 - val_accuracy: 0.5126\n",
            "Epoch 557/1000\n",
            "61/61 [==============================] - 1s 9ms/step - loss: 0.4216 - accuracy: 0.9066 - val_loss: 4.8446 - val_accuracy: 0.5063\n",
            "Epoch 558/1000\n",
            "61/61 [==============================] - 1s 9ms/step - loss: 0.4016 - accuracy: 0.8921 - val_loss: 4.8670 - val_accuracy: 0.4832\n",
            "Epoch 559/1000\n",
            "61/61 [==============================] - 1s 9ms/step - loss: 0.3888 - accuracy: 0.8973 - val_loss: 5.0193 - val_accuracy: 0.4853\n",
            "Epoch 560/1000\n",
            "61/61 [==============================] - 1s 9ms/step - loss: 0.4607 - accuracy: 0.8859 - val_loss: 4.9196 - val_accuracy: 0.5189\n",
            "Epoch 561/1000\n",
            "61/61 [==============================] - 1s 9ms/step - loss: 0.3181 - accuracy: 0.9201 - val_loss: 4.8045 - val_accuracy: 0.5336\n",
            "Epoch 562/1000\n",
            "61/61 [==============================] - 1s 9ms/step - loss: 0.3933 - accuracy: 0.8983 - val_loss: 4.5625 - val_accuracy: 0.5294\n",
            "Epoch 563/1000\n",
            "61/61 [==============================] - 1s 9ms/step - loss: 0.4359 - accuracy: 0.8952 - val_loss: 4.6444 - val_accuracy: 0.5189\n",
            "Epoch 564/1000\n",
            "61/61 [==============================] - 1s 9ms/step - loss: 0.5070 - accuracy: 0.8869 - val_loss: 3.8311 - val_accuracy: 0.5147\n",
            "Epoch 565/1000\n",
            "61/61 [==============================] - 1s 9ms/step - loss: 0.3895 - accuracy: 0.8900 - val_loss: 4.1482 - val_accuracy: 0.5147\n",
            "Epoch 566/1000\n",
            "61/61 [==============================] - 1s 9ms/step - loss: 0.3750 - accuracy: 0.9046 - val_loss: 5.5064 - val_accuracy: 0.5147\n",
            "Epoch 567/1000\n",
            "61/61 [==============================] - 1s 9ms/step - loss: 0.4625 - accuracy: 0.8880 - val_loss: 4.7747 - val_accuracy: 0.4895\n",
            "Epoch 568/1000\n",
            "61/61 [==============================] - 1s 9ms/step - loss: 0.3817 - accuracy: 0.8932 - val_loss: 4.2672 - val_accuracy: 0.4958\n",
            "Epoch 569/1000\n",
            "61/61 [==============================] - 1s 9ms/step - loss: 0.4313 - accuracy: 0.8921 - val_loss: 4.6502 - val_accuracy: 0.5042\n",
            "Epoch 570/1000\n",
            "61/61 [==============================] - 1s 9ms/step - loss: 0.4302 - accuracy: 0.8838 - val_loss: 4.8549 - val_accuracy: 0.5252\n",
            "Epoch 571/1000\n",
            "61/61 [==============================] - 1s 9ms/step - loss: 0.3897 - accuracy: 0.9129 - val_loss: 4.9958 - val_accuracy: 0.5021\n",
            "Epoch 572/1000\n",
            "61/61 [==============================] - 1s 9ms/step - loss: 0.5787 - accuracy: 0.8703 - val_loss: 4.6800 - val_accuracy: 0.4580\n",
            "Epoch 573/1000\n",
            "61/61 [==============================] - 1s 9ms/step - loss: 0.3736 - accuracy: 0.9066 - val_loss: 4.9247 - val_accuracy: 0.4916\n",
            "Epoch 574/1000\n",
            "61/61 [==============================] - 1s 9ms/step - loss: 0.3877 - accuracy: 0.9015 - val_loss: 4.6953 - val_accuracy: 0.5084\n",
            "Epoch 575/1000\n",
            "61/61 [==============================] - 1s 9ms/step - loss: 0.4510 - accuracy: 0.8838 - val_loss: 4.9711 - val_accuracy: 0.4958\n",
            "Epoch 576/1000\n",
            "61/61 [==============================] - 1s 9ms/step - loss: 0.4214 - accuracy: 0.9046 - val_loss: 5.0626 - val_accuracy: 0.4916\n",
            "Epoch 577/1000\n",
            "61/61 [==============================] - 1s 9ms/step - loss: 0.4426 - accuracy: 0.8994 - val_loss: 5.2339 - val_accuracy: 0.5063\n",
            "Epoch 578/1000\n",
            "61/61 [==============================] - 1s 9ms/step - loss: 0.3984 - accuracy: 0.9087 - val_loss: 4.3078 - val_accuracy: 0.4874\n",
            "Epoch 579/1000\n",
            "61/61 [==============================] - 1s 10ms/step - loss: 0.5136 - accuracy: 0.8932 - val_loss: 5.1162 - val_accuracy: 0.4958\n",
            "Epoch 580/1000\n",
            "61/61 [==============================] - 1s 9ms/step - loss: 0.4617 - accuracy: 0.8838 - val_loss: 4.8680 - val_accuracy: 0.5147\n",
            "Epoch 581/1000\n",
            "61/61 [==============================] - 1s 9ms/step - loss: 0.4869 - accuracy: 0.8869 - val_loss: 4.4630 - val_accuracy: 0.5105\n",
            "Epoch 582/1000\n",
            "61/61 [==============================] - 1s 10ms/step - loss: 0.4067 - accuracy: 0.9015 - val_loss: 5.1592 - val_accuracy: 0.5231\n",
            "Epoch 583/1000\n",
            "61/61 [==============================] - 1s 9ms/step - loss: 0.3778 - accuracy: 0.8983 - val_loss: 4.7455 - val_accuracy: 0.5063\n",
            "Epoch 584/1000\n",
            "61/61 [==============================] - 1s 9ms/step - loss: 0.5103 - accuracy: 0.8766 - val_loss: 4.7032 - val_accuracy: 0.5336\n",
            "Epoch 585/1000\n",
            "61/61 [==============================] - 1s 9ms/step - loss: 0.3967 - accuracy: 0.9046 - val_loss: 4.5214 - val_accuracy: 0.5063\n",
            "Epoch 586/1000\n",
            "61/61 [==============================] - 1s 10ms/step - loss: 0.4271 - accuracy: 0.9056 - val_loss: 4.5228 - val_accuracy: 0.5000\n",
            "Epoch 587/1000\n",
            "61/61 [==============================] - 1s 9ms/step - loss: 0.4001 - accuracy: 0.8942 - val_loss: 4.9783 - val_accuracy: 0.4937\n",
            "Epoch 588/1000\n",
            "61/61 [==============================] - 1s 9ms/step - loss: 0.5079 - accuracy: 0.8807 - val_loss: 4.9637 - val_accuracy: 0.5042\n",
            "Epoch 589/1000\n",
            "61/61 [==============================] - 1s 9ms/step - loss: 0.4092 - accuracy: 0.9015 - val_loss: 6.4716 - val_accuracy: 0.4769\n",
            "Epoch 590/1000\n",
            "61/61 [==============================] - 1s 9ms/step - loss: 0.4174 - accuracy: 0.9015 - val_loss: 4.3465 - val_accuracy: 0.5189\n",
            "Epoch 591/1000\n",
            "61/61 [==============================] - 1s 10ms/step - loss: 0.4529 - accuracy: 0.9004 - val_loss: 5.0509 - val_accuracy: 0.5294\n",
            "Epoch 592/1000\n",
            "61/61 [==============================] - 1s 9ms/step - loss: 0.5121 - accuracy: 0.8766 - val_loss: 4.5689 - val_accuracy: 0.4685\n",
            "Epoch 593/1000\n",
            "61/61 [==============================] - 1s 10ms/step - loss: 0.4062 - accuracy: 0.8817 - val_loss: 5.0346 - val_accuracy: 0.5063\n",
            "Epoch 594/1000\n",
            "61/61 [==============================] - 1s 10ms/step - loss: 0.4066 - accuracy: 0.9108 - val_loss: 4.7728 - val_accuracy: 0.5294\n",
            "Epoch 595/1000\n",
            "61/61 [==============================] - 1s 10ms/step - loss: 0.3880 - accuracy: 0.9025 - val_loss: 4.7040 - val_accuracy: 0.5273\n",
            "Epoch 596/1000\n",
            "61/61 [==============================] - 1s 10ms/step - loss: 0.4528 - accuracy: 0.8994 - val_loss: 5.3485 - val_accuracy: 0.4832\n",
            "Epoch 597/1000\n",
            "61/61 [==============================] - 1s 9ms/step - loss: 0.4893 - accuracy: 0.8828 - val_loss: 4.8405 - val_accuracy: 0.5000\n",
            "Epoch 598/1000\n",
            "61/61 [==============================] - 1s 10ms/step - loss: 0.4133 - accuracy: 0.8921 - val_loss: 4.3653 - val_accuracy: 0.4874\n",
            "Epoch 599/1000\n",
            "61/61 [==============================] - 1s 9ms/step - loss: 0.4344 - accuracy: 0.8911 - val_loss: 4.8886 - val_accuracy: 0.5399\n",
            "Epoch 600/1000\n",
            "61/61 [==============================] - 1s 9ms/step - loss: 0.4679 - accuracy: 0.8869 - val_loss: 5.3405 - val_accuracy: 0.5252\n",
            "Epoch 601/1000\n",
            "61/61 [==============================] - 1s 10ms/step - loss: 0.4771 - accuracy: 0.8880 - val_loss: 4.6964 - val_accuracy: 0.5126\n",
            "Epoch 602/1000\n",
            "61/61 [==============================] - 1s 10ms/step - loss: 0.4762 - accuracy: 0.8869 - val_loss: 4.6390 - val_accuracy: 0.4853\n",
            "Epoch 603/1000\n",
            "61/61 [==============================] - 1s 10ms/step - loss: 0.4625 - accuracy: 0.8869 - val_loss: 4.7802 - val_accuracy: 0.5315\n",
            "Epoch 604/1000\n",
            "61/61 [==============================] - 1s 10ms/step - loss: 0.5251 - accuracy: 0.8890 - val_loss: 4.9065 - val_accuracy: 0.5126\n",
            "Epoch 605/1000\n",
            "61/61 [==============================] - 1s 9ms/step - loss: 0.4769 - accuracy: 0.8755 - val_loss: 4.3011 - val_accuracy: 0.4958\n",
            "Epoch 606/1000\n",
            "61/61 [==============================] - 1s 10ms/step - loss: 0.3398 - accuracy: 0.9108 - val_loss: 4.7151 - val_accuracy: 0.5000\n",
            "Epoch 607/1000\n",
            "61/61 [==============================] - 1s 9ms/step - loss: 0.5186 - accuracy: 0.8828 - val_loss: 4.9909 - val_accuracy: 0.5189\n",
            "Epoch 608/1000\n",
            "61/61 [==============================] - 1s 10ms/step - loss: 0.4417 - accuracy: 0.8859 - val_loss: 4.5807 - val_accuracy: 0.4748\n",
            "Epoch 609/1000\n",
            "61/61 [==============================] - 1s 9ms/step - loss: 0.3740 - accuracy: 0.9108 - val_loss: 4.5350 - val_accuracy: 0.5399\n",
            "Epoch 610/1000\n",
            "61/61 [==============================] - 1s 9ms/step - loss: 0.4286 - accuracy: 0.9004 - val_loss: 5.0646 - val_accuracy: 0.5105\n",
            "Epoch 611/1000\n",
            "61/61 [==============================] - 1s 10ms/step - loss: 0.4217 - accuracy: 0.8849 - val_loss: 4.3306 - val_accuracy: 0.4895\n",
            "Epoch 612/1000\n",
            "61/61 [==============================] - 1s 9ms/step - loss: 0.3371 - accuracy: 0.9015 - val_loss: 4.7665 - val_accuracy: 0.4958\n",
            "Epoch 613/1000\n",
            "61/61 [==============================] - 1s 10ms/step - loss: 0.4427 - accuracy: 0.9066 - val_loss: 4.8935 - val_accuracy: 0.5231\n",
            "Epoch 614/1000\n",
            "61/61 [==============================] - 1s 9ms/step - loss: 0.4164 - accuracy: 0.8942 - val_loss: 5.5439 - val_accuracy: 0.5042\n",
            "Epoch 615/1000\n",
            "61/61 [==============================] - 1s 10ms/step - loss: 0.3987 - accuracy: 0.8849 - val_loss: 5.0106 - val_accuracy: 0.5168\n",
            "Epoch 616/1000\n",
            "61/61 [==============================] - 1s 10ms/step - loss: 0.4227 - accuracy: 0.8942 - val_loss: 4.6490 - val_accuracy: 0.4979\n",
            "Epoch 617/1000\n",
            "61/61 [==============================] - 1s 10ms/step - loss: 0.4857 - accuracy: 0.8693 - val_loss: 4.8871 - val_accuracy: 0.4937\n",
            "Epoch 618/1000\n",
            "61/61 [==============================] - 1s 10ms/step - loss: 0.4262 - accuracy: 0.8994 - val_loss: 4.6757 - val_accuracy: 0.4895\n",
            "Epoch 619/1000\n",
            "61/61 [==============================] - 1s 10ms/step - loss: 0.5000 - accuracy: 0.8890 - val_loss: 4.7887 - val_accuracy: 0.4958\n",
            "Epoch 620/1000\n",
            "61/61 [==============================] - 1s 10ms/step - loss: 0.4364 - accuracy: 0.9004 - val_loss: 5.1759 - val_accuracy: 0.5147\n",
            "Epoch 621/1000\n",
            "61/61 [==============================] - 1s 10ms/step - loss: 0.3645 - accuracy: 0.9015 - val_loss: 5.0096 - val_accuracy: 0.4706\n",
            "Epoch 622/1000\n",
            "61/61 [==============================] - 1s 10ms/step - loss: 0.4229 - accuracy: 0.8932 - val_loss: 4.4862 - val_accuracy: 0.4832\n",
            "Epoch 623/1000\n",
            "61/61 [==============================] - 1s 9ms/step - loss: 0.3972 - accuracy: 0.9004 - val_loss: 5.0513 - val_accuracy: 0.4979\n",
            "Epoch 624/1000\n",
            "61/61 [==============================] - 1s 9ms/step - loss: 0.4976 - accuracy: 0.8766 - val_loss: 4.5897 - val_accuracy: 0.4832\n",
            "Epoch 625/1000\n",
            "61/61 [==============================] - 1s 10ms/step - loss: 0.4389 - accuracy: 0.8838 - val_loss: 4.6708 - val_accuracy: 0.4895\n",
            "Epoch 626/1000\n",
            "61/61 [==============================] - 1s 10ms/step - loss: 0.4442 - accuracy: 0.8952 - val_loss: 5.1000 - val_accuracy: 0.4853\n",
            "Epoch 627/1000\n",
            "61/61 [==============================] - 1s 9ms/step - loss: 0.4659 - accuracy: 0.8932 - val_loss: 4.7985 - val_accuracy: 0.4958\n",
            "Epoch 628/1000\n",
            "61/61 [==============================] - 1s 10ms/step - loss: 0.3775 - accuracy: 0.9066 - val_loss: 5.1545 - val_accuracy: 0.5294\n",
            "Epoch 629/1000\n",
            "61/61 [==============================] - 1s 9ms/step - loss: 0.4649 - accuracy: 0.8921 - val_loss: 4.4325 - val_accuracy: 0.5168\n",
            "Epoch 630/1000\n",
            "61/61 [==============================] - 1s 10ms/step - loss: 0.3568 - accuracy: 0.9025 - val_loss: 5.2168 - val_accuracy: 0.5105\n",
            "Epoch 631/1000\n",
            "61/61 [==============================] - 1s 10ms/step - loss: 0.3724 - accuracy: 0.9087 - val_loss: 4.7554 - val_accuracy: 0.4874\n",
            "Epoch 632/1000\n",
            "61/61 [==============================] - 1s 10ms/step - loss: 0.5362 - accuracy: 0.8973 - val_loss: 4.5205 - val_accuracy: 0.4937\n",
            "Epoch 633/1000\n",
            "61/61 [==============================] - 1s 10ms/step - loss: 0.4086 - accuracy: 0.9066 - val_loss: 4.5781 - val_accuracy: 0.4916\n",
            "Epoch 634/1000\n",
            "61/61 [==============================] - 1s 10ms/step - loss: 0.4739 - accuracy: 0.8776 - val_loss: 5.2267 - val_accuracy: 0.4832\n",
            "Epoch 635/1000\n",
            "61/61 [==============================] - 1s 10ms/step - loss: 0.5063 - accuracy: 0.8900 - val_loss: 5.2890 - val_accuracy: 0.4958\n",
            "Epoch 636/1000\n",
            "61/61 [==============================] - 1s 10ms/step - loss: 0.4109 - accuracy: 0.9025 - val_loss: 5.0791 - val_accuracy: 0.5084\n",
            "Epoch 637/1000\n",
            "61/61 [==============================] - 1s 10ms/step - loss: 0.4446 - accuracy: 0.8932 - val_loss: 4.6071 - val_accuracy: 0.5000\n",
            "Epoch 638/1000\n",
            "61/61 [==============================] - 1s 10ms/step - loss: 0.3998 - accuracy: 0.9098 - val_loss: 5.3132 - val_accuracy: 0.5126\n",
            "Epoch 639/1000\n",
            "61/61 [==============================] - 1s 9ms/step - loss: 0.4334 - accuracy: 0.9025 - val_loss: 5.3082 - val_accuracy: 0.4916\n",
            "Epoch 640/1000\n",
            "61/61 [==============================] - 1s 10ms/step - loss: 0.4672 - accuracy: 0.8859 - val_loss: 4.8254 - val_accuracy: 0.5000\n",
            "Epoch 641/1000\n",
            "61/61 [==============================] - 1s 10ms/step - loss: 0.3871 - accuracy: 0.9180 - val_loss: 4.6715 - val_accuracy: 0.5063\n",
            "Epoch 642/1000\n",
            "61/61 [==============================] - 1s 10ms/step - loss: 0.4374 - accuracy: 0.8973 - val_loss: 4.6147 - val_accuracy: 0.5231\n",
            "Epoch 643/1000\n",
            "61/61 [==============================] - 1s 10ms/step - loss: 0.4527 - accuracy: 0.8932 - val_loss: 4.8577 - val_accuracy: 0.5084\n",
            "Epoch 644/1000\n",
            "61/61 [==============================] - 1s 10ms/step - loss: 0.4830 - accuracy: 0.8963 - val_loss: 5.7379 - val_accuracy: 0.4937\n",
            "Epoch 645/1000\n",
            "61/61 [==============================] - 1s 10ms/step - loss: 0.4378 - accuracy: 0.8942 - val_loss: 5.6414 - val_accuracy: 0.5189\n",
            "Epoch 646/1000\n",
            "61/61 [==============================] - 1s 10ms/step - loss: 0.4943 - accuracy: 0.8942 - val_loss: 4.5123 - val_accuracy: 0.4790\n",
            "Epoch 647/1000\n",
            "61/61 [==============================] - 1s 10ms/step - loss: 0.4919 - accuracy: 0.8755 - val_loss: 4.7461 - val_accuracy: 0.4874\n",
            "Epoch 648/1000\n",
            "61/61 [==============================] - 1s 10ms/step - loss: 0.3967 - accuracy: 0.8932 - val_loss: 5.1544 - val_accuracy: 0.4853\n",
            "Epoch 649/1000\n",
            "61/61 [==============================] - 1s 10ms/step - loss: 0.3885 - accuracy: 0.9046 - val_loss: 4.9404 - val_accuracy: 0.5378\n",
            "Epoch 650/1000\n",
            "61/61 [==============================] - 1s 10ms/step - loss: 0.4001 - accuracy: 0.8994 - val_loss: 5.1213 - val_accuracy: 0.4769\n",
            "Epoch 651/1000\n",
            "61/61 [==============================] - 1s 10ms/step - loss: 0.4783 - accuracy: 0.8849 - val_loss: 4.7606 - val_accuracy: 0.5168\n",
            "Epoch 652/1000\n",
            "61/61 [==============================] - 1s 10ms/step - loss: 0.4784 - accuracy: 0.8869 - val_loss: 4.9677 - val_accuracy: 0.4937\n",
            "Epoch 653/1000\n",
            "61/61 [==============================] - 1s 9ms/step - loss: 0.4131 - accuracy: 0.9035 - val_loss: 5.0039 - val_accuracy: 0.5021\n",
            "Epoch 654/1000\n",
            "61/61 [==============================] - 1s 9ms/step - loss: 0.4405 - accuracy: 0.8963 - val_loss: 4.8482 - val_accuracy: 0.5189\n",
            "Epoch 655/1000\n",
            "61/61 [==============================] - 1s 9ms/step - loss: 0.4754 - accuracy: 0.8869 - val_loss: 4.8633 - val_accuracy: 0.5273\n",
            "Epoch 656/1000\n",
            "61/61 [==============================] - 1s 9ms/step - loss: 0.4427 - accuracy: 0.8932 - val_loss: 5.9655 - val_accuracy: 0.4874\n",
            "Epoch 657/1000\n",
            "61/61 [==============================] - 1s 9ms/step - loss: 0.3703 - accuracy: 0.9098 - val_loss: 5.7451 - val_accuracy: 0.4937\n",
            "Epoch 658/1000\n",
            "61/61 [==============================] - 1s 9ms/step - loss: 0.3999 - accuracy: 0.9046 - val_loss: 5.7620 - val_accuracy: 0.4454\n",
            "Epoch 659/1000\n",
            "61/61 [==============================] - 1s 10ms/step - loss: 0.3615 - accuracy: 0.9180 - val_loss: 4.8400 - val_accuracy: 0.5336\n",
            "Epoch 660/1000\n",
            "61/61 [==============================] - 1s 9ms/step - loss: 0.3074 - accuracy: 0.9056 - val_loss: 5.0446 - val_accuracy: 0.5147\n",
            "Epoch 661/1000\n",
            "61/61 [==============================] - 1s 9ms/step - loss: 0.3769 - accuracy: 0.9118 - val_loss: 5.3949 - val_accuracy: 0.4874\n",
            "Epoch 662/1000\n",
            "61/61 [==============================] - 1s 9ms/step - loss: 0.4816 - accuracy: 0.8994 - val_loss: 4.1744 - val_accuracy: 0.4916\n",
            "Epoch 663/1000\n",
            "61/61 [==============================] - 1s 9ms/step - loss: 0.3992 - accuracy: 0.8828 - val_loss: 4.5309 - val_accuracy: 0.4874\n",
            "Epoch 664/1000\n",
            "61/61 [==============================] - 1s 9ms/step - loss: 0.4576 - accuracy: 0.8911 - val_loss: 4.3860 - val_accuracy: 0.5210\n",
            "Epoch 665/1000\n",
            "61/61 [==============================] - 1s 9ms/step - loss: 0.5096 - accuracy: 0.8828 - val_loss: 5.0137 - val_accuracy: 0.5294\n",
            "Epoch 666/1000\n",
            "61/61 [==============================] - 1s 9ms/step - loss: 0.5328 - accuracy: 0.8973 - val_loss: 5.1972 - val_accuracy: 0.5231\n",
            "Epoch 667/1000\n",
            "61/61 [==============================] - 1s 9ms/step - loss: 0.4290 - accuracy: 0.8973 - val_loss: 5.0940 - val_accuracy: 0.5105\n",
            "Epoch 668/1000\n",
            "61/61 [==============================] - 1s 9ms/step - loss: 0.3660 - accuracy: 0.9015 - val_loss: 4.3956 - val_accuracy: 0.5063\n",
            "Epoch 669/1000\n",
            "61/61 [==============================] - 1s 9ms/step - loss: 0.4180 - accuracy: 0.8900 - val_loss: 5.8818 - val_accuracy: 0.4832\n",
            "Epoch 670/1000\n",
            "61/61 [==============================] - 1s 9ms/step - loss: 0.4699 - accuracy: 0.8963 - val_loss: 4.8796 - val_accuracy: 0.4916\n",
            "Epoch 671/1000\n",
            "61/61 [==============================] - 1s 9ms/step - loss: 0.5236 - accuracy: 0.8963 - val_loss: 5.2394 - val_accuracy: 0.4664\n",
            "Epoch 672/1000\n",
            "61/61 [==============================] - 1s 9ms/step - loss: 0.4043 - accuracy: 0.8963 - val_loss: 5.4146 - val_accuracy: 0.4979\n",
            "Epoch 673/1000\n",
            "61/61 [==============================] - 1s 9ms/step - loss: 0.4202 - accuracy: 0.9108 - val_loss: 5.5505 - val_accuracy: 0.4937\n",
            "Epoch 674/1000\n",
            "61/61 [==============================] - 1s 9ms/step - loss: 0.5578 - accuracy: 0.8869 - val_loss: 5.2320 - val_accuracy: 0.5021\n",
            "Epoch 675/1000\n",
            "61/61 [==============================] - 1s 9ms/step - loss: 0.3428 - accuracy: 0.9098 - val_loss: 4.7976 - val_accuracy: 0.5126\n",
            "Epoch 676/1000\n",
            "61/61 [==============================] - 1s 9ms/step - loss: 0.4618 - accuracy: 0.8952 - val_loss: 5.0928 - val_accuracy: 0.5021\n",
            "Epoch 677/1000\n",
            "61/61 [==============================] - 1s 9ms/step - loss: 0.4393 - accuracy: 0.8942 - val_loss: 5.0767 - val_accuracy: 0.5147\n",
            "Epoch 678/1000\n",
            "61/61 [==============================] - 1s 9ms/step - loss: 0.4726 - accuracy: 0.8921 - val_loss: 5.5490 - val_accuracy: 0.5231\n",
            "Epoch 679/1000\n",
            "61/61 [==============================] - 1s 9ms/step - loss: 0.3788 - accuracy: 0.9129 - val_loss: 5.1235 - val_accuracy: 0.5357\n",
            "Epoch 680/1000\n",
            "61/61 [==============================] - 1s 9ms/step - loss: 0.5106 - accuracy: 0.8932 - val_loss: 5.5267 - val_accuracy: 0.5042\n",
            "Epoch 681/1000\n",
            "61/61 [==============================] - 1s 9ms/step - loss: 0.4785 - accuracy: 0.8942 - val_loss: 5.9297 - val_accuracy: 0.5105\n",
            "Epoch 682/1000\n",
            "61/61 [==============================] - 1s 9ms/step - loss: 0.4431 - accuracy: 0.8859 - val_loss: 5.4657 - val_accuracy: 0.5168\n",
            "Epoch 683/1000\n",
            "61/61 [==============================] - 1s 9ms/step - loss: 0.3758 - accuracy: 0.9098 - val_loss: 5.2336 - val_accuracy: 0.4916\n",
            "Epoch 684/1000\n",
            "61/61 [==============================] - 1s 9ms/step - loss: 0.5135 - accuracy: 0.8869 - val_loss: 5.0491 - val_accuracy: 0.5021\n",
            "Epoch 685/1000\n",
            "61/61 [==============================] - 1s 9ms/step - loss: 0.5157 - accuracy: 0.8973 - val_loss: 5.2209 - val_accuracy: 0.5315\n",
            "Epoch 686/1000\n",
            "61/61 [==============================] - 1s 9ms/step - loss: 0.4841 - accuracy: 0.8911 - val_loss: 5.5388 - val_accuracy: 0.4874\n",
            "Epoch 687/1000\n",
            "61/61 [==============================] - 1s 9ms/step - loss: 0.5665 - accuracy: 0.8724 - val_loss: 4.7120 - val_accuracy: 0.4727\n",
            "Epoch 688/1000\n",
            "61/61 [==============================] - 1s 9ms/step - loss: 0.4090 - accuracy: 0.8963 - val_loss: 5.3031 - val_accuracy: 0.5000\n",
            "Epoch 689/1000\n",
            "61/61 [==============================] - 1s 9ms/step - loss: 0.4528 - accuracy: 0.8890 - val_loss: 5.3262 - val_accuracy: 0.5084\n",
            "Epoch 690/1000\n",
            "61/61 [==============================] - 1s 9ms/step - loss: 0.4413 - accuracy: 0.9077 - val_loss: 5.7408 - val_accuracy: 0.4391\n",
            "Epoch 691/1000\n",
            "61/61 [==============================] - 1s 9ms/step - loss: 0.4702 - accuracy: 0.8900 - val_loss: 5.1891 - val_accuracy: 0.5189\n",
            "Epoch 692/1000\n",
            "61/61 [==============================] - 1s 9ms/step - loss: 0.4780 - accuracy: 0.9108 - val_loss: 5.1512 - val_accuracy: 0.4454\n",
            "Epoch 693/1000\n",
            "61/61 [==============================] - 1s 9ms/step - loss: 0.4067 - accuracy: 0.9046 - val_loss: 5.2744 - val_accuracy: 0.5231\n",
            "Epoch 694/1000\n",
            "61/61 [==============================] - 1s 10ms/step - loss: 0.4312 - accuracy: 0.8921 - val_loss: 6.0886 - val_accuracy: 0.5042\n",
            "Epoch 695/1000\n",
            "61/61 [==============================] - 1s 9ms/step - loss: 0.4795 - accuracy: 0.9046 - val_loss: 4.4752 - val_accuracy: 0.4811\n",
            "Epoch 696/1000\n",
            "61/61 [==============================] - 1s 9ms/step - loss: 0.4497 - accuracy: 0.8890 - val_loss: 5.0461 - val_accuracy: 0.4979\n",
            "Epoch 697/1000\n",
            "61/61 [==============================] - 1s 9ms/step - loss: 0.4173 - accuracy: 0.9066 - val_loss: 5.2523 - val_accuracy: 0.5063\n",
            "Epoch 698/1000\n",
            "61/61 [==============================] - 1s 9ms/step - loss: 0.4092 - accuracy: 0.9129 - val_loss: 5.1334 - val_accuracy: 0.5000\n",
            "Epoch 699/1000\n",
            "61/61 [==============================] - 1s 9ms/step - loss: 0.3788 - accuracy: 0.9098 - val_loss: 5.6100 - val_accuracy: 0.5021\n",
            "Epoch 700/1000\n",
            "61/61 [==============================] - 1s 9ms/step - loss: 0.4923 - accuracy: 0.8942 - val_loss: 6.2811 - val_accuracy: 0.4853\n",
            "Epoch 701/1000\n",
            "61/61 [==============================] - 1s 9ms/step - loss: 0.4567 - accuracy: 0.8921 - val_loss: 5.5124 - val_accuracy: 0.4937\n",
            "Epoch 702/1000\n",
            "61/61 [==============================] - 1s 9ms/step - loss: 0.5141 - accuracy: 0.8755 - val_loss: 5.2045 - val_accuracy: 0.4790\n",
            "Epoch 703/1000\n",
            "61/61 [==============================] - 1s 9ms/step - loss: 0.3919 - accuracy: 0.8994 - val_loss: 4.8296 - val_accuracy: 0.5336\n",
            "Epoch 704/1000\n",
            "61/61 [==============================] - 1s 9ms/step - loss: 0.4426 - accuracy: 0.8963 - val_loss: 4.8877 - val_accuracy: 0.5063\n",
            "Epoch 705/1000\n",
            "61/61 [==============================] - 1s 9ms/step - loss: 0.4324 - accuracy: 0.9004 - val_loss: 5.0292 - val_accuracy: 0.5315\n",
            "Epoch 706/1000\n",
            "61/61 [==============================] - 1s 10ms/step - loss: 0.5209 - accuracy: 0.8911 - val_loss: 5.0929 - val_accuracy: 0.5147\n",
            "Epoch 707/1000\n",
            "61/61 [==============================] - 1s 9ms/step - loss: 0.5168 - accuracy: 0.9015 - val_loss: 5.5386 - val_accuracy: 0.5021\n",
            "Epoch 708/1000\n",
            "61/61 [==============================] - 1s 10ms/step - loss: 0.4754 - accuracy: 0.8838 - val_loss: 5.0535 - val_accuracy: 0.5252\n",
            "Epoch 709/1000\n",
            "61/61 [==============================] - 1s 9ms/step - loss: 0.4476 - accuracy: 0.8890 - val_loss: 5.4037 - val_accuracy: 0.5168\n",
            "Epoch 710/1000\n",
            "61/61 [==============================] - 1s 9ms/step - loss: 0.4563 - accuracy: 0.8880 - val_loss: 5.1613 - val_accuracy: 0.5126\n",
            "Epoch 711/1000\n",
            "61/61 [==============================] - 1s 10ms/step - loss: 0.5044 - accuracy: 0.8869 - val_loss: 5.8312 - val_accuracy: 0.4727\n",
            "Epoch 712/1000\n",
            "61/61 [==============================] - 1s 9ms/step - loss: 0.5340 - accuracy: 0.8817 - val_loss: 5.2655 - val_accuracy: 0.5084\n",
            "Epoch 713/1000\n",
            "61/61 [==============================] - 1s 10ms/step - loss: 0.3852 - accuracy: 0.9108 - val_loss: 4.7995 - val_accuracy: 0.5126\n",
            "Epoch 714/1000\n",
            "61/61 [==============================] - 1s 9ms/step - loss: 0.5351 - accuracy: 0.8786 - val_loss: 4.8992 - val_accuracy: 0.5126\n",
            "Epoch 715/1000\n",
            "61/61 [==============================] - 1s 10ms/step - loss: 0.3793 - accuracy: 0.8994 - val_loss: 5.9728 - val_accuracy: 0.4811\n",
            "Epoch 716/1000\n",
            "61/61 [==============================] - 1s 9ms/step - loss: 0.4811 - accuracy: 0.8890 - val_loss: 5.3777 - val_accuracy: 0.4979\n",
            "Epoch 717/1000\n",
            "61/61 [==============================] - 1s 9ms/step - loss: 0.4335 - accuracy: 0.9056 - val_loss: 6.1238 - val_accuracy: 0.5189\n",
            "Epoch 718/1000\n",
            "61/61 [==============================] - 1s 9ms/step - loss: 0.4877 - accuracy: 0.8994 - val_loss: 4.9091 - val_accuracy: 0.4979\n",
            "Epoch 719/1000\n",
            "61/61 [==============================] - 1s 9ms/step - loss: 0.4223 - accuracy: 0.8942 - val_loss: 5.1086 - val_accuracy: 0.4811\n",
            "Epoch 720/1000\n",
            "61/61 [==============================] - 1s 10ms/step - loss: 0.3936 - accuracy: 0.8921 - val_loss: 5.1925 - val_accuracy: 0.5210\n",
            "Epoch 721/1000\n",
            "61/61 [==============================] - 1s 9ms/step - loss: 0.4718 - accuracy: 0.9004 - val_loss: 5.3613 - val_accuracy: 0.5147\n",
            "Epoch 722/1000\n",
            "61/61 [==============================] - 1s 9ms/step - loss: 0.5710 - accuracy: 0.8786 - val_loss: 5.1206 - val_accuracy: 0.4958\n",
            "Epoch 723/1000\n",
            "61/61 [==============================] - 1s 9ms/step - loss: 0.4416 - accuracy: 0.8890 - val_loss: 5.3174 - val_accuracy: 0.5420\n",
            "Epoch 724/1000\n",
            "61/61 [==============================] - 1s 9ms/step - loss: 0.4711 - accuracy: 0.8983 - val_loss: 4.7285 - val_accuracy: 0.5042\n",
            "Epoch 725/1000\n",
            "61/61 [==============================] - 1s 9ms/step - loss: 0.5491 - accuracy: 0.8786 - val_loss: 4.8939 - val_accuracy: 0.4853\n",
            "Epoch 726/1000\n",
            "61/61 [==============================] - 1s 9ms/step - loss: 0.4556 - accuracy: 0.8900 - val_loss: 5.1323 - val_accuracy: 0.5105\n",
            "Epoch 727/1000\n",
            "61/61 [==============================] - 1s 10ms/step - loss: 0.6115 - accuracy: 0.8703 - val_loss: 5.3101 - val_accuracy: 0.5042\n",
            "Epoch 728/1000\n",
            "61/61 [==============================] - 1s 10ms/step - loss: 0.3623 - accuracy: 0.8963 - val_loss: 6.1670 - val_accuracy: 0.5042\n",
            "Epoch 729/1000\n",
            "61/61 [==============================] - 1s 10ms/step - loss: 0.4554 - accuracy: 0.8973 - val_loss: 5.9812 - val_accuracy: 0.4874\n",
            "Epoch 730/1000\n",
            "61/61 [==============================] - 1s 9ms/step - loss: 0.4134 - accuracy: 0.8921 - val_loss: 5.0412 - val_accuracy: 0.4916\n",
            "Epoch 731/1000\n",
            "61/61 [==============================] - 1s 9ms/step - loss: 0.5080 - accuracy: 0.8859 - val_loss: 5.4933 - val_accuracy: 0.4937\n",
            "Epoch 732/1000\n",
            "61/61 [==============================] - 1s 10ms/step - loss: 0.4266 - accuracy: 0.9056 - val_loss: 5.2509 - val_accuracy: 0.4832\n",
            "Epoch 733/1000\n",
            "61/61 [==============================] - 1s 9ms/step - loss: 0.4249 - accuracy: 0.9066 - val_loss: 5.3186 - val_accuracy: 0.4958\n",
            "Epoch 734/1000\n",
            "61/61 [==============================] - 1s 9ms/step - loss: 0.5233 - accuracy: 0.8797 - val_loss: 5.0335 - val_accuracy: 0.4916\n",
            "Epoch 735/1000\n",
            "61/61 [==============================] - 1s 9ms/step - loss: 0.4675 - accuracy: 0.8973 - val_loss: 5.5799 - val_accuracy: 0.4727\n",
            "Epoch 736/1000\n",
            "61/61 [==============================] - 1s 9ms/step - loss: 0.5245 - accuracy: 0.8817 - val_loss: 4.9799 - val_accuracy: 0.4895\n",
            "Epoch 737/1000\n",
            "61/61 [==============================] - 1s 9ms/step - loss: 0.5782 - accuracy: 0.8838 - val_loss: 5.3950 - val_accuracy: 0.4958\n",
            "Epoch 738/1000\n",
            "61/61 [==============================] - 1s 9ms/step - loss: 0.3818 - accuracy: 0.9056 - val_loss: 5.0286 - val_accuracy: 0.4979\n",
            "Epoch 739/1000\n",
            "61/61 [==============================] - 1s 9ms/step - loss: 0.5281 - accuracy: 0.8755 - val_loss: 5.4052 - val_accuracy: 0.5105\n",
            "Epoch 740/1000\n",
            "61/61 [==============================] - 1s 9ms/step - loss: 0.4914 - accuracy: 0.9015 - val_loss: 6.0609 - val_accuracy: 0.5294\n",
            "Epoch 741/1000\n",
            "61/61 [==============================] - 1s 10ms/step - loss: 0.4200 - accuracy: 0.9108 - val_loss: 5.6004 - val_accuracy: 0.4874\n",
            "Epoch 742/1000\n",
            "61/61 [==============================] - 1s 9ms/step - loss: 0.4783 - accuracy: 0.8921 - val_loss: 4.8897 - val_accuracy: 0.4895\n",
            "Epoch 743/1000\n",
            "61/61 [==============================] - 1s 9ms/step - loss: 0.4984 - accuracy: 0.9066 - val_loss: 5.3303 - val_accuracy: 0.4580\n",
            "Epoch 744/1000\n",
            "61/61 [==============================] - 1s 10ms/step - loss: 0.4842 - accuracy: 0.8817 - val_loss: 5.7337 - val_accuracy: 0.4748\n",
            "Epoch 745/1000\n",
            "61/61 [==============================] - 1s 10ms/step - loss: 0.4060 - accuracy: 0.9087 - val_loss: 5.3788 - val_accuracy: 0.5147\n",
            "Epoch 746/1000\n",
            "61/61 [==============================] - 1s 10ms/step - loss: 0.4378 - accuracy: 0.9004 - val_loss: 5.9144 - val_accuracy: 0.4727\n",
            "Epoch 747/1000\n",
            "61/61 [==============================] - 1s 9ms/step - loss: 0.4198 - accuracy: 0.9046 - val_loss: 5.0609 - val_accuracy: 0.4937\n",
            "Epoch 748/1000\n",
            "61/61 [==============================] - 1s 10ms/step - loss: 0.4292 - accuracy: 0.8952 - val_loss: 5.0172 - val_accuracy: 0.5000\n",
            "Epoch 749/1000\n",
            "61/61 [==============================] - 1s 10ms/step - loss: 0.5225 - accuracy: 0.9015 - val_loss: 4.9748 - val_accuracy: 0.5252\n",
            "Epoch 750/1000\n",
            "61/61 [==============================] - 1s 9ms/step - loss: 0.4180 - accuracy: 0.8849 - val_loss: 5.4105 - val_accuracy: 0.5147\n",
            "Epoch 751/1000\n",
            "61/61 [==============================] - 1s 9ms/step - loss: 0.5262 - accuracy: 0.8755 - val_loss: 5.3148 - val_accuracy: 0.5042\n",
            "Epoch 752/1000\n",
            "61/61 [==============================] - 1s 9ms/step - loss: 0.4989 - accuracy: 0.8900 - val_loss: 4.8470 - val_accuracy: 0.5021\n",
            "Epoch 753/1000\n",
            "61/61 [==============================] - 1s 9ms/step - loss: 0.3521 - accuracy: 0.9129 - val_loss: 6.1548 - val_accuracy: 0.4853\n",
            "Epoch 754/1000\n",
            "61/61 [==============================] - 1s 9ms/step - loss: 0.4872 - accuracy: 0.8890 - val_loss: 5.3242 - val_accuracy: 0.5042\n",
            "Epoch 755/1000\n",
            "61/61 [==============================] - 1s 9ms/step - loss: 0.4629 - accuracy: 0.8932 - val_loss: 5.4823 - val_accuracy: 0.4853\n",
            "Epoch 756/1000\n",
            "61/61 [==============================] - 1s 9ms/step - loss: 0.3588 - accuracy: 0.9056 - val_loss: 4.8189 - val_accuracy: 0.5252\n",
            "Epoch 757/1000\n",
            "61/61 [==============================] - 1s 9ms/step - loss: 0.4687 - accuracy: 0.8963 - val_loss: 5.4531 - val_accuracy: 0.5105\n",
            "Epoch 758/1000\n",
            "61/61 [==============================] - 1s 9ms/step - loss: 0.4817 - accuracy: 0.8994 - val_loss: 5.6140 - val_accuracy: 0.4622\n",
            "Epoch 759/1000\n",
            "61/61 [==============================] - 1s 9ms/step - loss: 0.4780 - accuracy: 0.8911 - val_loss: 5.2008 - val_accuracy: 0.5147\n",
            "Epoch 760/1000\n",
            "61/61 [==============================] - 1s 9ms/step - loss: 0.4414 - accuracy: 0.9046 - val_loss: 4.8930 - val_accuracy: 0.5462\n",
            "Epoch 761/1000\n",
            "61/61 [==============================] - 1s 9ms/step - loss: 0.4674 - accuracy: 0.8983 - val_loss: 4.8404 - val_accuracy: 0.5336\n",
            "Epoch 762/1000\n",
            "61/61 [==============================] - 1s 10ms/step - loss: 0.4361 - accuracy: 0.9118 - val_loss: 6.0252 - val_accuracy: 0.5231\n",
            "Epoch 763/1000\n",
            "61/61 [==============================] - 1s 10ms/step - loss: 0.4001 - accuracy: 0.9035 - val_loss: 5.2799 - val_accuracy: 0.5126\n",
            "Epoch 764/1000\n",
            "61/61 [==============================] - 1s 9ms/step - loss: 0.4332 - accuracy: 0.8973 - val_loss: 4.8429 - val_accuracy: 0.4958\n",
            "Epoch 765/1000\n",
            "61/61 [==============================] - 1s 9ms/step - loss: 0.4409 - accuracy: 0.8973 - val_loss: 5.4416 - val_accuracy: 0.4958\n",
            "Epoch 766/1000\n",
            "61/61 [==============================] - 1s 9ms/step - loss: 0.3870 - accuracy: 0.9118 - val_loss: 5.6747 - val_accuracy: 0.5147\n",
            "Epoch 767/1000\n",
            "61/61 [==============================] - 1s 9ms/step - loss: 0.5106 - accuracy: 0.8786 - val_loss: 5.4735 - val_accuracy: 0.5063\n",
            "Epoch 768/1000\n",
            "61/61 [==============================] - 1s 10ms/step - loss: 0.4883 - accuracy: 0.8900 - val_loss: 5.1760 - val_accuracy: 0.4895\n",
            "Epoch 769/1000\n",
            "61/61 [==============================] - 1s 9ms/step - loss: 0.5257 - accuracy: 0.8880 - val_loss: 5.2090 - val_accuracy: 0.4937\n",
            "Epoch 770/1000\n",
            "61/61 [==============================] - 1s 9ms/step - loss: 0.4301 - accuracy: 0.8952 - val_loss: 5.3067 - val_accuracy: 0.4979\n",
            "Epoch 771/1000\n",
            "61/61 [==============================] - 1s 9ms/step - loss: 0.4719 - accuracy: 0.9098 - val_loss: 5.0650 - val_accuracy: 0.4769\n",
            "Epoch 772/1000\n",
            "61/61 [==============================] - 1s 9ms/step - loss: 0.4631 - accuracy: 0.8776 - val_loss: 5.2204 - val_accuracy: 0.5000\n",
            "Epoch 773/1000\n",
            "61/61 [==============================] - 1s 9ms/step - loss: 0.3998 - accuracy: 0.8973 - val_loss: 5.3155 - val_accuracy: 0.5021\n",
            "Epoch 774/1000\n",
            "61/61 [==============================] - 1s 9ms/step - loss: 0.4118 - accuracy: 0.8900 - val_loss: 5.9554 - val_accuracy: 0.5189\n",
            "Epoch 775/1000\n",
            "61/61 [==============================] - 1s 9ms/step - loss: 0.4899 - accuracy: 0.8952 - val_loss: 6.3287 - val_accuracy: 0.4790\n",
            "Epoch 776/1000\n",
            "61/61 [==============================] - 1s 9ms/step - loss: 0.5061 - accuracy: 0.8849 - val_loss: 6.5571 - val_accuracy: 0.4832\n",
            "Epoch 777/1000\n",
            "61/61 [==============================] - 1s 9ms/step - loss: 0.4263 - accuracy: 0.9108 - val_loss: 5.1742 - val_accuracy: 0.5189\n",
            "Epoch 778/1000\n",
            "61/61 [==============================] - 1s 9ms/step - loss: 0.3644 - accuracy: 0.9191 - val_loss: 4.7953 - val_accuracy: 0.5231\n",
            "Epoch 779/1000\n",
            "61/61 [==============================] - 1s 9ms/step - loss: 0.4455 - accuracy: 0.9025 - val_loss: 6.4038 - val_accuracy: 0.5399\n",
            "Epoch 780/1000\n",
            "61/61 [==============================] - 1s 9ms/step - loss: 0.4141 - accuracy: 0.9004 - val_loss: 6.0025 - val_accuracy: 0.4853\n",
            "Epoch 781/1000\n",
            "61/61 [==============================] - 1s 10ms/step - loss: 0.4831 - accuracy: 0.9035 - val_loss: 5.4057 - val_accuracy: 0.5189\n",
            "Epoch 782/1000\n",
            "61/61 [==============================] - 1s 9ms/step - loss: 0.4108 - accuracy: 0.9077 - val_loss: 5.3133 - val_accuracy: 0.4769\n",
            "Epoch 783/1000\n",
            "61/61 [==============================] - 1s 9ms/step - loss: 0.4899 - accuracy: 0.8890 - val_loss: 4.8750 - val_accuracy: 0.5021\n",
            "Epoch 784/1000\n",
            "61/61 [==============================] - 1s 9ms/step - loss: 0.4752 - accuracy: 0.8817 - val_loss: 5.0150 - val_accuracy: 0.5336\n",
            "Epoch 785/1000\n",
            "61/61 [==============================] - 1s 9ms/step - loss: 0.5095 - accuracy: 0.8973 - val_loss: 5.8280 - val_accuracy: 0.5399\n",
            "Epoch 786/1000\n",
            "61/61 [==============================] - 1s 9ms/step - loss: 0.4911 - accuracy: 0.8973 - val_loss: 5.7389 - val_accuracy: 0.5336\n",
            "Epoch 787/1000\n",
            "61/61 [==============================] - 1s 9ms/step - loss: 0.5873 - accuracy: 0.8880 - val_loss: 5.7022 - val_accuracy: 0.5231\n",
            "Epoch 788/1000\n",
            "61/61 [==============================] - 1s 9ms/step - loss: 0.4525 - accuracy: 0.9056 - val_loss: 5.9874 - val_accuracy: 0.5378\n",
            "Epoch 789/1000\n",
            "61/61 [==============================] - 1s 9ms/step - loss: 0.4363 - accuracy: 0.8983 - val_loss: 4.7159 - val_accuracy: 0.5231\n",
            "Epoch 790/1000\n",
            "61/61 [==============================] - 1s 9ms/step - loss: 0.4467 - accuracy: 0.8963 - val_loss: 5.0215 - val_accuracy: 0.5105\n",
            "Epoch 791/1000\n",
            "61/61 [==============================] - 1s 9ms/step - loss: 0.4801 - accuracy: 0.9015 - val_loss: 4.8280 - val_accuracy: 0.4685\n",
            "Epoch 792/1000\n",
            "61/61 [==============================] - 1s 9ms/step - loss: 0.3852 - accuracy: 0.9015 - val_loss: 4.5594 - val_accuracy: 0.5126\n",
            "Epoch 793/1000\n",
            "61/61 [==============================] - 1s 9ms/step - loss: 0.4930 - accuracy: 0.8983 - val_loss: 6.2023 - val_accuracy: 0.5168\n",
            "Epoch 794/1000\n",
            "61/61 [==============================] - 1s 9ms/step - loss: 0.4446 - accuracy: 0.9004 - val_loss: 6.0779 - val_accuracy: 0.4916\n",
            "Epoch 795/1000\n",
            "61/61 [==============================] - 1s 9ms/step - loss: 0.5138 - accuracy: 0.8973 - val_loss: 5.6784 - val_accuracy: 0.5336\n",
            "Epoch 796/1000\n",
            "61/61 [==============================] - 1s 9ms/step - loss: 0.4275 - accuracy: 0.9160 - val_loss: 5.9105 - val_accuracy: 0.5084\n",
            "Epoch 797/1000\n",
            "61/61 [==============================] - 1s 10ms/step - loss: 0.3823 - accuracy: 0.9160 - val_loss: 6.1127 - val_accuracy: 0.4769\n",
            "Epoch 798/1000\n",
            "61/61 [==============================] - 1s 9ms/step - loss: 0.5904 - accuracy: 0.8651 - val_loss: 6.1894 - val_accuracy: 0.4727\n",
            "Epoch 799/1000\n",
            "61/61 [==============================] - 1s 10ms/step - loss: 0.4549 - accuracy: 0.9056 - val_loss: 5.9815 - val_accuracy: 0.5168\n",
            "Epoch 800/1000\n",
            "61/61 [==============================] - 1s 9ms/step - loss: 0.4199 - accuracy: 0.9004 - val_loss: 5.4443 - val_accuracy: 0.5147\n",
            "Epoch 801/1000\n",
            "61/61 [==============================] - 1s 9ms/step - loss: 0.4595 - accuracy: 0.8983 - val_loss: 6.5646 - val_accuracy: 0.5147\n",
            "Epoch 802/1000\n",
            "61/61 [==============================] - 1s 9ms/step - loss: 0.4381 - accuracy: 0.9066 - val_loss: 5.6549 - val_accuracy: 0.4979\n",
            "Epoch 803/1000\n",
            "61/61 [==============================] - 1s 9ms/step - loss: 0.3805 - accuracy: 0.9035 - val_loss: 6.3845 - val_accuracy: 0.4727\n",
            "Epoch 804/1000\n",
            "61/61 [==============================] - 1s 9ms/step - loss: 0.5736 - accuracy: 0.8921 - val_loss: 5.5118 - val_accuracy: 0.4874\n",
            "Epoch 805/1000\n",
            "61/61 [==============================] - 1s 9ms/step - loss: 0.4876 - accuracy: 0.8797 - val_loss: 5.7904 - val_accuracy: 0.4874\n",
            "Epoch 806/1000\n",
            "61/61 [==============================] - 1s 9ms/step - loss: 0.3663 - accuracy: 0.9046 - val_loss: 5.8809 - val_accuracy: 0.4727\n",
            "Epoch 807/1000\n",
            "61/61 [==============================] - 1s 9ms/step - loss: 0.5680 - accuracy: 0.8859 - val_loss: 5.8164 - val_accuracy: 0.5231\n",
            "Epoch 808/1000\n",
            "61/61 [==============================] - 1s 9ms/step - loss: 0.4704 - accuracy: 0.8973 - val_loss: 6.2572 - val_accuracy: 0.5063\n",
            "Epoch 809/1000\n",
            "61/61 [==============================] - 1s 10ms/step - loss: 0.4877 - accuracy: 0.9035 - val_loss: 5.8467 - val_accuracy: 0.4706\n",
            "Epoch 810/1000\n",
            "61/61 [==============================] - 1s 9ms/step - loss: 0.3576 - accuracy: 0.9129 - val_loss: 5.7533 - val_accuracy: 0.5042\n",
            "Epoch 811/1000\n",
            "61/61 [==============================] - 1s 9ms/step - loss: 0.4633 - accuracy: 0.9035 - val_loss: 6.2204 - val_accuracy: 0.5042\n",
            "Epoch 812/1000\n",
            "61/61 [==============================] - 1s 10ms/step - loss: 0.4282 - accuracy: 0.9066 - val_loss: 5.1213 - val_accuracy: 0.5042\n",
            "Epoch 813/1000\n",
            "61/61 [==============================] - 1s 9ms/step - loss: 0.5261 - accuracy: 0.9139 - val_loss: 7.1189 - val_accuracy: 0.5105\n",
            "Epoch 814/1000\n",
            "61/61 [==============================] - 1s 9ms/step - loss: 0.4681 - accuracy: 0.9015 - val_loss: 6.4603 - val_accuracy: 0.5042\n",
            "Epoch 815/1000\n",
            "61/61 [==============================] - 1s 14ms/step - loss: 0.5554 - accuracy: 0.8786 - val_loss: 5.8594 - val_accuracy: 0.4916\n",
            "Epoch 816/1000\n",
            "61/61 [==============================] - 1s 10ms/step - loss: 0.3775 - accuracy: 0.9170 - val_loss: 5.7538 - val_accuracy: 0.5105\n",
            "Epoch 817/1000\n",
            "61/61 [==============================] - 1s 9ms/step - loss: 0.3889 - accuracy: 0.9056 - val_loss: 6.3317 - val_accuracy: 0.4937\n",
            "Epoch 818/1000\n",
            "61/61 [==============================] - 1s 9ms/step - loss: 0.4045 - accuracy: 0.9004 - val_loss: 4.7787 - val_accuracy: 0.5210\n",
            "Epoch 819/1000\n",
            "61/61 [==============================] - 1s 9ms/step - loss: 0.4006 - accuracy: 0.9035 - val_loss: 5.3500 - val_accuracy: 0.5084\n",
            "Epoch 820/1000\n",
            "61/61 [==============================] - 1s 9ms/step - loss: 0.3812 - accuracy: 0.9098 - val_loss: 5.2282 - val_accuracy: 0.5441\n",
            "Epoch 821/1000\n",
            "61/61 [==============================] - 1s 9ms/step - loss: 0.4212 - accuracy: 0.8973 - val_loss: 5.5231 - val_accuracy: 0.5294\n",
            "Epoch 822/1000\n",
            "61/61 [==============================] - 1s 9ms/step - loss: 0.5106 - accuracy: 0.8973 - val_loss: 5.5335 - val_accuracy: 0.5147\n",
            "Epoch 823/1000\n",
            "61/61 [==============================] - 1s 9ms/step - loss: 0.5451 - accuracy: 0.8942 - val_loss: 5.4062 - val_accuracy: 0.5210\n",
            "Epoch 824/1000\n",
            "61/61 [==============================] - 1s 9ms/step - loss: 0.4521 - accuracy: 0.8963 - val_loss: 5.1852 - val_accuracy: 0.5021\n",
            "Epoch 825/1000\n",
            "61/61 [==============================] - 1s 9ms/step - loss: 0.3813 - accuracy: 0.9098 - val_loss: 6.5235 - val_accuracy: 0.5105\n",
            "Epoch 826/1000\n",
            "61/61 [==============================] - 1s 9ms/step - loss: 0.4548 - accuracy: 0.8911 - val_loss: 5.8521 - val_accuracy: 0.5147\n",
            "Epoch 827/1000\n",
            "61/61 [==============================] - 1s 9ms/step - loss: 0.5328 - accuracy: 0.8817 - val_loss: 5.1836 - val_accuracy: 0.4853\n",
            "Epoch 828/1000\n",
            "61/61 [==============================] - 1s 9ms/step - loss: 0.4193 - accuracy: 0.8942 - val_loss: 5.1427 - val_accuracy: 0.5147\n",
            "Epoch 829/1000\n",
            "61/61 [==============================] - 1s 9ms/step - loss: 0.5036 - accuracy: 0.8869 - val_loss: 5.9570 - val_accuracy: 0.5084\n",
            "Epoch 830/1000\n",
            "61/61 [==============================] - 1s 10ms/step - loss: 0.4638 - accuracy: 0.8973 - val_loss: 5.3001 - val_accuracy: 0.5273\n",
            "Epoch 831/1000\n",
            "61/61 [==============================] - 1s 9ms/step - loss: 0.3713 - accuracy: 0.9046 - val_loss: 5.2151 - val_accuracy: 0.5336\n",
            "Epoch 832/1000\n",
            "61/61 [==============================] - 1s 10ms/step - loss: 0.3637 - accuracy: 0.9180 - val_loss: 6.8573 - val_accuracy: 0.5231\n",
            "Epoch 833/1000\n",
            "61/61 [==============================] - 1s 9ms/step - loss: 0.4892 - accuracy: 0.8890 - val_loss: 5.0920 - val_accuracy: 0.4685\n",
            "Epoch 834/1000\n",
            "61/61 [==============================] - 1s 10ms/step - loss: 0.4175 - accuracy: 0.9035 - val_loss: 5.9746 - val_accuracy: 0.5084\n",
            "Epoch 835/1000\n",
            "61/61 [==============================] - 1s 9ms/step - loss: 0.3908 - accuracy: 0.9015 - val_loss: 5.9600 - val_accuracy: 0.5294\n",
            "Epoch 836/1000\n",
            "61/61 [==============================] - 1s 9ms/step - loss: 0.5516 - accuracy: 0.8890 - val_loss: 6.1706 - val_accuracy: 0.5000\n",
            "Epoch 837/1000\n",
            "61/61 [==============================] - 1s 9ms/step - loss: 0.3860 - accuracy: 0.9149 - val_loss: 5.1823 - val_accuracy: 0.5168\n",
            "Epoch 838/1000\n",
            "61/61 [==============================] - 1s 10ms/step - loss: 0.4860 - accuracy: 0.8983 - val_loss: 6.1270 - val_accuracy: 0.5042\n",
            "Epoch 839/1000\n",
            "61/61 [==============================] - 1s 10ms/step - loss: 0.5804 - accuracy: 0.8869 - val_loss: 5.9375 - val_accuracy: 0.4706\n",
            "Epoch 840/1000\n",
            "61/61 [==============================] - 1s 10ms/step - loss: 0.5448 - accuracy: 0.8932 - val_loss: 5.4895 - val_accuracy: 0.5084\n",
            "Epoch 841/1000\n",
            "61/61 [==============================] - 1s 10ms/step - loss: 0.4753 - accuracy: 0.8890 - val_loss: 5.3812 - val_accuracy: 0.5084\n",
            "Epoch 842/1000\n",
            "61/61 [==============================] - 1s 10ms/step - loss: 0.5176 - accuracy: 0.9015 - val_loss: 5.4406 - val_accuracy: 0.5126\n",
            "Epoch 843/1000\n",
            "61/61 [==============================] - 1s 10ms/step - loss: 0.5042 - accuracy: 0.8900 - val_loss: 5.4525 - val_accuracy: 0.5168\n",
            "Epoch 844/1000\n",
            "61/61 [==============================] - 1s 10ms/step - loss: 0.5094 - accuracy: 0.8859 - val_loss: 6.1991 - val_accuracy: 0.4643\n",
            "Epoch 845/1000\n",
            "61/61 [==============================] - 1s 9ms/step - loss: 0.4099 - accuracy: 0.9056 - val_loss: 5.2584 - val_accuracy: 0.5105\n",
            "Epoch 846/1000\n",
            "61/61 [==============================] - 1s 10ms/step - loss: 0.3829 - accuracy: 0.8942 - val_loss: 5.5977 - val_accuracy: 0.5147\n",
            "Epoch 847/1000\n",
            "61/61 [==============================] - 1s 10ms/step - loss: 0.3247 - accuracy: 0.9253 - val_loss: 5.6249 - val_accuracy: 0.5231\n",
            "Epoch 848/1000\n",
            "61/61 [==============================] - 1s 10ms/step - loss: 0.4211 - accuracy: 0.9066 - val_loss: 6.1416 - val_accuracy: 0.4790\n",
            "Epoch 849/1000\n",
            "61/61 [==============================] - 1s 10ms/step - loss: 0.3422 - accuracy: 0.9243 - val_loss: 6.4463 - val_accuracy: 0.4895\n",
            "Epoch 850/1000\n",
            "61/61 [==============================] - 1s 10ms/step - loss: 0.4519 - accuracy: 0.8983 - val_loss: 5.4441 - val_accuracy: 0.4958\n",
            "Epoch 851/1000\n",
            "61/61 [==============================] - 1s 10ms/step - loss: 0.4771 - accuracy: 0.8973 - val_loss: 5.6947 - val_accuracy: 0.4811\n",
            "Epoch 852/1000\n",
            "61/61 [==============================] - 1s 10ms/step - loss: 0.6023 - accuracy: 0.8807 - val_loss: 5.4299 - val_accuracy: 0.4769\n",
            "Epoch 853/1000\n",
            "61/61 [==============================] - 1s 10ms/step - loss: 0.4616 - accuracy: 0.8952 - val_loss: 5.3439 - val_accuracy: 0.5000\n",
            "Epoch 854/1000\n",
            "61/61 [==============================] - 1s 9ms/step - loss: 0.4800 - accuracy: 0.8911 - val_loss: 5.2672 - val_accuracy: 0.4874\n",
            "Epoch 855/1000\n",
            "61/61 [==============================] - 1s 9ms/step - loss: 0.4824 - accuracy: 0.8880 - val_loss: 6.5349 - val_accuracy: 0.5315\n",
            "Epoch 856/1000\n",
            "61/61 [==============================] - 1s 9ms/step - loss: 0.4616 - accuracy: 0.8983 - val_loss: 6.2482 - val_accuracy: 0.5168\n",
            "Epoch 857/1000\n",
            "61/61 [==============================] - 1s 10ms/step - loss: 0.4700 - accuracy: 0.8963 - val_loss: 6.5603 - val_accuracy: 0.4916\n",
            "Epoch 858/1000\n",
            "61/61 [==============================] - 1s 9ms/step - loss: 0.4971 - accuracy: 0.8849 - val_loss: 5.5350 - val_accuracy: 0.5021\n",
            "Epoch 859/1000\n",
            "61/61 [==============================] - 1s 10ms/step - loss: 0.4118 - accuracy: 0.9118 - val_loss: 5.8709 - val_accuracy: 0.5021\n",
            "Epoch 860/1000\n",
            "61/61 [==============================] - 1s 9ms/step - loss: 0.4905 - accuracy: 0.8932 - val_loss: 5.1470 - val_accuracy: 0.5147\n",
            "Epoch 861/1000\n",
            "61/61 [==============================] - 1s 9ms/step - loss: 0.5294 - accuracy: 0.8921 - val_loss: 5.5777 - val_accuracy: 0.5399\n",
            "Epoch 862/1000\n",
            "61/61 [==============================] - 1s 9ms/step - loss: 0.4531 - accuracy: 0.9046 - val_loss: 5.2152 - val_accuracy: 0.5084\n",
            "Epoch 863/1000\n",
            "61/61 [==============================] - 1s 9ms/step - loss: 0.5051 - accuracy: 0.8942 - val_loss: 5.1787 - val_accuracy: 0.5231\n",
            "Epoch 864/1000\n",
            "61/61 [==============================] - 1s 9ms/step - loss: 0.5574 - accuracy: 0.8890 - val_loss: 5.8670 - val_accuracy: 0.5189\n",
            "Epoch 865/1000\n",
            "61/61 [==============================] - 1s 9ms/step - loss: 0.4573 - accuracy: 0.8900 - val_loss: 5.7028 - val_accuracy: 0.5168\n",
            "Epoch 866/1000\n",
            "61/61 [==============================] - 1s 9ms/step - loss: 0.4060 - accuracy: 0.9025 - val_loss: 5.4119 - val_accuracy: 0.5168\n",
            "Epoch 867/1000\n",
            "61/61 [==============================] - 1s 9ms/step - loss: 0.4554 - accuracy: 0.8911 - val_loss: 5.9238 - val_accuracy: 0.5063\n",
            "Epoch 868/1000\n",
            "61/61 [==============================] - 1s 10ms/step - loss: 0.3173 - accuracy: 0.9149 - val_loss: 5.4624 - val_accuracy: 0.5294\n",
            "Epoch 869/1000\n",
            "61/61 [==============================] - 1s 9ms/step - loss: 0.5064 - accuracy: 0.8900 - val_loss: 5.9772 - val_accuracy: 0.4769\n",
            "Epoch 870/1000\n",
            "61/61 [==============================] - 1s 10ms/step - loss: 0.3895 - accuracy: 0.9077 - val_loss: 5.7771 - val_accuracy: 0.5189\n",
            "Epoch 871/1000\n",
            "61/61 [==============================] - 1s 9ms/step - loss: 0.3497 - accuracy: 0.9129 - val_loss: 6.0658 - val_accuracy: 0.5168\n",
            "Epoch 872/1000\n",
            "61/61 [==============================] - 1s 9ms/step - loss: 0.4698 - accuracy: 0.8963 - val_loss: 6.1339 - val_accuracy: 0.5126\n",
            "Epoch 873/1000\n",
            "61/61 [==============================] - 1s 9ms/step - loss: 0.4929 - accuracy: 0.8890 - val_loss: 5.4859 - val_accuracy: 0.5042\n",
            "Epoch 874/1000\n",
            "61/61 [==============================] - 1s 9ms/step - loss: 0.4969 - accuracy: 0.8932 - val_loss: 6.2580 - val_accuracy: 0.5399\n",
            "Epoch 875/1000\n",
            "61/61 [==============================] - 1s 9ms/step - loss: 0.4335 - accuracy: 0.9025 - val_loss: 6.2493 - val_accuracy: 0.4937\n",
            "Epoch 876/1000\n",
            "61/61 [==============================] - 1s 9ms/step - loss: 0.4867 - accuracy: 0.8973 - val_loss: 5.5836 - val_accuracy: 0.4916\n",
            "Epoch 877/1000\n",
            "61/61 [==============================] - 1s 9ms/step - loss: 0.4949 - accuracy: 0.8942 - val_loss: 5.8563 - val_accuracy: 0.5294\n",
            "Epoch 878/1000\n",
            "61/61 [==============================] - 1s 9ms/step - loss: 0.4140 - accuracy: 0.8973 - val_loss: 5.9238 - val_accuracy: 0.5042\n",
            "Epoch 879/1000\n",
            "61/61 [==============================] - 1s 9ms/step - loss: 0.4326 - accuracy: 0.9035 - val_loss: 6.3176 - val_accuracy: 0.5357\n",
            "Epoch 880/1000\n",
            "61/61 [==============================] - 1s 9ms/step - loss: 0.4188 - accuracy: 0.9056 - val_loss: 5.9252 - val_accuracy: 0.5147\n",
            "Epoch 881/1000\n",
            "61/61 [==============================] - 1s 9ms/step - loss: 0.4634 - accuracy: 0.8973 - val_loss: 4.9733 - val_accuracy: 0.5126\n",
            "Epoch 882/1000\n",
            "61/61 [==============================] - 1s 9ms/step - loss: 0.4045 - accuracy: 0.8994 - val_loss: 5.7223 - val_accuracy: 0.5105\n",
            "Epoch 883/1000\n",
            "61/61 [==============================] - 1s 9ms/step - loss: 0.4190 - accuracy: 0.9191 - val_loss: 5.7559 - val_accuracy: 0.5105\n",
            "Epoch 884/1000\n",
            "61/61 [==============================] - 1s 10ms/step - loss: 0.4948 - accuracy: 0.9025 - val_loss: 6.4497 - val_accuracy: 0.5084\n",
            "Epoch 885/1000\n",
            "61/61 [==============================] - 1s 10ms/step - loss: 0.4553 - accuracy: 0.8994 - val_loss: 6.7941 - val_accuracy: 0.5000\n",
            "Epoch 886/1000\n",
            "61/61 [==============================] - 1s 10ms/step - loss: 0.3894 - accuracy: 0.9108 - val_loss: 6.2651 - val_accuracy: 0.5315\n",
            "Epoch 887/1000\n",
            "61/61 [==============================] - 1s 10ms/step - loss: 0.5054 - accuracy: 0.9004 - val_loss: 5.8505 - val_accuracy: 0.4811\n",
            "Epoch 888/1000\n",
            "61/61 [==============================] - 1s 9ms/step - loss: 0.4434 - accuracy: 0.9077 - val_loss: 5.5316 - val_accuracy: 0.4916\n",
            "Epoch 889/1000\n",
            "61/61 [==============================] - 1s 10ms/step - loss: 0.3669 - accuracy: 0.9305 - val_loss: 5.3497 - val_accuracy: 0.5336\n",
            "Epoch 890/1000\n",
            "61/61 [==============================] - 1s 9ms/step - loss: 0.5081 - accuracy: 0.8900 - val_loss: 5.6672 - val_accuracy: 0.5063\n",
            "Epoch 891/1000\n",
            "61/61 [==============================] - 1s 10ms/step - loss: 0.3848 - accuracy: 0.9066 - val_loss: 7.2276 - val_accuracy: 0.4958\n",
            "Epoch 892/1000\n",
            "61/61 [==============================] - 1s 10ms/step - loss: 0.4403 - accuracy: 0.9170 - val_loss: 6.2439 - val_accuracy: 0.4979\n",
            "Epoch 893/1000\n",
            "61/61 [==============================] - 1s 10ms/step - loss: 0.4776 - accuracy: 0.8983 - val_loss: 5.9432 - val_accuracy: 0.5189\n",
            "Epoch 894/1000\n",
            "61/61 [==============================] - 1s 10ms/step - loss: 0.4443 - accuracy: 0.9077 - val_loss: 6.4767 - val_accuracy: 0.5105\n",
            "Epoch 895/1000\n",
            "61/61 [==============================] - 1s 10ms/step - loss: 0.3877 - accuracy: 0.9056 - val_loss: 6.0639 - val_accuracy: 0.4853\n",
            "Epoch 896/1000\n",
            "61/61 [==============================] - 1s 10ms/step - loss: 0.4197 - accuracy: 0.9066 - val_loss: 5.0014 - val_accuracy: 0.5000\n",
            "Epoch 897/1000\n",
            "61/61 [==============================] - 1s 10ms/step - loss: 0.4744 - accuracy: 0.9066 - val_loss: 5.6678 - val_accuracy: 0.5147\n",
            "Epoch 898/1000\n",
            "61/61 [==============================] - 1s 10ms/step - loss: 0.3954 - accuracy: 0.9056 - val_loss: 5.6854 - val_accuracy: 0.5210\n",
            "Epoch 899/1000\n",
            "61/61 [==============================] - 1s 10ms/step - loss: 0.5554 - accuracy: 0.8921 - val_loss: 6.6431 - val_accuracy: 0.5126\n",
            "Epoch 900/1000\n",
            "61/61 [==============================] - 1s 10ms/step - loss: 0.4495 - accuracy: 0.9025 - val_loss: 6.1970 - val_accuracy: 0.5084\n",
            "Epoch 901/1000\n",
            "61/61 [==============================] - 1s 10ms/step - loss: 0.3140 - accuracy: 0.9139 - val_loss: 5.9647 - val_accuracy: 0.5420\n",
            "Epoch 902/1000\n",
            "61/61 [==============================] - 1s 10ms/step - loss: 0.4720 - accuracy: 0.8900 - val_loss: 6.4685 - val_accuracy: 0.5189\n",
            "Epoch 903/1000\n",
            "61/61 [==============================] - 1s 10ms/step - loss: 0.5678 - accuracy: 0.8952 - val_loss: 5.6589 - val_accuracy: 0.5336\n",
            "Epoch 904/1000\n",
            "61/61 [==============================] - 1s 10ms/step - loss: 0.3628 - accuracy: 0.9160 - val_loss: 5.5888 - val_accuracy: 0.5084\n",
            "Epoch 905/1000\n",
            "61/61 [==============================] - 1s 10ms/step - loss: 0.4954 - accuracy: 0.9004 - val_loss: 5.7086 - val_accuracy: 0.5084\n",
            "Epoch 906/1000\n",
            "61/61 [==============================] - 1s 10ms/step - loss: 0.4615 - accuracy: 0.8983 - val_loss: 6.2006 - val_accuracy: 0.5168\n",
            "Epoch 907/1000\n",
            "61/61 [==============================] - 1s 10ms/step - loss: 0.5958 - accuracy: 0.8849 - val_loss: 5.9079 - val_accuracy: 0.4727\n",
            "Epoch 908/1000\n",
            "61/61 [==============================] - 1s 9ms/step - loss: 0.4480 - accuracy: 0.9077 - val_loss: 5.8867 - val_accuracy: 0.5189\n",
            "Epoch 909/1000\n",
            "61/61 [==============================] - 1s 10ms/step - loss: 0.4827 - accuracy: 0.8952 - val_loss: 6.1513 - val_accuracy: 0.4748\n",
            "Epoch 910/1000\n",
            "61/61 [==============================] - 1s 10ms/step - loss: 0.4787 - accuracy: 0.9004 - val_loss: 5.4074 - val_accuracy: 0.5147\n",
            "Epoch 911/1000\n",
            "61/61 [==============================] - 1s 10ms/step - loss: 0.4878 - accuracy: 0.8838 - val_loss: 5.3514 - val_accuracy: 0.5084\n",
            "Epoch 912/1000\n",
            "61/61 [==============================] - 1s 10ms/step - loss: 0.4235 - accuracy: 0.8994 - val_loss: 5.6225 - val_accuracy: 0.5252\n",
            "Epoch 913/1000\n",
            "61/61 [==============================] - 1s 10ms/step - loss: 0.4064 - accuracy: 0.9129 - val_loss: 5.8875 - val_accuracy: 0.5168\n",
            "Epoch 914/1000\n",
            "61/61 [==============================] - 1s 10ms/step - loss: 0.4650 - accuracy: 0.9004 - val_loss: 5.1924 - val_accuracy: 0.4916\n",
            "Epoch 915/1000\n",
            "61/61 [==============================] - 1s 10ms/step - loss: 0.4605 - accuracy: 0.9066 - val_loss: 6.1036 - val_accuracy: 0.5000\n",
            "Epoch 916/1000\n",
            "61/61 [==============================] - 1s 10ms/step - loss: 0.5309 - accuracy: 0.8994 - val_loss: 5.8052 - val_accuracy: 0.5126\n",
            "Epoch 917/1000\n",
            "61/61 [==============================] - 1s 10ms/step - loss: 0.6085 - accuracy: 0.8859 - val_loss: 5.9170 - val_accuracy: 0.5063\n",
            "Epoch 918/1000\n",
            "61/61 [==============================] - 1s 10ms/step - loss: 0.3319 - accuracy: 0.9160 - val_loss: 6.0994 - val_accuracy: 0.4811\n",
            "Epoch 919/1000\n",
            "61/61 [==============================] - 1s 10ms/step - loss: 0.4542 - accuracy: 0.9025 - val_loss: 6.9023 - val_accuracy: 0.5315\n",
            "Epoch 920/1000\n",
            "61/61 [==============================] - 1s 10ms/step - loss: 0.4296 - accuracy: 0.9087 - val_loss: 5.5423 - val_accuracy: 0.5273\n",
            "Epoch 921/1000\n",
            "61/61 [==============================] - 1s 10ms/step - loss: 0.5144 - accuracy: 0.8921 - val_loss: 6.0998 - val_accuracy: 0.4916\n",
            "Epoch 922/1000\n",
            "61/61 [==============================] - 1s 10ms/step - loss: 0.4423 - accuracy: 0.9025 - val_loss: 6.2179 - val_accuracy: 0.4958\n",
            "Epoch 923/1000\n",
            "61/61 [==============================] - 1s 9ms/step - loss: 0.4116 - accuracy: 0.9087 - val_loss: 6.8281 - val_accuracy: 0.4937\n",
            "Epoch 924/1000\n",
            "61/61 [==============================] - 1s 9ms/step - loss: 0.4542 - accuracy: 0.9160 - val_loss: 5.2301 - val_accuracy: 0.5126\n",
            "Epoch 925/1000\n",
            "61/61 [==============================] - 1s 10ms/step - loss: 0.4420 - accuracy: 0.9025 - val_loss: 5.7877 - val_accuracy: 0.5273\n",
            "Epoch 926/1000\n",
            "61/61 [==============================] - 1s 9ms/step - loss: 0.4895 - accuracy: 0.9015 - val_loss: 6.7256 - val_accuracy: 0.5126\n",
            "Epoch 927/1000\n",
            "61/61 [==============================] - 1s 10ms/step - loss: 0.4745 - accuracy: 0.9004 - val_loss: 6.5048 - val_accuracy: 0.5105\n",
            "Epoch 928/1000\n",
            "61/61 [==============================] - 1s 9ms/step - loss: 0.5105 - accuracy: 0.9160 - val_loss: 6.1405 - val_accuracy: 0.4853\n",
            "Epoch 929/1000\n",
            "61/61 [==============================] - 1s 10ms/step - loss: 0.4543 - accuracy: 0.9056 - val_loss: 5.9218 - val_accuracy: 0.5168\n",
            "Epoch 930/1000\n",
            "61/61 [==============================] - 1s 9ms/step - loss: 0.5137 - accuracy: 0.8983 - val_loss: 5.9079 - val_accuracy: 0.5294\n",
            "Epoch 931/1000\n",
            "61/61 [==============================] - 1s 10ms/step - loss: 0.4973 - accuracy: 0.8911 - val_loss: 5.6278 - val_accuracy: 0.5105\n",
            "Epoch 932/1000\n",
            "61/61 [==============================] - 1s 10ms/step - loss: 0.4211 - accuracy: 0.9025 - val_loss: 5.2039 - val_accuracy: 0.5336\n",
            "Epoch 933/1000\n",
            "61/61 [==============================] - 1s 10ms/step - loss: 0.4097 - accuracy: 0.9098 - val_loss: 5.6799 - val_accuracy: 0.5273\n",
            "Epoch 934/1000\n",
            "61/61 [==============================] - 1s 10ms/step - loss: 0.5103 - accuracy: 0.8890 - val_loss: 5.1025 - val_accuracy: 0.5147\n",
            "Epoch 935/1000\n",
            "61/61 [==============================] - 1s 10ms/step - loss: 0.5175 - accuracy: 0.9066 - val_loss: 5.7309 - val_accuracy: 0.4979\n",
            "Epoch 936/1000\n",
            "61/61 [==============================] - 1s 10ms/step - loss: 0.5204 - accuracy: 0.8766 - val_loss: 6.9266 - val_accuracy: 0.4748\n",
            "Epoch 937/1000\n",
            "61/61 [==============================] - 1s 10ms/step - loss: 0.4064 - accuracy: 0.9066 - val_loss: 5.7075 - val_accuracy: 0.5294\n",
            "Epoch 938/1000\n",
            "61/61 [==============================] - 1s 10ms/step - loss: 0.4075 - accuracy: 0.9180 - val_loss: 6.1736 - val_accuracy: 0.5147\n",
            "Epoch 939/1000\n",
            "61/61 [==============================] - 1s 10ms/step - loss: 0.5323 - accuracy: 0.8942 - val_loss: 6.7834 - val_accuracy: 0.5105\n",
            "Epoch 940/1000\n",
            "61/61 [==============================] - 1s 10ms/step - loss: 0.4193 - accuracy: 0.9066 - val_loss: 5.5698 - val_accuracy: 0.5378\n",
            "Epoch 941/1000\n",
            "61/61 [==============================] - 1s 10ms/step - loss: 0.4733 - accuracy: 0.9056 - val_loss: 6.3633 - val_accuracy: 0.5315\n",
            "Epoch 942/1000\n",
            "61/61 [==============================] - 1s 10ms/step - loss: 0.4103 - accuracy: 0.9160 - val_loss: 6.4153 - val_accuracy: 0.5189\n",
            "Epoch 943/1000\n",
            "61/61 [==============================] - 1s 10ms/step - loss: 0.4830 - accuracy: 0.8973 - val_loss: 5.4445 - val_accuracy: 0.5378\n",
            "Epoch 944/1000\n",
            "61/61 [==============================] - 1s 10ms/step - loss: 0.4309 - accuracy: 0.8942 - val_loss: 6.0817 - val_accuracy: 0.5147\n",
            "Epoch 945/1000\n",
            "61/61 [==============================] - 1s 10ms/step - loss: 0.4920 - accuracy: 0.9077 - val_loss: 6.2163 - val_accuracy: 0.5126\n",
            "Epoch 946/1000\n",
            "61/61 [==============================] - 1s 10ms/step - loss: 0.3725 - accuracy: 0.9149 - val_loss: 6.5660 - val_accuracy: 0.4895\n",
            "Epoch 947/1000\n",
            "61/61 [==============================] - 1s 10ms/step - loss: 0.4604 - accuracy: 0.8952 - val_loss: 6.2414 - val_accuracy: 0.4937\n",
            "Epoch 948/1000\n",
            "61/61 [==============================] - 1s 9ms/step - loss: 0.5052 - accuracy: 0.9035 - val_loss: 6.1147 - val_accuracy: 0.5420\n",
            "Epoch 949/1000\n",
            "61/61 [==============================] - 1s 10ms/step - loss: 0.4490 - accuracy: 0.9118 - val_loss: 6.9118 - val_accuracy: 0.4790\n",
            "Epoch 950/1000\n",
            "61/61 [==============================] - 1s 10ms/step - loss: 0.4912 - accuracy: 0.9015 - val_loss: 5.8225 - val_accuracy: 0.5252\n",
            "Epoch 951/1000\n",
            "61/61 [==============================] - 1s 10ms/step - loss: 0.5182 - accuracy: 0.8900 - val_loss: 6.2965 - val_accuracy: 0.4748\n",
            "Epoch 952/1000\n",
            "61/61 [==============================] - 1s 10ms/step - loss: 0.4581 - accuracy: 0.8921 - val_loss: 6.1163 - val_accuracy: 0.5105\n",
            "Epoch 953/1000\n",
            "61/61 [==============================] - 1s 10ms/step - loss: 0.6097 - accuracy: 0.8932 - val_loss: 6.8535 - val_accuracy: 0.4748\n",
            "Epoch 954/1000\n",
            "61/61 [==============================] - 1s 10ms/step - loss: 0.4553 - accuracy: 0.9056 - val_loss: 5.8065 - val_accuracy: 0.5147\n",
            "Epoch 955/1000\n",
            "61/61 [==============================] - 1s 10ms/step - loss: 0.4830 - accuracy: 0.8849 - val_loss: 5.8132 - val_accuracy: 0.5210\n",
            "Epoch 956/1000\n",
            "61/61 [==============================] - 1s 10ms/step - loss: 0.4597 - accuracy: 0.9025 - val_loss: 6.5682 - val_accuracy: 0.5147\n",
            "Epoch 957/1000\n",
            "61/61 [==============================] - 1s 10ms/step - loss: 0.4271 - accuracy: 0.9098 - val_loss: 7.2783 - val_accuracy: 0.4979\n",
            "Epoch 958/1000\n",
            "61/61 [==============================] - 1s 10ms/step - loss: 0.5537 - accuracy: 0.8869 - val_loss: 5.8499 - val_accuracy: 0.5273\n",
            "Epoch 959/1000\n",
            "61/61 [==============================] - 1s 10ms/step - loss: 0.4256 - accuracy: 0.9087 - val_loss: 6.4770 - val_accuracy: 0.5000\n",
            "Epoch 960/1000\n",
            "61/61 [==============================] - 1s 10ms/step - loss: 0.4950 - accuracy: 0.9108 - val_loss: 6.6877 - val_accuracy: 0.4685\n",
            "Epoch 961/1000\n",
            "61/61 [==============================] - 1s 10ms/step - loss: 0.5608 - accuracy: 0.8807 - val_loss: 5.7241 - val_accuracy: 0.5063\n",
            "Epoch 962/1000\n",
            "61/61 [==============================] - 1s 10ms/step - loss: 0.4348 - accuracy: 0.9118 - val_loss: 6.0965 - val_accuracy: 0.4958\n",
            "Epoch 963/1000\n",
            "61/61 [==============================] - 1s 10ms/step - loss: 0.6207 - accuracy: 0.8921 - val_loss: 6.2109 - val_accuracy: 0.5084\n",
            "Epoch 964/1000\n",
            "61/61 [==============================] - 1s 10ms/step - loss: 0.4803 - accuracy: 0.8994 - val_loss: 6.2488 - val_accuracy: 0.5252\n",
            "Epoch 965/1000\n",
            "61/61 [==============================] - 1s 10ms/step - loss: 0.5764 - accuracy: 0.8890 - val_loss: 6.2083 - val_accuracy: 0.4937\n",
            "Epoch 966/1000\n",
            "61/61 [==============================] - 1s 10ms/step - loss: 0.4738 - accuracy: 0.8973 - val_loss: 6.2801 - val_accuracy: 0.5525\n",
            "Epoch 967/1000\n",
            "61/61 [==============================] - 1s 10ms/step - loss: 0.4505 - accuracy: 0.9201 - val_loss: 6.5291 - val_accuracy: 0.5105\n",
            "Epoch 968/1000\n",
            "61/61 [==============================] - 1s 10ms/step - loss: 0.4946 - accuracy: 0.9035 - val_loss: 5.5192 - val_accuracy: 0.5126\n",
            "Epoch 969/1000\n",
            "61/61 [==============================] - 1s 10ms/step - loss: 0.4622 - accuracy: 0.9035 - val_loss: 7.4567 - val_accuracy: 0.5126\n",
            "Epoch 970/1000\n",
            "61/61 [==============================] - 1s 9ms/step - loss: 0.5437 - accuracy: 0.9098 - val_loss: 5.8702 - val_accuracy: 0.5189\n",
            "Epoch 971/1000\n",
            "61/61 [==============================] - 1s 10ms/step - loss: 0.5207 - accuracy: 0.8973 - val_loss: 6.3637 - val_accuracy: 0.5105\n",
            "Epoch 972/1000\n",
            "61/61 [==============================] - 1s 10ms/step - loss: 0.5553 - accuracy: 0.8859 - val_loss: 6.1810 - val_accuracy: 0.5147\n",
            "Epoch 973/1000\n",
            "61/61 [==============================] - 1s 9ms/step - loss: 0.5363 - accuracy: 0.8859 - val_loss: 6.7199 - val_accuracy: 0.5147\n",
            "Epoch 974/1000\n",
            "61/61 [==============================] - 1s 9ms/step - loss: 0.3994 - accuracy: 0.9056 - val_loss: 6.7024 - val_accuracy: 0.5084\n",
            "Epoch 975/1000\n",
            "61/61 [==============================] - 1s 10ms/step - loss: 0.4991 - accuracy: 0.8952 - val_loss: 5.7112 - val_accuracy: 0.5021\n",
            "Epoch 976/1000\n",
            "61/61 [==============================] - 1s 10ms/step - loss: 0.3504 - accuracy: 0.9077 - val_loss: 6.3417 - val_accuracy: 0.5063\n",
            "Epoch 977/1000\n",
            "61/61 [==============================] - 1s 10ms/step - loss: 0.4631 - accuracy: 0.9056 - val_loss: 6.6132 - val_accuracy: 0.5210\n",
            "Epoch 978/1000\n",
            "61/61 [==============================] - 1s 10ms/step - loss: 0.5424 - accuracy: 0.8900 - val_loss: 6.5360 - val_accuracy: 0.4748\n",
            "Epoch 979/1000\n",
            "61/61 [==============================] - 1s 10ms/step - loss: 0.5580 - accuracy: 0.8817 - val_loss: 6.7489 - val_accuracy: 0.4706\n",
            "Epoch 980/1000\n",
            "61/61 [==============================] - 1s 9ms/step - loss: 0.5210 - accuracy: 0.8911 - val_loss: 5.6622 - val_accuracy: 0.5147\n",
            "Epoch 981/1000\n",
            "61/61 [==============================] - 1s 10ms/step - loss: 0.5026 - accuracy: 0.9098 - val_loss: 5.9608 - val_accuracy: 0.5210\n",
            "Epoch 982/1000\n",
            "61/61 [==============================] - 1s 10ms/step - loss: 0.4987 - accuracy: 0.8900 - val_loss: 6.4692 - val_accuracy: 0.5273\n",
            "Epoch 983/1000\n",
            "61/61 [==============================] - 1s 10ms/step - loss: 0.5607 - accuracy: 0.9098 - val_loss: 6.0720 - val_accuracy: 0.5252\n",
            "Epoch 984/1000\n",
            "61/61 [==============================] - 1s 10ms/step - loss: 0.4867 - accuracy: 0.9015 - val_loss: 5.8198 - val_accuracy: 0.5294\n",
            "Epoch 985/1000\n",
            "61/61 [==============================] - 1s 10ms/step - loss: 0.4306 - accuracy: 0.9046 - val_loss: 6.7047 - val_accuracy: 0.5168\n",
            "Epoch 986/1000\n",
            "61/61 [==============================] - 1s 10ms/step - loss: 0.4745 - accuracy: 0.9098 - val_loss: 6.9521 - val_accuracy: 0.5147\n",
            "Epoch 987/1000\n",
            "61/61 [==============================] - 1s 10ms/step - loss: 0.4702 - accuracy: 0.9015 - val_loss: 7.2290 - val_accuracy: 0.4874\n",
            "Epoch 988/1000\n",
            "61/61 [==============================] - 1s 10ms/step - loss: 0.5798 - accuracy: 0.8911 - val_loss: 6.0093 - val_accuracy: 0.4979\n",
            "Epoch 989/1000\n",
            "61/61 [==============================] - 1s 10ms/step - loss: 0.4020 - accuracy: 0.8963 - val_loss: 6.0556 - val_accuracy: 0.5126\n",
            "Epoch 990/1000\n",
            "61/61 [==============================] - 1s 10ms/step - loss: 0.4692 - accuracy: 0.9077 - val_loss: 6.2784 - val_accuracy: 0.5189\n",
            "Epoch 991/1000\n",
            "61/61 [==============================] - 1s 10ms/step - loss: 0.4751 - accuracy: 0.9066 - val_loss: 6.2603 - val_accuracy: 0.4937\n",
            "Epoch 992/1000\n",
            "61/61 [==============================] - 1s 10ms/step - loss: 0.4674 - accuracy: 0.9056 - val_loss: 7.5293 - val_accuracy: 0.5168\n",
            "Epoch 993/1000\n",
            "61/61 [==============================] - 1s 10ms/step - loss: 0.5022 - accuracy: 0.9015 - val_loss: 6.4041 - val_accuracy: 0.5147\n",
            "Epoch 994/1000\n",
            "61/61 [==============================] - 1s 10ms/step - loss: 0.3701 - accuracy: 0.9191 - val_loss: 6.1851 - val_accuracy: 0.5126\n",
            "Epoch 995/1000\n",
            "61/61 [==============================] - 1s 10ms/step - loss: 0.5196 - accuracy: 0.8900 - val_loss: 6.0460 - val_accuracy: 0.5210\n",
            "Epoch 996/1000\n",
            "61/61 [==============================] - 1s 10ms/step - loss: 0.4103 - accuracy: 0.9087 - val_loss: 6.5323 - val_accuracy: 0.5231\n",
            "Epoch 997/1000\n",
            "61/61 [==============================] - 1s 10ms/step - loss: 0.4594 - accuracy: 0.9118 - val_loss: 7.4778 - val_accuracy: 0.4979\n",
            "Epoch 998/1000\n",
            "61/61 [==============================] - 1s 10ms/step - loss: 0.4057 - accuracy: 0.9087 - val_loss: 6.3694 - val_accuracy: 0.5105\n",
            "Epoch 999/1000\n",
            "61/61 [==============================] - 1s 10ms/step - loss: 0.4851 - accuracy: 0.8932 - val_loss: 6.5450 - val_accuracy: 0.5462\n",
            "Epoch 1000/1000\n",
            "61/61 [==============================] - 1s 10ms/step - loss: 0.4129 - accuracy: 0.9056 - val_loss: 7.5688 - val_accuracy: 0.5105\n"
          ],
          "name": "stdout"
        }
      ]
    },
    {
      "cell_type": "markdown",
      "metadata": {
        "id": "mFytY6LDzgJ0",
        "colab_type": "text"
      },
      "source": [
        "Let's plot the loss:"
      ]
    },
    {
      "cell_type": "code",
      "metadata": {
        "id": "TFz4ClZov9gZ",
        "colab_type": "code",
        "colab": {
          "base_uri": "https://localhost:8080/",
          "height": 295
        },
        "outputId": "2ab9e742-55f0-42e4-d94c-7c644812079d"
      },
      "source": [
        "plt.plot(cnnhistory.history['loss'])\n",
        "plt.plot(cnnhistory.history['val_loss'])\n",
        "plt.title('model loss')\n",
        "plt.ylabel('loss')\n",
        "plt.xlabel('epoch')\n",
        "plt.legend(['train', 'test'], loc='upper left')\n",
        "plt.show()"
      ],
      "execution_count": null,
      "outputs": [
        {
          "output_type": "display_data",
          "data": {
            "image/png": "[encoded data removed]",
            "text/plain": [
              "<Figure size 432x288 with 1 Axes>"
            ]
          },
          "metadata": {
            "tags": []
          }
        }
      ]
    },
    {
      "cell_type": "markdown",
      "metadata": {
        "id": "Vf1W7LgP2DA5",
        "colab_type": "text"
      },
      "source": [
        "\n",
        "\n",
        "And now let's plot the accuracy:"
      ]
    },
    {
      "cell_type": "code",
      "metadata": {
        "id": "8yyFBt7ASPUe",
        "colab_type": "code",
        "colab": {
          "base_uri": "https://localhost:8080/",
          "height": 295
        },
        "outputId": "d096848b-55a8-4d58-849d-ac26dbcb893f"
      },
      "source": [
        "plt.plot(cnnhistory.history['accuracy'])\n",
        "plt.plot(cnnhistory.history['val_accuracy'])\n",
        "plt.title('model accuracy')\n",
        "plt.ylabel('accuracy')\n",
        "plt.xlabel('epoch')\n",
        "plt.legend(['train', 'test'], loc='upper left')\n",
        "plt.show()"
      ],
      "execution_count": null,
      "outputs": [
        {
          "output_type": "display_data",
          "data": {
            "image/png": "[encoded data removed]",
            "text/plain": [
              "<Figure size 432x288 with 1 Axes>"
            ]
          },
          "metadata": {
            "tags": []
          }
        }
      ]
    },
    {
      "cell_type": "markdown",
      "metadata": {
        "id": "gaZONl1mD8XD",
        "colab_type": "text"
      },
      "source": [
        "Let's now create a classification report to review the f1-score of the model per class.\n",
        "To do so, we have to:\n",
        "- Create a variable predictions that will contain the model.predict_classes outcome\n",
        "- Convert our y_test (array of strings with our classes) to an array of int called new_Ytest, otherwise it will not be comparable to the predictions by the classification report."
      ]
    },
    {
      "cell_type": "code",
      "metadata": {
        "id": "EO25uIL-9vqx",
        "colab_type": "code",
        "colab": {
          "base_uri": "https://localhost:8080/",
          "height": 88
        },
        "outputId": "3870f2e3-84b6-43a3-bcf4-7445939e9f0c"
      },
      "source": [
        "predictions = model.predict_classes(x_testcnn)"
      ],
      "execution_count": null,
      "outputs": [
        {
          "output_type": "stream",
          "text": [
            "WARNING:tensorflow:From <ipython-input-58-601d08084939>:1: Sequential.predict_classes (from tensorflow.python.keras.engine.sequential) is deprecated and will be removed after 2021-01-01.\n",
            "Instructions for updating:\n",
            "Please use instead:* `np.argmax(model.predict(x), axis=-1)`,   if your model does multi-class classification   (e.g. if it uses a `softmax` last-layer activation).* `(model.predict(x) > 0.5).astype(\"int32\")`,   if your model does binary classification   (e.g. if it uses a `sigmoid` last-layer activation).\n"
          ],
          "name": "stdout"
        }
      ]
    },
    {
      "cell_type": "code",
      "metadata": {
        "id": "1i06grlBBSrn",
        "colab_type": "code",
        "colab": {
          "base_uri": "https://localhost:8080/",
          "height": 391
        },
        "outputId": "5d0fc8a3-1193-4004-9f32-a43dbd79447d"
      },
      "source": [
        "predictions"
      ],
      "execution_count": null,
      "outputs": [
        {
          "output_type": "execute_result",
          "data": {
            "text/plain": [
              "array([7, 5, 0, 1, 6, 6, 4, 5, 7, 1, 3, 7, 3, 5, 4, 6, 4, 0, 3, 3, 7, 1,\n",
              "       6, 3, 5, 6, 0, 7, 3, 4, 7, 4, 5, 5, 4, 1, 6, 4, 5, 4, 7, 2, 1, 4,\n",
              "       6, 1, 5, 0, 0, 5, 7, 2, 6, 4, 0, 3, 1, 0, 5, 0, 4, 5, 3, 7, 5, 2,\n",
              "       5, 6, 6, 2, 1, 7, 1, 2, 7, 2, 4, 7, 6, 4, 2, 2, 5, 1, 7, 4, 4, 1,\n",
              "       2, 2, 7, 1, 0, 4, 3, 6, 7, 4, 1, 1, 6, 5, 4, 2, 3, 7, 5, 7, 5, 0,\n",
              "       2, 4, 4, 1, 4, 7, 2, 2, 0, 6, 4, 1, 4, 5, 4, 5, 4, 1, 6, 5, 2, 5,\n",
              "       5, 1, 3, 1, 6, 0, 1, 5, 5, 4, 5, 5, 4, 3, 4, 1, 7, 2, 7, 7, 6, 1,\n",
              "       7, 1, 5, 6, 2, 2, 3, 7, 4, 4, 5, 0, 4, 1, 1, 7, 1, 5, 5, 7, 5, 4,\n",
              "       4, 7, 2, 5, 2, 4, 2, 3, 1, 2, 1, 7, 4, 5, 6, 5, 5, 1, 1, 5, 7, 7,\n",
              "       7, 5, 4, 1, 7, 5, 1, 5, 6, 7, 2, 6, 2, 1, 4, 5, 1, 4, 2, 4, 7, 3,\n",
              "       6, 7, 2, 6, 3, 2, 3, 3, 3, 7, 3, 4, 1, 6, 7, 4, 7, 6, 4, 2, 6, 1,\n",
              "       7, 2, 5, 2, 3, 1, 1, 6, 6, 3, 4, 5, 4, 7, 3, 7, 3, 2, 6, 0, 0, 0,\n",
              "       4, 1, 2, 7, 7, 0, 7, 3, 6, 7, 3, 5, 4, 6, 4, 2, 3, 5, 7, 5, 3, 4,\n",
              "       1, 3, 3, 2, 5, 3, 1, 4, 3, 4, 6, 4, 4, 1, 1, 7, 1, 4, 2, 7, 5, 3,\n",
              "       3, 7, 0, 5, 3, 5, 5, 5, 6, 6, 4, 5, 7, 1, 5, 7, 7, 5, 5, 4, 5, 5,\n",
              "       6, 5, 1, 4, 2, 2, 3, 7, 0, 3, 0, 5, 3, 7, 2, 6, 4, 4, 3, 7, 1, 1,\n",
              "       1, 5, 3, 4, 2, 7, 7, 7, 5, 6, 2, 5, 3, 7, 6, 1, 2, 7, 3, 1, 7, 7,\n",
              "       6, 6, 5, 2, 4, 4, 1, 3, 5, 0, 6, 4, 2, 3, 4, 3, 6, 3, 6, 5, 1, 5,\n",
              "       7, 0, 7, 7, 6, 4, 2, 4, 4, 2, 2, 1, 1, 1, 4, 1, 1, 3, 2, 4, 3, 7,\n",
              "       3, 5, 7, 5, 1, 6, 6, 5, 6, 6, 6, 6, 3, 5, 5, 3, 4, 5, 7, 2, 5, 2,\n",
              "       4, 7, 4, 4, 7, 4, 5, 5, 3, 7, 5, 4, 5, 1, 1, 6, 3, 0, 4, 6, 7, 6,\n",
              "       1, 1, 5, 3, 2, 6, 7, 5, 6, 1, 6, 0, 4, 3])"
            ]
          },
          "metadata": {
            "tags": []
          },
          "execution_count": 59
        }
      ]
    },
    {
      "cell_type": "code",
      "metadata": {
        "id": "HUHshx93CM_6",
        "colab_type": "code",
        "colab": {
          "base_uri": "https://localhost:8080/",
          "height": 391
        },
        "outputId": "d5f2b3ff-3419-4456-9aa2-58473e2ba182"
      },
      "source": [
        "y_test"
      ],
      "execution_count": null,
      "outputs": [
        {
          "output_type": "execute_result",
          "data": {
            "text/plain": [
              "array([7, 1, 1, 1, 4, 1, 1, 5, 7, 1, 6, 7, 3, 5, 4, 6, 4, 5, 1, 6, 7, 0,\n",
              "       0, 3, 5, 3, 7, 7, 6, 4, 7, 4, 2, 5, 6, 1, 6, 4, 2, 4, 2, 0, 1, 4,\n",
              "       7, 1, 2, 0, 5, 3, 3, 7, 7, 4, 0, 1, 1, 7, 2, 0, 6, 5, 7, 7, 5, 2,\n",
              "       1, 6, 6, 3, 2, 7, 1, 2, 7, 1, 4, 7, 3, 6, 2, 2, 7, 1, 2, 4, 5, 1,\n",
              "       2, 1, 0, 1, 4, 4, 1, 6, 7, 2, 2, 3, 6, 5, 4, 5, 3, 7, 2, 7, 5, 0,\n",
              "       7, 4, 6, 1, 6, 4, 5, 6, 6, 5, 7, 1, 7, 5, 3, 5, 7, 2, 6, 5, 2, 2,\n",
              "       3, 5, 2, 3, 1, 1, 6, 6, 4, 4, 2, 2, 4, 2, 4, 1, 7, 5, 7, 3, 1, 5,\n",
              "       2, 1, 5, 3, 6, 5, 3, 4, 4, 3, 2, 0, 4, 1, 3, 7, 1, 5, 4, 6, 5, 1,\n",
              "       4, 7, 2, 3, 2, 5, 2, 3, 0, 0, 7, 5, 4, 3, 6, 5, 3, 1, 3, 5, 7, 7,\n",
              "       6, 1, 5, 3, 7, 3, 1, 4, 6, 3, 2, 7, 2, 6, 7, 5, 0, 4, 4, 4, 7, 7,\n",
              "       3, 7, 5, 5, 3, 6, 1, 3, 3, 0, 3, 6, 3, 6, 7, 4, 4, 6, 4, 0, 6, 1,\n",
              "       7, 0, 2, 2, 0, 1, 1, 3, 4, 3, 4, 1, 4, 7, 3, 7, 1, 2, 4, 1, 1, 1,\n",
              "       4, 0, 6, 7, 7, 1, 2, 1, 3, 7, 3, 4, 4, 2, 4, 2, 4, 2, 3, 6, 3, 6,\n",
              "       2, 3, 1, 2, 5, 7, 1, 4, 3, 7, 6, 7, 4, 1, 1, 3, 1, 4, 4, 7, 6, 3,\n",
              "       1, 2, 0, 7, 0, 5, 3, 3, 6, 6, 4, 2, 5, 1, 5, 3, 3, 3, 1, 7, 5, 3,\n",
              "       6, 6, 1, 2, 2, 6, 7, 6, 0, 3, 0, 6, 5, 7, 6, 6, 4, 4, 7, 6, 3, 1,\n",
              "       1, 5, 3, 4, 2, 2, 2, 7, 7, 6, 2, 3, 6, 0, 6, 1, 2, 7, 1, 1, 7, 7,\n",
              "       6, 6, 7, 4, 4, 4, 3, 0, 5, 1, 6, 2, 2, 3, 6, 2, 0, 1, 1, 5, 1, 5,\n",
              "       7, 1, 6, 2, 3, 4, 2, 6, 4, 2, 4, 3, 2, 1, 6, 2, 1, 2, 1, 4, 2, 6,\n",
              "       5, 5, 7, 5, 1, 6, 6, 5, 6, 6, 7, 6, 3, 2, 5, 3, 2, 5, 7, 2, 5, 6,\n",
              "       4, 7, 6, 6, 4, 5, 5, 5, 1, 7, 5, 4, 5, 1, 0, 0, 6, 6, 6, 6, 7, 6,\n",
              "       6, 1, 3, 6, 1, 6, 7, 2, 6, 3, 6, 0, 7, 3])"
            ]
          },
          "metadata": {
            "tags": []
          },
          "execution_count": 60
        }
      ]
    },
    {
      "cell_type": "code",
      "metadata": {
        "id": "tMxojpvWCxOs",
        "colab_type": "code",
        "colab": {}
      },
      "source": [
        "new_Ytest = y_test.astype(int)"
      ],
      "execution_count": null,
      "outputs": []
    },
    {
      "cell_type": "code",
      "metadata": {
        "id": "W07EQaC8DE6i",
        "colab_type": "code",
        "colab": {
          "base_uri": "https://localhost:8080/",
          "height": 391
        },
        "outputId": "7205fc78-9440-4361-bc2e-9461cbb55a6f"
      },
      "source": [
        "new_Ytest"
      ],
      "execution_count": null,
      "outputs": [
        {
          "output_type": "execute_result",
          "data": {
            "text/plain": [
              "array([7, 1, 1, 1, 4, 1, 1, 5, 7, 1, 6, 7, 3, 5, 4, 6, 4, 5, 1, 6, 7, 0,\n",
              "       0, 3, 5, 3, 7, 7, 6, 4, 7, 4, 2, 5, 6, 1, 6, 4, 2, 4, 2, 0, 1, 4,\n",
              "       7, 1, 2, 0, 5, 3, 3, 7, 7, 4, 0, 1, 1, 7, 2, 0, 6, 5, 7, 7, 5, 2,\n",
              "       1, 6, 6, 3, 2, 7, 1, 2, 7, 1, 4, 7, 3, 6, 2, 2, 7, 1, 2, 4, 5, 1,\n",
              "       2, 1, 0, 1, 4, 4, 1, 6, 7, 2, 2, 3, 6, 5, 4, 5, 3, 7, 2, 7, 5, 0,\n",
              "       7, 4, 6, 1, 6, 4, 5, 6, 6, 5, 7, 1, 7, 5, 3, 5, 7, 2, 6, 5, 2, 2,\n",
              "       3, 5, 2, 3, 1, 1, 6, 6, 4, 4, 2, 2, 4, 2, 4, 1, 7, 5, 7, 3, 1, 5,\n",
              "       2, 1, 5, 3, 6, 5, 3, 4, 4, 3, 2, 0, 4, 1, 3, 7, 1, 5, 4, 6, 5, 1,\n",
              "       4, 7, 2, 3, 2, 5, 2, 3, 0, 0, 7, 5, 4, 3, 6, 5, 3, 1, 3, 5, 7, 7,\n",
              "       6, 1, 5, 3, 7, 3, 1, 4, 6, 3, 2, 7, 2, 6, 7, 5, 0, 4, 4, 4, 7, 7,\n",
              "       3, 7, 5, 5, 3, 6, 1, 3, 3, 0, 3, 6, 3, 6, 7, 4, 4, 6, 4, 0, 6, 1,\n",
              "       7, 0, 2, 2, 0, 1, 1, 3, 4, 3, 4, 1, 4, 7, 3, 7, 1, 2, 4, 1, 1, 1,\n",
              "       4, 0, 6, 7, 7, 1, 2, 1, 3, 7, 3, 4, 4, 2, 4, 2, 4, 2, 3, 6, 3, 6,\n",
              "       2, 3, 1, 2, 5, 7, 1, 4, 3, 7, 6, 7, 4, 1, 1, 3, 1, 4, 4, 7, 6, 3,\n",
              "       1, 2, 0, 7, 0, 5, 3, 3, 6, 6, 4, 2, 5, 1, 5, 3, 3, 3, 1, 7, 5, 3,\n",
              "       6, 6, 1, 2, 2, 6, 7, 6, 0, 3, 0, 6, 5, 7, 6, 6, 4, 4, 7, 6, 3, 1,\n",
              "       1, 5, 3, 4, 2, 2, 2, 7, 7, 6, 2, 3, 6, 0, 6, 1, 2, 7, 1, 1, 7, 7,\n",
              "       6, 6, 7, 4, 4, 4, 3, 0, 5, 1, 6, 2, 2, 3, 6, 2, 0, 1, 1, 5, 1, 5,\n",
              "       7, 1, 6, 2, 3, 4, 2, 6, 4, 2, 4, 3, 2, 1, 6, 2, 1, 2, 1, 4, 2, 6,\n",
              "       5, 5, 7, 5, 1, 6, 6, 5, 6, 6, 7, 6, 3, 2, 5, 3, 2, 5, 7, 2, 5, 6,\n",
              "       4, 7, 6, 6, 4, 5, 5, 5, 1, 7, 5, 4, 5, 1, 0, 0, 6, 6, 6, 6, 7, 6,\n",
              "       6, 1, 3, 6, 1, 6, 7, 2, 6, 3, 6, 0, 7, 3])"
            ]
          },
          "metadata": {
            "tags": []
          },
          "execution_count": 63
        }
      ]
    },
    {
      "cell_type": "markdown",
      "metadata": {
        "id": "FW2XHdTtEedk",
        "colab_type": "text"
      },
      "source": [
        "Okay, now we can display the classification report:"
      ]
    },
    {
      "cell_type": "code",
      "metadata": {
        "id": "IfVSRmMu96rC",
        "colab_type": "code",
        "colab": {
          "base_uri": "https://localhost:8080/",
          "height": 272
        },
        "outputId": "0f958170-2801-46ca-dcec-983854106b07"
      },
      "source": [
        "from sklearn.metrics import classification_report\n",
        "report = classification_report(new_Ytest, predictions)\n",
        "print(report)"
      ],
      "execution_count": null,
      "outputs": [
        {
          "output_type": "stream",
          "text": [
            "              precision    recall  f1-score   support\n",
            "\n",
            "           0       0.38      0.33      0.35        27\n",
            "           1       0.58      0.52      0.55        71\n",
            "           2       0.46      0.38      0.41        61\n",
            "           3       0.40      0.36      0.38        61\n",
            "           4       0.57      0.72      0.63        60\n",
            "           5       0.44      0.65      0.53        54\n",
            "           6       0.57      0.43      0.49        74\n",
            "           7       0.58      0.62      0.60        68\n",
            "\n",
            "    accuracy                           0.51       476\n",
            "   macro avg       0.50      0.50      0.49       476\n",
            "weighted avg       0.51      0.51      0.51       476\n",
            "\n"
          ],
          "name": "stdout"
        }
      ]
    },
    {
      "cell_type": "markdown",
      "metadata": {
        "id": "hu1S5IowfSDG",
        "colab_type": "text"
      },
      "source": [
        "And now, the confusion matrix: it will show us the misclassified samples"
      ]
    },
    {
      "cell_type": "code",
      "metadata": {
        "id": "fdy09SCEd7Cl",
        "colab_type": "code",
        "colab": {
          "base_uri": "https://localhost:8080/",
          "height": 153
        },
        "outputId": "9b1fe991-b69c-4ca0-cc4e-e362529ce13d"
      },
      "source": [
        "from sklearn.metrics import confusion_matrix\n",
        "matrix = confusion_matrix(new_Ytest, predictions)\n",
        "print (matrix)\n",
        "\n",
        "# 0 = neutral, 1 = calm, 2 = happy, 3 = sad, 4 = angry, 5 = fearful, 6 = disgust, 7 = surprised"
      ],
      "execution_count": null,
      "outputs": [
        {
          "output_type": "stream",
          "text": [
            "[[ 9  5  4  3  0  0  3  3]\n",
            " [ 8 37  4 11  2  5  4  0]\n",
            " [ 0  6 23  5  4 14  1  8]\n",
            " [ 0 10  1 22  2 12  7  7]\n",
            " [ 1  0  4  1 43  4  3  4]\n",
            " [ 2  2  5  2  4 35  2  2]\n",
            " [ 2  3  7  6 13  5 32  6]\n",
            " [ 2  1  2  5  8  4  4 42]]\n"
          ],
          "name": "stdout"
        }
      ]
    },
    {
      "cell_type": "markdown",
      "metadata": {
        "id": "x_ySPOyHxkZ3",
        "colab_type": "text"
      },
      "source": [
        "# Save the model"
      ]
    },
    {
      "cell_type": "code",
      "metadata": {
        "id": "f5kRmoD-sdHj",
        "colab_type": "code",
        "colab": {
          "base_uri": "https://localhost:8080/",
          "height": 34
        },
        "outputId": "78eb631a-5943-4cb6-fd49-876d35df6e99"
      },
      "source": [
        "model_name = 'Emotion_Voice_Detection_Model.h5'\n",
        "save_dir = '/content/drive/My Drive/Voice Analytics/Emotion-Classification-Ravdess-master/'\n",
        "# Save model and weights\n",
        "if not os.path.isdir(save_dir):\n",
        "    os.makedirs(save_dir)\n",
        "model_path = os.path.join(save_dir, model_name)\n",
        "model.save(model_path)\n",
        "print('Saved trained model at %s ' % model_path)"
      ],
      "execution_count": null,
      "outputs": [
        {
          "output_type": "stream",
          "text": [
            "Saved trained model at /content/drive/My Drive/Voice Analytics/Emotion-Classification-Ravdess-master/Emotion_Voice_Detection_Model.h5 \n"
          ],
          "name": "stdout"
        }
      ]
    },
    {
      "cell_type": "markdown",
      "metadata": {
        "id": "MNUiznKNwUtJ",
        "colab_type": "text"
      },
      "source": [
        "# Reloading the model to test it"
      ]
    },
    {
      "cell_type": "code",
      "metadata": {
        "id": "T4oAv6Kx8RBE",
        "colab_type": "code",
        "colab": {}
      },
      "source": [
        "import keras\n",
        "from keras.initializers import glorot_uniform\n",
        "loaded_model = keras.models.load_model('/content/drive/My Drive/Voice Analytics/Emotion-Classification-Ravdess-master/Emotion_Voice_Detection_Model.h5')\n",
        "loaded_model.summary()"
      ],
      "execution_count": null,
      "outputs": []
    },
    {
      "cell_type": "markdown",
      "metadata": {
        "id": "FHtPzc0Y8hfZ",
        "colab_type": "text"
      },
      "source": [
        "# Checking the accuracy of the loaded model"
      ]
    },
    {
      "cell_type": "code",
      "metadata": {
        "id": "qUi-Zjuf8hDB",
        "colab_type": "code",
        "colab": {}
      },
      "source": [
        "loss, acc = loaded_model.evaluate(x_testcnn, y_test)\n",
        "print(\"Restored model, accuracy: {:5.2f}%\".format(100*acc))"
      ],
      "execution_count": null,
      "outputs": []
    },
    {
      "cell_type": "markdown",
      "metadata": {
        "id": "8pXH3y7S9A1N",
        "colab_type": "text"
      },
      "source": [
        "# CNN2 based on image of MFCCs"
      ]
    },
    {
      "cell_type": "code",
      "metadata": {
        "colab_type": "code",
        "id": "VgCJ91oCBrXK",
        "colab": {
          "base_uri": "https://localhost:8080/",
          "height": 697
        },
        "outputId": "496ca174-9e5c-4d4d-fd4b-fc02ef8a74b8"
      },
      "source": [
        "import keras\n",
        "import numpy as np\n",
        "import matplotlib.pyplot as plt\n",
        "import tensorflow as tf\n",
        "from tensorflow.keras.preprocessing import sequence\n",
        "from tensorflow.keras.models import Sequential\n",
        "from tensorflow.keras.layers import Dense, Embedding\n",
        "from tensorflow.keras.utils import to_categorical\n",
        "from tensorflow.keras.layers import Input, Flatten, Dropout, Activation\n",
        "from tensorflow.keras.layers import Conv1D, MaxPooling1D, Conv2D\n",
        "from tensorflow.keras.layers import MaxPooling2D, GlobalMaxPooling2D, GlobalAveragePooling1D, AveragePooling2D, Add\n",
        "from tensorflow.keras.models import Model\n",
        "from tensorflow.keras.callbacks import ModelCheckpoint\n",
        "\n",
        "model = Sequential()\n",
        "input_shape=(64, 64, 3)\n",
        "#1st hidden layer\n",
        "model.add(Conv2D(32, (3, 3), strides=(2, 2), input_shape=input_shape))\n",
        "model.add(AveragePooling2D((2, 2), strides=(2,2)))\n",
        "model.add(Activation('relu'))\n",
        "#2nd hidden layer\n",
        "model.add(Conv2D(64, (3, 3), padding=\"same\"))\n",
        "model.add(AveragePooling2D((2, 2), strides=(2,2)))\n",
        "model.add(Activation('relu'))\n",
        "#3rd hidden layer\n",
        "model.add(Conv2D(64, (3, 3), padding=\"same\"))\n",
        "model.add(AveragePooling2D((2, 2), strides=(2,2)))\n",
        "model.add(Activation('relu'))\n",
        "#Flatten\n",
        "model.add(Flatten())\n",
        "model.add(Dropout(rate=0.5))\n",
        "#Add fully connected layer.\n",
        "model.add(Dense(64))\n",
        "model.add(Activation('relu'))\n",
        "model.add(Dropout(rate=0.5))\n",
        "#Output layer\n",
        "model.add(Dense(10))\n",
        "model.add(Activation('softmax'))\n",
        "model.summary()"
      ],
      "execution_count": null,
      "outputs": [
        {
          "output_type": "stream",
          "text": [
            "Model: \"sequential_4\"\n",
            "_________________________________________________________________\n",
            "Layer (type)                 Output Shape              Param #   \n",
            "=================================================================\n",
            "conv2d_1 (Conv2D)            (None, 31, 31, 32)        896       \n",
            "_________________________________________________________________\n",
            "average_pooling2d (AveragePo (None, 15, 15, 32)        0         \n",
            "_________________________________________________________________\n",
            "activation_3 (Activation)    (None, 15, 15, 32)        0         \n",
            "_________________________________________________________________\n",
            "conv2d_2 (Conv2D)            (None, 15, 15, 64)        18496     \n",
            "_________________________________________________________________\n",
            "average_pooling2d_1 (Average (None, 7, 7, 64)          0         \n",
            "_________________________________________________________________\n",
            "activation_4 (Activation)    (None, 7, 7, 64)          0         \n",
            "_________________________________________________________________\n",
            "conv2d_3 (Conv2D)            (None, 7, 7, 64)          36928     \n",
            "_________________________________________________________________\n",
            "average_pooling2d_2 (Average (None, 3, 3, 64)          0         \n",
            "_________________________________________________________________\n",
            "activation_5 (Activation)    (None, 3, 3, 64)          0         \n",
            "_________________________________________________________________\n",
            "flatten_1 (Flatten)          (None, 576)               0         \n",
            "_________________________________________________________________\n",
            "dropout_2 (Dropout)          (None, 576)               0         \n",
            "_________________________________________________________________\n",
            "dense_1 (Dense)              (None, 64)                36928     \n",
            "_________________________________________________________________\n",
            "activation_6 (Activation)    (None, 64)                0         \n",
            "_________________________________________________________________\n",
            "dropout_3 (Dropout)          (None, 64)                0         \n",
            "_________________________________________________________________\n",
            "dense_2 (Dense)              (None, 10)                650       \n",
            "_________________________________________________________________\n",
            "activation_7 (Activation)    (None, 10)                0         \n",
            "=================================================================\n",
            "Total params: 93,898\n",
            "Trainable params: 93,898\n",
            "Non-trainable params: 0\n",
            "_________________________________________________________________\n"
          ],
          "name": "stdout"
        }
      ]
    },
    {
      "cell_type": "code",
      "metadata": {
        "id": "I2ZUnsDtXYkP",
        "colab_type": "code",
        "colab": {
          "base_uri": "https://localhost:8080/",
          "height": 85
        },
        "outputId": "c9c1db10-b128-4d05-fff8-5d6cc009415f"
      },
      "source": [
        "!pip install split-folders"
      ],
      "execution_count": null,
      "outputs": [
        {
          "output_type": "stream",
          "text": [
            "Collecting split-folders\n",
            "  Downloading https://files.pythonhosted.org/packages/20/67/29dda743e6d23ac1ea3d16704d8bbb48d65faf3f1b1eaf53153b3da56c56/split_folders-0.3.1-py3-none-any.whl\n",
            "Installing collected packages: split-folders\n",
            "Successfully installed split-folders-0.3.1\n"
          ],
          "name": "stdout"
        }
      ]
    },
    {
      "cell_type": "code",
      "metadata": {
        "id": "ex8GChVUVr3M",
        "colab_type": "code",
        "colab": {}
      },
      "source": [
        "import split_folders\n",
        "from pathlib import Path\n",
        "genres = 'A B C D E F G H'.split()\n",
        "for g in genres:\n",
        "    Path(f'img_data/{g}').mkdir(parents=True, exist_ok=True)\n",
        "    for filename in os.listdir(f'./content/drive/My Drive/Voice Analytics/Emotion-Classification-Ravdess-master/genres/{g}'):\n",
        "        songname = f'./content/drive/My Drive/Voice Analytics/Emotion-Classification-Ravdess-master/genres/{g}/{filename}'\n",
        "        y, sr = librosa.load(songname, mono=True, duration=5)\n",
        "        print(y.shape)\n",
        "        plt.specgram(y, NFFT=2048, Fs=2, Fc=0, noverlap=128, cmap=cmap, sides='default', mode='default', scale='dB');\n",
        "        plt.axis('off');\n",
        "        plt.savefig(f'img_data/{g}/{filename[:-3].replace(\".\", \"\")}.png')\n",
        "        plt.clf()\n",
        "        \n",
        "\n",
        "# To only split into training and validation set, set a tuple to `ratio`, i.e, `(.8, .2)`.\n",
        "split_folders.ratio('./img_data/', output=\"./data\", seed=1337, ratio=(.8, .2)) # default values\n",
        "\n",
        "from keras.preprocessing.image import ImageDataGenerator\n",
        "train_datagen = ImageDataGenerator(\n",
        "        rescale=1./255, # rescale all pixel values from 0-255, so aftre this step all our pixel values are in range (0,1)\n",
        "        shear_range=0.2, #to apply some random tranfromations\n",
        "        zoom_range=0.2, #to apply zoom\n",
        "        horizontal_flip=True) # image will be flipper horiz\n",
        "test_datagen = ImageDataGenerator(rescale=1./255)\n",
        "\n",
        "training_set = train_datagen.flow_from_directory(\n",
        "        '/content/drive/My Drive/Voice Analytics/Emotion-Classification-Ravdess-master/audio/',\n",
        "        target_size=(64, 64),\n",
        "        batch_size=32,\n",
        "        class_mode='categorical',\n",
        "        shuffle = False)\n",
        "test_set = test_datagen.flow_from_directory(\n",
        "        '/content/drive/My Drive/Voice Analytics/Emotion-Classification-Ravdess-master/audio1/',\n",
        "        target_size=(64, 64),\n",
        "        batch_size=32,\n",
        "        class_mode='categorical',\n",
        "        shuffle = False )"
      ],
      "execution_count": null,
      "outputs": []
    }
  ]
}